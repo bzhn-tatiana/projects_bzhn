{
 "cells": [
  {
   "cell_type": "markdown",
   "metadata": {},
   "source": [
    "# Финальный проект модуля Python\n",
    "#  «Анализ данных об оптовых продажах аудиотехники»"
   ]
  },
  {
   "cell_type": "markdown",
   "metadata": {},
   "source": [
    "**В финальном проекте модуля Python вам предстоит поработать аналитиком данных в компании «Карпов Саунд», которая занимается оптовой продажей аудиотехники и предлагает широкий ассортимент товаров от ведущих мировых брендов, включающий профессиональные аудиосистемы, домашние кинотеатры, портативные аудиоустройства и прочие аксессуары.** \n",
    "\n",
    "«Карпов Саунд» сотрудничает с крупными розничными сетями и специализированными магазинами аудиотехники в России. Клиенты компании регулярно оставляют заявки на закупку товаров в CRM системе, менеджеры связываются с клиентами, обсуждают детали, после чего заказы либо подтверждаются менеджерами, либо по разным причинам отменяются. \n",
    "\n",
    "В «Карпов Саунд» трепетно относятся к хранению информации о своих товарах, клиентах и заказах, однако в самый неподходящий момент хранилище данных компании оказалось временно недоступно из-за плановых работ по его оптимизации. Поэтому в рамках этого проекта все данные будут представлены не в самом удобном для анализа виде — в формате резервной выгрузки, разложенной по разным папкам на сервере компании.\n",
    "\n",
    "Вам необходимо собрать данные из разрозненных источников, проанализировать их и сделать выводы, которые помогут руководству компании принять верные тактические решения."
   ]
  },
  {
   "cell_type": "markdown",
   "metadata": {},
   "source": [
    "**В ходе работы над проектом вам встретятся следующие таблицы:**  \n",
    "\n",
    "1) orders (данные о заказах):  \n",
    "- order_id — номер заказа  \n",
    "- product_id — идентификатор товара  \n",
    "- quantity — количество этого товара в заказе\n",
    "\n",
    "2) order_status (данные о статусах заказов и клиентах):\n",
    "- order_id — номер заказа  \n",
    "- client_id — идентификатор клиента  \n",
    "- status — статус заказа\n",
    "\n",
    "3) products (данные о товарах):\n",
    "- id — идентификатор товара  \n",
    "- name — имя товара (сначала указан бренд, через запятую модель товара)  \n",
    "- price — цена единицы товара, в долларах"
   ]
  },
  {
   "cell_type": "markdown",
   "metadata": {},
   "source": [
    "Каждый заказ имеет статус или подтвержденного (`confirmed`), или отмененного (`canceled`). В одном заказе может быть несколько разных товаров. Если заказ был отменен, а потом создан такой же (тем же клиентом, с теми же товарами, у того же менеджера), в базе останется запись о двух заказах с разными номерами и статусами, поскольку система не позволяет создать заказ с тем же номером.\n",
    "\n",
    "Сначала вам нужно собрать и предобработать три типа датасетов: `orders.csv`, `order_status.csv`, `products.csv`."
   ]
  },
  {
   "cell_type": "markdown",
   "metadata": {},
   "source": [
    "На схеме показано, как связаны таблицы между собой:"
   ]
  },
  {
   "cell_type": "markdown",
   "metadata": {},
   "source": [
    "![](https://storage.yandexcloud.net/klms-public/production/learning-content/457/4167/37264/104636/497986/er_white.png)"
   ]
  },
  {
   "cell_type": "markdown",
   "metadata": {},
   "source": [
    "Данные находятся в папке `data` из директории `shared` (`shared` -> `homeworks` -> `python_ds_miniprojects` -> `final_project`). Внутри папки `data` находятся 2 другие папки: `orders` и `products`.\n",
    "\n",
    "В папке `orders` папки с датами, в которые сделаны записи. В этих папках — папки с именами менеджеров по продажам. Эти папки содержат файлы `orders.csv` и `order_status.csv` (в каждой папке по одной паре файлов). Пример структуры: `data` -> `orders` -> `2024-03-01` -> `Алексей Саксофонов` -> `orders.csv` и `order_status.csv`.\n",
    "\n",
    "В папке `products` папки с категориями товаров. В этих папках файлы `products.csv` (в каждой папке по одному файлу). Пример структуры: `data` -> `products` -> `AV-процессор` -> `products.csv`."
   ]
  },
  {
   "cell_type": "markdown",
   "metadata": {},
   "source": [
    "Кроме того у вас есть файл `usd_rate.txt` с курсом доллара США на каждый день анализируемого периода (данные в формате `дата,курс,валюта`). Он потребуется в середине проекта."
   ]
  },
  {
   "cell_type": "markdown",
   "metadata": {},
   "source": [
    "В финальном проекте модуля вы можете пользоваться подсказками в ноутбуке (они менее подробные, чем были в предыдущих уроках), обращаться за помощью к экспертам в Discord и смотреть разборы в LMS (за просмотр разбора снимается половина баллов за задание)."
   ]
  },
  {
   "cell_type": "markdown",
   "metadata": {},
   "source": [
    "### Соберем датасет с заказами по папкам"
   ]
  },
  {
   "cell_type": "markdown",
   "metadata": {},
   "source": [
    "## Шаг 2"
   ]
  },
  {
   "cell_type": "markdown",
   "metadata": {},
   "source": [
    "**Ваша первая задача — собрать данные со всех папок в три датафрейма:**  \n",
    "1. `df_orders` — на основе датасетов `orders.csv` + добавьте колонку `manager` с именами менеджеров и колонку `date` с датами. \n",
    "2. `df_order_status` — на основе датасетов `order_status.csv`.  \n",
    "3. `df_products` — на основе датасетов `products.csv` + добавьте колонку `category` с категориями товаров.  \n",
    "\n",
    "**Соберите датафреймы и сохраните их в соответствующие csv файлы: `df_orders.csv`, `df_order_status.csv` и `df_products.csv`. Отправьте файлы на проверку в LMS.**"
   ]
  },
  {
   "cell_type": "code",
   "execution_count": 334,
   "metadata": {},
   "outputs": [],
   "source": [
    "# Ваш код здесь\n",
    "import pandas as pd\n",
    "import os\n",
    "way = '/mnt/HC_Volume_18315164/home-jupyter/jupyter-tatjana-bazhan-cec-4a32c/shared/homeworks/python_ds_miniprojects/final_project/data'\n",
    "\n",
    "target_files = ['orders.csv', 'order_status.csv', 'products.csv']\n",
    "data_files = []\n",
    "\n",
    "for path, dirs, files in os.walk(way):\n",
    "    for file in files:\n",
    "        if file in target_files:\n",
    "            data_file = os.path.join(path, file)\n",
    "            data_files.append(data_file)"
   ]
  },
  {
   "cell_type": "code",
   "execution_count": 335,
   "metadata": {},
   "outputs": [
    {
     "data": {
      "text/plain": [
       "['/mnt/HC_Volume_18315164/home-jupyter/jupyter-tatjana-bazhan-cec-4a32c/shared/homeworks/python_ds_miniprojects/final_project/data/products/AV-ресивер/products.csv',\n",
       " '/mnt/HC_Volume_18315164/home-jupyter/jupyter-tatjana-bazhan-cec-4a32c/shared/homeworks/python_ds_miniprojects/final_project/data/products/Настенная акустика/products.csv',\n",
       " '/mnt/HC_Volume_18315164/home-jupyter/jupyter-tatjana-bazhan-cec-4a32c/shared/homeworks/python_ds_miniprojects/final_project/data/products/Система караоке/products.csv',\n",
       " '/mnt/HC_Volume_18315164/home-jupyter/jupyter-tatjana-bazhan-cec-4a32c/shared/homeworks/python_ds_miniprojects/final_project/data/products/Напольная акустика/products.csv',\n",
       " '/mnt/HC_Volume_18315164/home-jupyter/jupyter-tatjana-bazhan-cec-4a32c/shared/homeworks/python_ds_miniprojects/final_project/data/products/Полочная акустика/products.csv',\n",
       " '/mnt/HC_Volume_18315164/home-jupyter/jupyter-tatjana-bazhan-cec-4a32c/shared/homeworks/python_ds_miniprojects/final_project/data/products/Сабвуфер/products.csv',\n",
       " '/mnt/HC_Volume_18315164/home-jupyter/jupyter-tatjana-bazhan-cec-4a32c/shared/homeworks/python_ds_miniprojects/final_project/data/products/Саундбар/products.csv',\n",
       " '/mnt/HC_Volume_18315164/home-jupyter/jupyter-tatjana-bazhan-cec-4a32c/shared/homeworks/python_ds_miniprojects/final_project/data/products/Активные колонки/products.csv',\n",
       " '/mnt/HC_Volume_18315164/home-jupyter/jupyter-tatjana-bazhan-cec-4a32c/shared/homeworks/python_ds_miniprojects/final_project/data/products/Беспроводная акустика/products.csv',\n",
       " '/mnt/HC_Volume_18315164/home-jupyter/jupyter-tatjana-bazhan-cec-4a32c/shared/homeworks/python_ds_miniprojects/final_project/data/products/Конденсаторный микрофон/products.csv',\n",
       " '/mnt/HC_Volume_18315164/home-jupyter/jupyter-tatjana-bazhan-cec-4a32c/shared/homeworks/python_ds_miniprojects/final_project/data/products/Центральный канал/products.csv',\n",
       " '/mnt/HC_Volume_18315164/home-jupyter/jupyter-tatjana-bazhan-cec-4a32c/shared/homeworks/python_ds_miniprojects/final_project/data/products/Динамический микрофон/products.csv',\n",
       " '/mnt/HC_Volume_18315164/home-jupyter/jupyter-tatjana-bazhan-cec-4a32c/shared/homeworks/python_ds_miniprojects/final_project/data/products/AV-процессор/products.csv',\n",
       " '/mnt/HC_Volume_18315164/home-jupyter/jupyter-tatjana-bazhan-cec-4a32c/shared/homeworks/python_ds_miniprojects/final_project/data/products/Предусилитель/products.csv',\n",
       " '/mnt/HC_Volume_18315164/home-jupyter/jupyter-tatjana-bazhan-cec-4a32c/shared/homeworks/python_ds_miniprojects/final_project/data/products/Интегральный усилитель/products.csv',\n",
       " '/mnt/HC_Volume_18315164/home-jupyter/jupyter-tatjana-bazhan-cec-4a32c/shared/homeworks/python_ds_miniprojects/final_project/data/products/Виниловый проигрыватель/products.csv',\n",
       " '/mnt/HC_Volume_18315164/home-jupyter/jupyter-tatjana-bazhan-cec-4a32c/shared/homeworks/python_ds_miniprojects/final_project/data/products/Комплекты акустики/products.csv',\n",
       " '/mnt/HC_Volume_18315164/home-jupyter/jupyter-tatjana-bazhan-cec-4a32c/shared/homeworks/python_ds_miniprojects/final_project/data/products/Наушники с микрофоном/products.csv',\n",
       " '/mnt/HC_Volume_18315164/home-jupyter/jupyter-tatjana-bazhan-cec-4a32c/shared/homeworks/python_ds_miniprojects/final_project/data/products/Умная колонка/products.csv',\n",
       " '/mnt/HC_Volume_18315164/home-jupyter/jupyter-tatjana-bazhan-cec-4a32c/shared/homeworks/python_ds_miniprojects/final_project/data/products/Домашний кинотеатр/products.csv',\n",
       " '/mnt/HC_Volume_18315164/home-jupyter/jupyter-tatjana-bazhan-cec-4a32c/shared/homeworks/python_ds_miniprojects/final_project/data/products/Ламповый усилитель/products.csv',\n",
       " '/mnt/HC_Volume_18315164/home-jupyter/jupyter-tatjana-bazhan-cec-4a32c/shared/homeworks/python_ds_miniprojects/final_project/data/products/Музыкальный центр/products.csv',\n",
       " '/mnt/HC_Volume_18315164/home-jupyter/jupyter-tatjana-bazhan-cec-4a32c/shared/homeworks/python_ds_miniprojects/final_project/data/products/Портативная акустика/products.csv',\n",
       " '/mnt/HC_Volume_18315164/home-jupyter/jupyter-tatjana-bazhan-cec-4a32c/shared/homeworks/python_ds_miniprojects/final_project/data/products/Проводные наушники/products.csv',\n",
       " '/mnt/HC_Volume_18315164/home-jupyter/jupyter-tatjana-bazhan-cec-4a32c/shared/homeworks/python_ds_miniprojects/final_project/data/products/Усилитель мощности/products.csv',\n",
       " '/mnt/HC_Volume_18315164/home-jupyter/jupyter-tatjana-bazhan-cec-4a32c/shared/homeworks/python_ds_miniprojects/final_project/data/products/Беспроводные наушники/products.csv',\n",
       " '/mnt/HC_Volume_18315164/home-jupyter/jupyter-tatjana-bazhan-cec-4a32c/shared/homeworks/python_ds_miniprojects/final_project/data/orders/2024-03-10/Владимир Ударников/orders.csv',\n",
       " '/mnt/HC_Volume_18315164/home-jupyter/jupyter-tatjana-bazhan-cec-4a32c/shared/homeworks/python_ds_miniprojects/final_project/data/orders/2024-03-10/Владимир Ударников/order_status.csv',\n",
       " '/mnt/HC_Volume_18315164/home-jupyter/jupyter-tatjana-bazhan-cec-4a32c/shared/homeworks/python_ds_miniprojects/final_project/data/orders/2024-03-10/Екатерина Тарелкина/orders.csv',\n",
       " '/mnt/HC_Volume_18315164/home-jupyter/jupyter-tatjana-bazhan-cec-4a32c/shared/homeworks/python_ds_miniprojects/final_project/data/orders/2024-03-10/Екатерина Тарелкина/order_status.csv',\n",
       " '/mnt/HC_Volume_18315164/home-jupyter/jupyter-tatjana-bazhan-cec-4a32c/shared/homeworks/python_ds_miniprojects/final_project/data/orders/2024-03-10/Сергей Контрабасов/orders.csv',\n",
       " '/mnt/HC_Volume_18315164/home-jupyter/jupyter-tatjana-bazhan-cec-4a32c/shared/homeworks/python_ds_miniprojects/final_project/data/orders/2024-03-10/Сергей Контрабасов/order_status.csv',\n",
       " '/mnt/HC_Volume_18315164/home-jupyter/jupyter-tatjana-bazhan-cec-4a32c/shared/homeworks/python_ds_miniprojects/final_project/data/orders/2024-03-01/Владимир Ударников/orders.csv',\n",
       " '/mnt/HC_Volume_18315164/home-jupyter/jupyter-tatjana-bazhan-cec-4a32c/shared/homeworks/python_ds_miniprojects/final_project/data/orders/2024-03-01/Владимир Ударников/order_status.csv',\n",
       " '/mnt/HC_Volume_18315164/home-jupyter/jupyter-tatjana-bazhan-cec-4a32c/shared/homeworks/python_ds_miniprojects/final_project/data/orders/2024-03-01/Екатерина Тарелкина/orders.csv',\n",
       " '/mnt/HC_Volume_18315164/home-jupyter/jupyter-tatjana-bazhan-cec-4a32c/shared/homeworks/python_ds_miniprojects/final_project/data/orders/2024-03-01/Екатерина Тарелкина/order_status.csv',\n",
       " '/mnt/HC_Volume_18315164/home-jupyter/jupyter-tatjana-bazhan-cec-4a32c/shared/homeworks/python_ds_miniprojects/final_project/data/orders/2024-03-01/Надежда Гармошкина/orders.csv',\n",
       " '/mnt/HC_Volume_18315164/home-jupyter/jupyter-tatjana-bazhan-cec-4a32c/shared/homeworks/python_ds_miniprojects/final_project/data/orders/2024-03-01/Надежда Гармошкина/order_status.csv',\n",
       " '/mnt/HC_Volume_18315164/home-jupyter/jupyter-tatjana-bazhan-cec-4a32c/shared/homeworks/python_ds_miniprojects/final_project/data/orders/2024-03-01/Сергей Контрабасов/orders.csv',\n",
       " '/mnt/HC_Volume_18315164/home-jupyter/jupyter-tatjana-bazhan-cec-4a32c/shared/homeworks/python_ds_miniprojects/final_project/data/orders/2024-03-01/Сергей Контрабасов/order_status.csv',\n",
       " '/mnt/HC_Volume_18315164/home-jupyter/jupyter-tatjana-bazhan-cec-4a32c/shared/homeworks/python_ds_miniprojects/final_project/data/orders/2024-03-01/Алексей Саксофонов/orders.csv',\n",
       " '/mnt/HC_Volume_18315164/home-jupyter/jupyter-tatjana-bazhan-cec-4a32c/shared/homeworks/python_ds_miniprojects/final_project/data/orders/2024-03-01/Алексей Саксофонов/order_status.csv',\n",
       " '/mnt/HC_Volume_18315164/home-jupyter/jupyter-tatjana-bazhan-cec-4a32c/shared/homeworks/python_ds_miniprojects/final_project/data/orders/2024-03-01/Аркадий Октавин/orders.csv',\n",
       " '/mnt/HC_Volume_18315164/home-jupyter/jupyter-tatjana-bazhan-cec-4a32c/shared/homeworks/python_ds_miniprojects/final_project/data/orders/2024-03-01/Аркадий Октавин/order_status.csv',\n",
       " '/mnt/HC_Volume_18315164/home-jupyter/jupyter-tatjana-bazhan-cec-4a32c/shared/homeworks/python_ds_miniprojects/final_project/data/orders/2024-03-01/Виктор Тромбонов/orders.csv',\n",
       " '/mnt/HC_Volume_18315164/home-jupyter/jupyter-tatjana-bazhan-cec-4a32c/shared/homeworks/python_ds_miniprojects/final_project/data/orders/2024-03-01/Виктор Тромбонов/order_status.csv',\n",
       " '/mnt/HC_Volume_18315164/home-jupyter/jupyter-tatjana-bazhan-cec-4a32c/shared/homeworks/python_ds_miniprojects/final_project/data/orders/2024-03-01/Максим Барабанов/orders.csv',\n",
       " '/mnt/HC_Volume_18315164/home-jupyter/jupyter-tatjana-bazhan-cec-4a32c/shared/homeworks/python_ds_miniprojects/final_project/data/orders/2024-03-01/Максим Барабанов/order_status.csv',\n",
       " '/mnt/HC_Volume_18315164/home-jupyter/jupyter-tatjana-bazhan-cec-4a32c/shared/homeworks/python_ds_miniprojects/final_project/data/orders/2024-03-01/Маргарита Камертонова/orders.csv',\n",
       " '/mnt/HC_Volume_18315164/home-jupyter/jupyter-tatjana-bazhan-cec-4a32c/shared/homeworks/python_ds_miniprojects/final_project/data/orders/2024-03-01/Маргарита Камертонова/order_status.csv',\n",
       " '/mnt/HC_Volume_18315164/home-jupyter/jupyter-tatjana-bazhan-cec-4a32c/shared/homeworks/python_ds_miniprojects/final_project/data/orders/2024-03-01/Ксения Балалайкина/orders.csv',\n",
       " '/mnt/HC_Volume_18315164/home-jupyter/jupyter-tatjana-bazhan-cec-4a32c/shared/homeworks/python_ds_miniprojects/final_project/data/orders/2024-03-01/Ксения Балалайкина/order_status.csv',\n",
       " '/mnt/HC_Volume_18315164/home-jupyter/jupyter-tatjana-bazhan-cec-4a32c/shared/homeworks/python_ds_miniprojects/final_project/data/orders/2024-03-27/Владимир Ударников/orders.csv',\n",
       " '/mnt/HC_Volume_18315164/home-jupyter/jupyter-tatjana-bazhan-cec-4a32c/shared/homeworks/python_ds_miniprojects/final_project/data/orders/2024-03-27/Владимир Ударников/order_status.csv',\n",
       " '/mnt/HC_Volume_18315164/home-jupyter/jupyter-tatjana-bazhan-cec-4a32c/shared/homeworks/python_ds_miniprojects/final_project/data/orders/2024-03-27/Надежда Гармошкина/orders.csv',\n",
       " '/mnt/HC_Volume_18315164/home-jupyter/jupyter-tatjana-bazhan-cec-4a32c/shared/homeworks/python_ds_miniprojects/final_project/data/orders/2024-03-27/Надежда Гармошкина/order_status.csv',\n",
       " '/mnt/HC_Volume_18315164/home-jupyter/jupyter-tatjana-bazhan-cec-4a32c/shared/homeworks/python_ds_miniprojects/final_project/data/orders/2024-03-27/Анастасия Дудкина/orders.csv',\n",
       " '/mnt/HC_Volume_18315164/home-jupyter/jupyter-tatjana-bazhan-cec-4a32c/shared/homeworks/python_ds_miniprojects/final_project/data/orders/2024-03-27/Анастасия Дудкина/order_status.csv',\n",
       " '/mnt/HC_Volume_18315164/home-jupyter/jupyter-tatjana-bazhan-cec-4a32c/shared/homeworks/python_ds_miniprojects/final_project/data/orders/2024-03-27/Алексей Саксофонов/orders.csv',\n",
       " '/mnt/HC_Volume_18315164/home-jupyter/jupyter-tatjana-bazhan-cec-4a32c/shared/homeworks/python_ds_miniprojects/final_project/data/orders/2024-03-27/Алексей Саксофонов/order_status.csv',\n",
       " '/mnt/HC_Volume_18315164/home-jupyter/jupyter-tatjana-bazhan-cec-4a32c/shared/homeworks/python_ds_miniprojects/final_project/data/orders/2024-03-27/Виктор Тромбонов/orders.csv',\n",
       " '/mnt/HC_Volume_18315164/home-jupyter/jupyter-tatjana-bazhan-cec-4a32c/shared/homeworks/python_ds_miniprojects/final_project/data/orders/2024-03-27/Виктор Тромбонов/order_status.csv',\n",
       " '/mnt/HC_Volume_18315164/home-jupyter/jupyter-tatjana-bazhan-cec-4a32c/shared/homeworks/python_ds_miniprojects/final_project/data/orders/2024-03-27/Максим Барабанов/orders.csv',\n",
       " '/mnt/HC_Volume_18315164/home-jupyter/jupyter-tatjana-bazhan-cec-4a32c/shared/homeworks/python_ds_miniprojects/final_project/data/orders/2024-03-27/Максим Барабанов/order_status.csv',\n",
       " '/mnt/HC_Volume_18315164/home-jupyter/jupyter-tatjana-bazhan-cec-4a32c/shared/homeworks/python_ds_miniprojects/final_project/data/orders/2024-03-27/Маргарита Камертонова/orders.csv',\n",
       " '/mnt/HC_Volume_18315164/home-jupyter/jupyter-tatjana-bazhan-cec-4a32c/shared/homeworks/python_ds_miniprojects/final_project/data/orders/2024-03-27/Маргарита Камертонова/order_status.csv',\n",
       " '/mnt/HC_Volume_18315164/home-jupyter/jupyter-tatjana-bazhan-cec-4a32c/shared/homeworks/python_ds_miniprojects/final_project/data/orders/2024-03-27/Ксения Балалайкина/orders.csv',\n",
       " '/mnt/HC_Volume_18315164/home-jupyter/jupyter-tatjana-bazhan-cec-4a32c/shared/homeworks/python_ds_miniprojects/final_project/data/orders/2024-03-27/Ксения Балалайкина/order_status.csv',\n",
       " '/mnt/HC_Volume_18315164/home-jupyter/jupyter-tatjana-bazhan-cec-4a32c/shared/homeworks/python_ds_miniprojects/final_project/data/orders/2024-03-18/Владимир Ударников/orders.csv',\n",
       " '/mnt/HC_Volume_18315164/home-jupyter/jupyter-tatjana-bazhan-cec-4a32c/shared/homeworks/python_ds_miniprojects/final_project/data/orders/2024-03-18/Владимир Ударников/order_status.csv',\n",
       " '/mnt/HC_Volume_18315164/home-jupyter/jupyter-tatjana-bazhan-cec-4a32c/shared/homeworks/python_ds_miniprojects/final_project/data/orders/2024-03-18/Надежда Гармошкина/orders.csv',\n",
       " '/mnt/HC_Volume_18315164/home-jupyter/jupyter-tatjana-bazhan-cec-4a32c/shared/homeworks/python_ds_miniprojects/final_project/data/orders/2024-03-18/Надежда Гармошкина/order_status.csv',\n",
       " '/mnt/HC_Volume_18315164/home-jupyter/jupyter-tatjana-bazhan-cec-4a32c/shared/homeworks/python_ds_miniprojects/final_project/data/orders/2024-03-18/Анастасия Дудкина/orders.csv',\n",
       " '/mnt/HC_Volume_18315164/home-jupyter/jupyter-tatjana-bazhan-cec-4a32c/shared/homeworks/python_ds_miniprojects/final_project/data/orders/2024-03-18/Анастасия Дудкина/order_status.csv',\n",
       " '/mnt/HC_Volume_18315164/home-jupyter/jupyter-tatjana-bazhan-cec-4a32c/shared/homeworks/python_ds_miniprojects/final_project/data/orders/2024-03-18/Сергей Контрабасов/orders.csv',\n",
       " '/mnt/HC_Volume_18315164/home-jupyter/jupyter-tatjana-bazhan-cec-4a32c/shared/homeworks/python_ds_miniprojects/final_project/data/orders/2024-03-18/Сергей Контрабасов/order_status.csv',\n",
       " '/mnt/HC_Volume_18315164/home-jupyter/jupyter-tatjana-bazhan-cec-4a32c/shared/homeworks/python_ds_miniprojects/final_project/data/orders/2024-03-18/Аркадий Октавин/orders.csv',\n",
       " '/mnt/HC_Volume_18315164/home-jupyter/jupyter-tatjana-bazhan-cec-4a32c/shared/homeworks/python_ds_miniprojects/final_project/data/orders/2024-03-18/Аркадий Октавин/order_status.csv',\n",
       " '/mnt/HC_Volume_18315164/home-jupyter/jupyter-tatjana-bazhan-cec-4a32c/shared/homeworks/python_ds_miniprojects/final_project/data/orders/2024-03-18/Виктор Тромбонов/orders.csv',\n",
       " '/mnt/HC_Volume_18315164/home-jupyter/jupyter-tatjana-bazhan-cec-4a32c/shared/homeworks/python_ds_miniprojects/final_project/data/orders/2024-03-18/Виктор Тромбонов/order_status.csv',\n",
       " '/mnt/HC_Volume_18315164/home-jupyter/jupyter-tatjana-bazhan-cec-4a32c/shared/homeworks/python_ds_miniprojects/final_project/data/orders/2024-03-18/Максим Барабанов/orders.csv',\n",
       " '/mnt/HC_Volume_18315164/home-jupyter/jupyter-tatjana-bazhan-cec-4a32c/shared/homeworks/python_ds_miniprojects/final_project/data/orders/2024-03-18/Максим Барабанов/order_status.csv',\n",
       " '/mnt/HC_Volume_18315164/home-jupyter/jupyter-tatjana-bazhan-cec-4a32c/shared/homeworks/python_ds_miniprojects/final_project/data/orders/2024-03-18/Маргарита Камертонова/orders.csv',\n",
       " '/mnt/HC_Volume_18315164/home-jupyter/jupyter-tatjana-bazhan-cec-4a32c/shared/homeworks/python_ds_miniprojects/final_project/data/orders/2024-03-18/Маргарита Камертонова/order_status.csv',\n",
       " '/mnt/HC_Volume_18315164/home-jupyter/jupyter-tatjana-bazhan-cec-4a32c/shared/homeworks/python_ds_miniprojects/final_project/data/orders/2024-03-28/Владимир Ударников/orders.csv',\n",
       " '/mnt/HC_Volume_18315164/home-jupyter/jupyter-tatjana-bazhan-cec-4a32c/shared/homeworks/python_ds_miniprojects/final_project/data/orders/2024-03-28/Владимир Ударников/order_status.csv',\n",
       " '/mnt/HC_Volume_18315164/home-jupyter/jupyter-tatjana-bazhan-cec-4a32c/shared/homeworks/python_ds_miniprojects/final_project/data/orders/2024-03-28/Екатерина Тарелкина/orders.csv',\n",
       " '/mnt/HC_Volume_18315164/home-jupyter/jupyter-tatjana-bazhan-cec-4a32c/shared/homeworks/python_ds_miniprojects/final_project/data/orders/2024-03-28/Екатерина Тарелкина/order_status.csv',\n",
       " '/mnt/HC_Volume_18315164/home-jupyter/jupyter-tatjana-bazhan-cec-4a32c/shared/homeworks/python_ds_miniprojects/final_project/data/orders/2024-03-28/Надежда Гармошкина/orders.csv',\n",
       " '/mnt/HC_Volume_18315164/home-jupyter/jupyter-tatjana-bazhan-cec-4a32c/shared/homeworks/python_ds_miniprojects/final_project/data/orders/2024-03-28/Надежда Гармошкина/order_status.csv',\n",
       " '/mnt/HC_Volume_18315164/home-jupyter/jupyter-tatjana-bazhan-cec-4a32c/shared/homeworks/python_ds_miniprojects/final_project/data/orders/2024-03-28/Анастасия Дудкина/orders.csv',\n",
       " '/mnt/HC_Volume_18315164/home-jupyter/jupyter-tatjana-bazhan-cec-4a32c/shared/homeworks/python_ds_miniprojects/final_project/data/orders/2024-03-28/Анастасия Дудкина/order_status.csv',\n",
       " '/mnt/HC_Volume_18315164/home-jupyter/jupyter-tatjana-bazhan-cec-4a32c/shared/homeworks/python_ds_miniprojects/final_project/data/orders/2024-03-28/Алексей Саксофонов/orders.csv',\n",
       " '/mnt/HC_Volume_18315164/home-jupyter/jupyter-tatjana-bazhan-cec-4a32c/shared/homeworks/python_ds_miniprojects/final_project/data/orders/2024-03-28/Алексей Саксофонов/order_status.csv',\n",
       " '/mnt/HC_Volume_18315164/home-jupyter/jupyter-tatjana-bazhan-cec-4a32c/shared/homeworks/python_ds_miniprojects/final_project/data/orders/2024-03-28/Виктор Тромбонов/orders.csv',\n",
       " '/mnt/HC_Volume_18315164/home-jupyter/jupyter-tatjana-bazhan-cec-4a32c/shared/homeworks/python_ds_miniprojects/final_project/data/orders/2024-03-28/Виктор Тромбонов/order_status.csv',\n",
       " '/mnt/HC_Volume_18315164/home-jupyter/jupyter-tatjana-bazhan-cec-4a32c/shared/homeworks/python_ds_miniprojects/final_project/data/orders/2024-03-28/Маргарита Камертонова/orders.csv',\n",
       " '/mnt/HC_Volume_18315164/home-jupyter/jupyter-tatjana-bazhan-cec-4a32c/shared/homeworks/python_ds_miniprojects/final_project/data/orders/2024-03-28/Маргарита Камертонова/order_status.csv',\n",
       " '/mnt/HC_Volume_18315164/home-jupyter/jupyter-tatjana-bazhan-cec-4a32c/shared/homeworks/python_ds_miniprojects/final_project/data/orders/2024-03-28/Ксения Балалайкина/orders.csv',\n",
       " '/mnt/HC_Volume_18315164/home-jupyter/jupyter-tatjana-bazhan-cec-4a32c/shared/homeworks/python_ds_miniprojects/final_project/data/orders/2024-03-28/Ксения Балалайкина/order_status.csv',\n",
       " '/mnt/HC_Volume_18315164/home-jupyter/jupyter-tatjana-bazhan-cec-4a32c/shared/homeworks/python_ds_miniprojects/final_project/data/orders/2024-03-23/Екатерина Тарелкина/orders.csv',\n",
       " '/mnt/HC_Volume_18315164/home-jupyter/jupyter-tatjana-bazhan-cec-4a32c/shared/homeworks/python_ds_miniprojects/final_project/data/orders/2024-03-23/Екатерина Тарелкина/order_status.csv',\n",
       " '/mnt/HC_Volume_18315164/home-jupyter/jupyter-tatjana-bazhan-cec-4a32c/shared/homeworks/python_ds_miniprojects/final_project/data/orders/2024-03-23/Виктор Тромбонов/orders.csv',\n",
       " '/mnt/HC_Volume_18315164/home-jupyter/jupyter-tatjana-bazhan-cec-4a32c/shared/homeworks/python_ds_miniprojects/final_project/data/orders/2024-03-23/Виктор Тромбонов/order_status.csv',\n",
       " '/mnt/HC_Volume_18315164/home-jupyter/jupyter-tatjana-bazhan-cec-4a32c/shared/homeworks/python_ds_miniprojects/final_project/data/orders/2024-03-23/Ксения Балалайкина/orders.csv',\n",
       " '/mnt/HC_Volume_18315164/home-jupyter/jupyter-tatjana-bazhan-cec-4a32c/shared/homeworks/python_ds_miniprojects/final_project/data/orders/2024-03-23/Ксения Балалайкина/order_status.csv',\n",
       " '/mnt/HC_Volume_18315164/home-jupyter/jupyter-tatjana-bazhan-cec-4a32c/shared/homeworks/python_ds_miniprojects/final_project/data/orders/2024-03-05/Владимир Ударников/orders.csv',\n",
       " '/mnt/HC_Volume_18315164/home-jupyter/jupyter-tatjana-bazhan-cec-4a32c/shared/homeworks/python_ds_miniprojects/final_project/data/orders/2024-03-05/Владимир Ударников/order_status.csv',\n",
       " '/mnt/HC_Volume_18315164/home-jupyter/jupyter-tatjana-bazhan-cec-4a32c/shared/homeworks/python_ds_miniprojects/final_project/data/orders/2024-03-05/Екатерина Тарелкина/orders.csv',\n",
       " '/mnt/HC_Volume_18315164/home-jupyter/jupyter-tatjana-bazhan-cec-4a32c/shared/homeworks/python_ds_miniprojects/final_project/data/orders/2024-03-05/Екатерина Тарелкина/order_status.csv',\n",
       " '/mnt/HC_Volume_18315164/home-jupyter/jupyter-tatjana-bazhan-cec-4a32c/shared/homeworks/python_ds_miniprojects/final_project/data/orders/2024-03-05/Антон Скрипкин/orders.csv',\n",
       " '/mnt/HC_Volume_18315164/home-jupyter/jupyter-tatjana-bazhan-cec-4a32c/shared/homeworks/python_ds_miniprojects/final_project/data/orders/2024-03-05/Антон Скрипкин/order_status.csv',\n",
       " '/mnt/HC_Volume_18315164/home-jupyter/jupyter-tatjana-bazhan-cec-4a32c/shared/homeworks/python_ds_miniprojects/final_project/data/orders/2024-03-05/Надежда Гармошкина/orders.csv',\n",
       " '/mnt/HC_Volume_18315164/home-jupyter/jupyter-tatjana-bazhan-cec-4a32c/shared/homeworks/python_ds_miniprojects/final_project/data/orders/2024-03-05/Надежда Гармошкина/order_status.csv',\n",
       " '/mnt/HC_Volume_18315164/home-jupyter/jupyter-tatjana-bazhan-cec-4a32c/shared/homeworks/python_ds_miniprojects/final_project/data/orders/2024-03-05/Анастасия Дудкина/orders.csv',\n",
       " '/mnt/HC_Volume_18315164/home-jupyter/jupyter-tatjana-bazhan-cec-4a32c/shared/homeworks/python_ds_miniprojects/final_project/data/orders/2024-03-05/Анастасия Дудкина/order_status.csv',\n",
       " '/mnt/HC_Volume_18315164/home-jupyter/jupyter-tatjana-bazhan-cec-4a32c/shared/homeworks/python_ds_miniprojects/final_project/data/orders/2024-03-05/Алексей Саксофонов/orders.csv',\n",
       " '/mnt/HC_Volume_18315164/home-jupyter/jupyter-tatjana-bazhan-cec-4a32c/shared/homeworks/python_ds_miniprojects/final_project/data/orders/2024-03-05/Алексей Саксофонов/order_status.csv',\n",
       " '/mnt/HC_Volume_18315164/home-jupyter/jupyter-tatjana-bazhan-cec-4a32c/shared/homeworks/python_ds_miniprojects/final_project/data/orders/2024-03-05/Виктор Тромбонов/orders.csv',\n",
       " '/mnt/HC_Volume_18315164/home-jupyter/jupyter-tatjana-bazhan-cec-4a32c/shared/homeworks/python_ds_miniprojects/final_project/data/orders/2024-03-05/Виктор Тромбонов/order_status.csv',\n",
       " '/mnt/HC_Volume_18315164/home-jupyter/jupyter-tatjana-bazhan-cec-4a32c/shared/homeworks/python_ds_miniprojects/final_project/data/orders/2024-03-05/Максим Барабанов/orders.csv',\n",
       " '/mnt/HC_Volume_18315164/home-jupyter/jupyter-tatjana-bazhan-cec-4a32c/shared/homeworks/python_ds_miniprojects/final_project/data/orders/2024-03-05/Максим Барабанов/order_status.csv',\n",
       " '/mnt/HC_Volume_18315164/home-jupyter/jupyter-tatjana-bazhan-cec-4a32c/shared/homeworks/python_ds_miniprojects/final_project/data/orders/2024-03-05/Маргарита Камертонова/orders.csv',\n",
       " '/mnt/HC_Volume_18315164/home-jupyter/jupyter-tatjana-bazhan-cec-4a32c/shared/homeworks/python_ds_miniprojects/final_project/data/orders/2024-03-05/Маргарита Камертонова/order_status.csv',\n",
       " '/mnt/HC_Volume_18315164/home-jupyter/jupyter-tatjana-bazhan-cec-4a32c/shared/homeworks/python_ds_miniprojects/final_project/data/orders/2024-03-17/Екатерина Тарелкина/orders.csv',\n",
       " '/mnt/HC_Volume_18315164/home-jupyter/jupyter-tatjana-bazhan-cec-4a32c/shared/homeworks/python_ds_miniprojects/final_project/data/orders/2024-03-17/Екатерина Тарелкина/order_status.csv',\n",
       " '/mnt/HC_Volume_18315164/home-jupyter/jupyter-tatjana-bazhan-cec-4a32c/shared/homeworks/python_ds_miniprojects/final_project/data/orders/2024-03-17/Виктор Тромбонов/orders.csv',\n",
       " '/mnt/HC_Volume_18315164/home-jupyter/jupyter-tatjana-bazhan-cec-4a32c/shared/homeworks/python_ds_miniprojects/final_project/data/orders/2024-03-17/Виктор Тромбонов/order_status.csv',\n",
       " '/mnt/HC_Volume_18315164/home-jupyter/jupyter-tatjana-bazhan-cec-4a32c/shared/homeworks/python_ds_miniprojects/final_project/data/orders/2024-03-17/Маргарита Камертонова/orders.csv',\n",
       " '/mnt/HC_Volume_18315164/home-jupyter/jupyter-tatjana-bazhan-cec-4a32c/shared/homeworks/python_ds_miniprojects/final_project/data/orders/2024-03-17/Маргарита Камертонова/order_status.csv',\n",
       " '/mnt/HC_Volume_18315164/home-jupyter/jupyter-tatjana-bazhan-cec-4a32c/shared/homeworks/python_ds_miniprojects/final_project/data/orders/2024-03-08/Максим Барабанов/orders.csv',\n",
       " '/mnt/HC_Volume_18315164/home-jupyter/jupyter-tatjana-bazhan-cec-4a32c/shared/homeworks/python_ds_miniprojects/final_project/data/orders/2024-03-08/Максим Барабанов/order_status.csv',\n",
       " '/mnt/HC_Volume_18315164/home-jupyter/jupyter-tatjana-bazhan-cec-4a32c/shared/homeworks/python_ds_miniprojects/final_project/data/orders/2024-03-06/Владимир Ударников/orders.csv',\n",
       " '/mnt/HC_Volume_18315164/home-jupyter/jupyter-tatjana-bazhan-cec-4a32c/shared/homeworks/python_ds_miniprojects/final_project/data/orders/2024-03-06/Владимир Ударников/order_status.csv',\n",
       " '/mnt/HC_Volume_18315164/home-jupyter/jupyter-tatjana-bazhan-cec-4a32c/shared/homeworks/python_ds_miniprojects/final_project/data/orders/2024-03-06/Екатерина Тарелкина/orders.csv',\n",
       " '/mnt/HC_Volume_18315164/home-jupyter/jupyter-tatjana-bazhan-cec-4a32c/shared/homeworks/python_ds_miniprojects/final_project/data/orders/2024-03-06/Екатерина Тарелкина/order_status.csv',\n",
       " '/mnt/HC_Volume_18315164/home-jupyter/jupyter-tatjana-bazhan-cec-4a32c/shared/homeworks/python_ds_miniprojects/final_project/data/orders/2024-03-06/Антон Скрипкин/orders.csv',\n",
       " '/mnt/HC_Volume_18315164/home-jupyter/jupyter-tatjana-bazhan-cec-4a32c/shared/homeworks/python_ds_miniprojects/final_project/data/orders/2024-03-06/Антон Скрипкин/order_status.csv',\n",
       " '/mnt/HC_Volume_18315164/home-jupyter/jupyter-tatjana-bazhan-cec-4a32c/shared/homeworks/python_ds_miniprojects/final_project/data/orders/2024-03-06/Алексей Саксофонов/orders.csv',\n",
       " '/mnt/HC_Volume_18315164/home-jupyter/jupyter-tatjana-bazhan-cec-4a32c/shared/homeworks/python_ds_miniprojects/final_project/data/orders/2024-03-06/Алексей Саксофонов/order_status.csv',\n",
       " '/mnt/HC_Volume_18315164/home-jupyter/jupyter-tatjana-bazhan-cec-4a32c/shared/homeworks/python_ds_miniprojects/final_project/data/orders/2024-03-06/Виктор Тромбонов/orders.csv',\n",
       " '/mnt/HC_Volume_18315164/home-jupyter/jupyter-tatjana-bazhan-cec-4a32c/shared/homeworks/python_ds_miniprojects/final_project/data/orders/2024-03-06/Виктор Тромбонов/order_status.csv',\n",
       " '/mnt/HC_Volume_18315164/home-jupyter/jupyter-tatjana-bazhan-cec-4a32c/shared/homeworks/python_ds_miniprojects/final_project/data/orders/2024-03-06/Максим Барабанов/orders.csv',\n",
       " '/mnt/HC_Volume_18315164/home-jupyter/jupyter-tatjana-bazhan-cec-4a32c/shared/homeworks/python_ds_miniprojects/final_project/data/orders/2024-03-06/Максим Барабанов/order_status.csv',\n",
       " '/mnt/HC_Volume_18315164/home-jupyter/jupyter-tatjana-bazhan-cec-4a32c/shared/homeworks/python_ds_miniprojects/final_project/data/orders/2024-03-06/Маргарита Камертонова/orders.csv',\n",
       " '/mnt/HC_Volume_18315164/home-jupyter/jupyter-tatjana-bazhan-cec-4a32c/shared/homeworks/python_ds_miniprojects/final_project/data/orders/2024-03-06/Маргарита Камертонова/order_status.csv',\n",
       " '/mnt/HC_Volume_18315164/home-jupyter/jupyter-tatjana-bazhan-cec-4a32c/shared/homeworks/python_ds_miniprojects/final_project/data/orders/2024-03-16/Максим Барабанов/orders.csv',\n",
       " '/mnt/HC_Volume_18315164/home-jupyter/jupyter-tatjana-bazhan-cec-4a32c/shared/homeworks/python_ds_miniprojects/final_project/data/orders/2024-03-16/Максим Барабанов/order_status.csv',\n",
       " '/mnt/HC_Volume_18315164/home-jupyter/jupyter-tatjana-bazhan-cec-4a32c/shared/homeworks/python_ds_miniprojects/final_project/data/orders/2024-03-16/Маргарита Камертонова/orders.csv',\n",
       " '/mnt/HC_Volume_18315164/home-jupyter/jupyter-tatjana-bazhan-cec-4a32c/shared/homeworks/python_ds_miniprojects/final_project/data/orders/2024-03-16/Маргарита Камертонова/order_status.csv',\n",
       " '/mnt/HC_Volume_18315164/home-jupyter/jupyter-tatjana-bazhan-cec-4a32c/shared/homeworks/python_ds_miniprojects/final_project/data/orders/2024-03-22/Надежда Гармошкина/orders.csv',\n",
       " '/mnt/HC_Volume_18315164/home-jupyter/jupyter-tatjana-bazhan-cec-4a32c/shared/homeworks/python_ds_miniprojects/final_project/data/orders/2024-03-22/Надежда Гармошкина/order_status.csv',\n",
       " '/mnt/HC_Volume_18315164/home-jupyter/jupyter-tatjana-bazhan-cec-4a32c/shared/homeworks/python_ds_miniprojects/final_project/data/orders/2024-03-22/Анастасия Дудкина/orders.csv',\n",
       " '/mnt/HC_Volume_18315164/home-jupyter/jupyter-tatjana-bazhan-cec-4a32c/shared/homeworks/python_ds_miniprojects/final_project/data/orders/2024-03-22/Анастасия Дудкина/order_status.csv',\n",
       " '/mnt/HC_Volume_18315164/home-jupyter/jupyter-tatjana-bazhan-cec-4a32c/shared/homeworks/python_ds_miniprojects/final_project/data/orders/2024-03-22/Алексей Саксофонов/orders.csv',\n",
       " '/mnt/HC_Volume_18315164/home-jupyter/jupyter-tatjana-bazhan-cec-4a32c/shared/homeworks/python_ds_miniprojects/final_project/data/orders/2024-03-22/Алексей Саксофонов/order_status.csv',\n",
       " '/mnt/HC_Volume_18315164/home-jupyter/jupyter-tatjana-bazhan-cec-4a32c/shared/homeworks/python_ds_miniprojects/final_project/data/orders/2024-03-22/Виктор Тромбонов/orders.csv',\n",
       " '/mnt/HC_Volume_18315164/home-jupyter/jupyter-tatjana-bazhan-cec-4a32c/shared/homeworks/python_ds_miniprojects/final_project/data/orders/2024-03-22/Виктор Тромбонов/order_status.csv',\n",
       " '/mnt/HC_Volume_18315164/home-jupyter/jupyter-tatjana-bazhan-cec-4a32c/shared/homeworks/python_ds_miniprojects/final_project/data/orders/2024-03-22/Максим Барабанов/orders.csv',\n",
       " '/mnt/HC_Volume_18315164/home-jupyter/jupyter-tatjana-bazhan-cec-4a32c/shared/homeworks/python_ds_miniprojects/final_project/data/orders/2024-03-22/Максим Барабанов/order_status.csv',\n",
       " '/mnt/HC_Volume_18315164/home-jupyter/jupyter-tatjana-bazhan-cec-4a32c/shared/homeworks/python_ds_miniprojects/final_project/data/orders/2024-03-22/Маргарита Камертонова/orders.csv',\n",
       " '/mnt/HC_Volume_18315164/home-jupyter/jupyter-tatjana-bazhan-cec-4a32c/shared/homeworks/python_ds_miniprojects/final_project/data/orders/2024-03-22/Маргарита Камертонова/order_status.csv',\n",
       " '/mnt/HC_Volume_18315164/home-jupyter/jupyter-tatjana-bazhan-cec-4a32c/shared/homeworks/python_ds_miniprojects/final_project/data/orders/2024-03-22/Ксения Балалайкина/orders.csv',\n",
       " '/mnt/HC_Volume_18315164/home-jupyter/jupyter-tatjana-bazhan-cec-4a32c/shared/homeworks/python_ds_miniprojects/final_project/data/orders/2024-03-22/Ксения Балалайкина/order_status.csv',\n",
       " '/mnt/HC_Volume_18315164/home-jupyter/jupyter-tatjana-bazhan-cec-4a32c/shared/homeworks/python_ds_miniprojects/final_project/data/orders/2024-03-14/Владимир Ударников/orders.csv',\n",
       " '/mnt/HC_Volume_18315164/home-jupyter/jupyter-tatjana-bazhan-cec-4a32c/shared/homeworks/python_ds_miniprojects/final_project/data/orders/2024-03-14/Владимир Ударников/order_status.csv',\n",
       " '/mnt/HC_Volume_18315164/home-jupyter/jupyter-tatjana-bazhan-cec-4a32c/shared/homeworks/python_ds_miniprojects/final_project/data/orders/2024-03-14/Екатерина Тарелкина/orders.csv',\n",
       " '/mnt/HC_Volume_18315164/home-jupyter/jupyter-tatjana-bazhan-cec-4a32c/shared/homeworks/python_ds_miniprojects/final_project/data/orders/2024-03-14/Екатерина Тарелкина/order_status.csv',\n",
       " '/mnt/HC_Volume_18315164/home-jupyter/jupyter-tatjana-bazhan-cec-4a32c/shared/homeworks/python_ds_miniprojects/final_project/data/orders/2024-03-14/Надежда Гармошкина/orders.csv',\n",
       " '/mnt/HC_Volume_18315164/home-jupyter/jupyter-tatjana-bazhan-cec-4a32c/shared/homeworks/python_ds_miniprojects/final_project/data/orders/2024-03-14/Надежда Гармошкина/order_status.csv',\n",
       " '/mnt/HC_Volume_18315164/home-jupyter/jupyter-tatjana-bazhan-cec-4a32c/shared/homeworks/python_ds_miniprojects/final_project/data/orders/2024-03-14/Анастасия Дудкина/orders.csv',\n",
       " '/mnt/HC_Volume_18315164/home-jupyter/jupyter-tatjana-bazhan-cec-4a32c/shared/homeworks/python_ds_miniprojects/final_project/data/orders/2024-03-14/Анастасия Дудкина/order_status.csv',\n",
       " '/mnt/HC_Volume_18315164/home-jupyter/jupyter-tatjana-bazhan-cec-4a32c/shared/homeworks/python_ds_miniprojects/final_project/data/orders/2024-03-14/Сергей Контрабасов/orders.csv',\n",
       " '/mnt/HC_Volume_18315164/home-jupyter/jupyter-tatjana-bazhan-cec-4a32c/shared/homeworks/python_ds_miniprojects/final_project/data/orders/2024-03-14/Сергей Контрабасов/order_status.csv',\n",
       " '/mnt/HC_Volume_18315164/home-jupyter/jupyter-tatjana-bazhan-cec-4a32c/shared/homeworks/python_ds_miniprojects/final_project/data/orders/2024-03-14/Алексей Саксофонов/orders.csv',\n",
       " '/mnt/HC_Volume_18315164/home-jupyter/jupyter-tatjana-bazhan-cec-4a32c/shared/homeworks/python_ds_miniprojects/final_project/data/orders/2024-03-14/Алексей Саксофонов/order_status.csv',\n",
       " '/mnt/HC_Volume_18315164/home-jupyter/jupyter-tatjana-bazhan-cec-4a32c/shared/homeworks/python_ds_miniprojects/final_project/data/orders/2024-03-14/Виктор Тромбонов/orders.csv',\n",
       " '/mnt/HC_Volume_18315164/home-jupyter/jupyter-tatjana-bazhan-cec-4a32c/shared/homeworks/python_ds_miniprojects/final_project/data/orders/2024-03-14/Виктор Тромбонов/order_status.csv',\n",
       " '/mnt/HC_Volume_18315164/home-jupyter/jupyter-tatjana-bazhan-cec-4a32c/shared/homeworks/python_ds_miniprojects/final_project/data/orders/2024-03-14/Максим Барабанов/orders.csv',\n",
       " '/mnt/HC_Volume_18315164/home-jupyter/jupyter-tatjana-bazhan-cec-4a32c/shared/homeworks/python_ds_miniprojects/final_project/data/orders/2024-03-14/Максим Барабанов/order_status.csv',\n",
       " '/mnt/HC_Volume_18315164/home-jupyter/jupyter-tatjana-bazhan-cec-4a32c/shared/homeworks/python_ds_miniprojects/final_project/data/orders/2024-03-14/Маргарита Камертонова/orders.csv',\n",
       " '/mnt/HC_Volume_18315164/home-jupyter/jupyter-tatjana-bazhan-cec-4a32c/shared/homeworks/python_ds_miniprojects/final_project/data/orders/2024-03-14/Маргарита Камертонова/order_status.csv',\n",
       " '/mnt/HC_Volume_18315164/home-jupyter/jupyter-tatjana-bazhan-cec-4a32c/shared/homeworks/python_ds_miniprojects/final_project/data/orders/2024-03-14/Ксения Балалайкина/orders.csv',\n",
       " '/mnt/HC_Volume_18315164/home-jupyter/jupyter-tatjana-bazhan-cec-4a32c/shared/homeworks/python_ds_miniprojects/final_project/data/orders/2024-03-14/Ксения Балалайкина/order_status.csv',\n",
       " '/mnt/HC_Volume_18315164/home-jupyter/jupyter-tatjana-bazhan-cec-4a32c/shared/homeworks/python_ds_miniprojects/final_project/data/orders/2024-03-20/Владимир Ударников/orders.csv',\n",
       " '/mnt/HC_Volume_18315164/home-jupyter/jupyter-tatjana-bazhan-cec-4a32c/shared/homeworks/python_ds_miniprojects/final_project/data/orders/2024-03-20/Владимир Ударников/order_status.csv',\n",
       " '/mnt/HC_Volume_18315164/home-jupyter/jupyter-tatjana-bazhan-cec-4a32c/shared/homeworks/python_ds_miniprojects/final_project/data/orders/2024-03-20/Екатерина Тарелкина/orders.csv',\n",
       " '/mnt/HC_Volume_18315164/home-jupyter/jupyter-tatjana-bazhan-cec-4a32c/shared/homeworks/python_ds_miniprojects/final_project/data/orders/2024-03-20/Екатерина Тарелкина/order_status.csv',\n",
       " '/mnt/HC_Volume_18315164/home-jupyter/jupyter-tatjana-bazhan-cec-4a32c/shared/homeworks/python_ds_miniprojects/final_project/data/orders/2024-03-20/Антон Скрипкин/orders.csv',\n",
       " '/mnt/HC_Volume_18315164/home-jupyter/jupyter-tatjana-bazhan-cec-4a32c/shared/homeworks/python_ds_miniprojects/final_project/data/orders/2024-03-20/Антон Скрипкин/order_status.csv',\n",
       " '/mnt/HC_Volume_18315164/home-jupyter/jupyter-tatjana-bazhan-cec-4a32c/shared/homeworks/python_ds_miniprojects/final_project/data/orders/2024-03-20/Надежда Гармошкина/orders.csv',\n",
       " '/mnt/HC_Volume_18315164/home-jupyter/jupyter-tatjana-bazhan-cec-4a32c/shared/homeworks/python_ds_miniprojects/final_project/data/orders/2024-03-20/Надежда Гармошкина/order_status.csv',\n",
       " '/mnt/HC_Volume_18315164/home-jupyter/jupyter-tatjana-bazhan-cec-4a32c/shared/homeworks/python_ds_miniprojects/final_project/data/orders/2024-03-20/Виктор Тромбонов/orders.csv',\n",
       " '/mnt/HC_Volume_18315164/home-jupyter/jupyter-tatjana-bazhan-cec-4a32c/shared/homeworks/python_ds_miniprojects/final_project/data/orders/2024-03-20/Виктор Тромбонов/order_status.csv',\n",
       " '/mnt/HC_Volume_18315164/home-jupyter/jupyter-tatjana-bazhan-cec-4a32c/shared/homeworks/python_ds_miniprojects/final_project/data/orders/2024-03-20/Максим Барабанов/orders.csv',\n",
       " '/mnt/HC_Volume_18315164/home-jupyter/jupyter-tatjana-bazhan-cec-4a32c/shared/homeworks/python_ds_miniprojects/final_project/data/orders/2024-03-20/Максим Барабанов/order_status.csv',\n",
       " '/mnt/HC_Volume_18315164/home-jupyter/jupyter-tatjana-bazhan-cec-4a32c/shared/homeworks/python_ds_miniprojects/final_project/data/orders/2024-03-20/Маргарита Камертонова/orders.csv',\n",
       " '/mnt/HC_Volume_18315164/home-jupyter/jupyter-tatjana-bazhan-cec-4a32c/shared/homeworks/python_ds_miniprojects/final_project/data/orders/2024-03-20/Маргарита Камертонова/order_status.csv',\n",
       " '/mnt/HC_Volume_18315164/home-jupyter/jupyter-tatjana-bazhan-cec-4a32c/shared/homeworks/python_ds_miniprojects/final_project/data/orders/2024-03-20/Ксения Балалайкина/orders.csv',\n",
       " '/mnt/HC_Volume_18315164/home-jupyter/jupyter-tatjana-bazhan-cec-4a32c/shared/homeworks/python_ds_miniprojects/final_project/data/orders/2024-03-20/Ксения Балалайкина/order_status.csv',\n",
       " '/mnt/HC_Volume_18315164/home-jupyter/jupyter-tatjana-bazhan-cec-4a32c/shared/homeworks/python_ds_miniprojects/final_project/data/orders/2024-03-25/Екатерина Тарелкина/orders.csv',\n",
       " '/mnt/HC_Volume_18315164/home-jupyter/jupyter-tatjana-bazhan-cec-4a32c/shared/homeworks/python_ds_miniprojects/final_project/data/orders/2024-03-25/Екатерина Тарелкина/order_status.csv',\n",
       " '/mnt/HC_Volume_18315164/home-jupyter/jupyter-tatjana-bazhan-cec-4a32c/shared/homeworks/python_ds_miniprojects/final_project/data/orders/2024-03-25/Виктор Тромбонов/orders.csv',\n",
       " '/mnt/HC_Volume_18315164/home-jupyter/jupyter-tatjana-bazhan-cec-4a32c/shared/homeworks/python_ds_miniprojects/final_project/data/orders/2024-03-25/Виктор Тромбонов/order_status.csv',\n",
       " '/mnt/HC_Volume_18315164/home-jupyter/jupyter-tatjana-bazhan-cec-4a32c/shared/homeworks/python_ds_miniprojects/final_project/data/orders/2024-03-25/Максим Барабанов/orders.csv',\n",
       " '/mnt/HC_Volume_18315164/home-jupyter/jupyter-tatjana-bazhan-cec-4a32c/shared/homeworks/python_ds_miniprojects/final_project/data/orders/2024-03-25/Максим Барабанов/order_status.csv',\n",
       " '/mnt/HC_Volume_18315164/home-jupyter/jupyter-tatjana-bazhan-cec-4a32c/shared/homeworks/python_ds_miniprojects/final_project/data/orders/2024-03-25/Маргарита Камертонова/orders.csv',\n",
       " '/mnt/HC_Volume_18315164/home-jupyter/jupyter-tatjana-bazhan-cec-4a32c/shared/homeworks/python_ds_miniprojects/final_project/data/orders/2024-03-25/Маргарита Камертонова/order_status.csv',\n",
       " '/mnt/HC_Volume_18315164/home-jupyter/jupyter-tatjana-bazhan-cec-4a32c/shared/homeworks/python_ds_miniprojects/final_project/data/orders/2024-03-12/Владимир Ударников/orders.csv',\n",
       " '/mnt/HC_Volume_18315164/home-jupyter/jupyter-tatjana-bazhan-cec-4a32c/shared/homeworks/python_ds_miniprojects/final_project/data/orders/2024-03-12/Владимир Ударников/order_status.csv',\n",
       " '/mnt/HC_Volume_18315164/home-jupyter/jupyter-tatjana-bazhan-cec-4a32c/shared/homeworks/python_ds_miniprojects/final_project/data/orders/2024-03-12/Алексей Саксофонов/orders.csv',\n",
       " '/mnt/HC_Volume_18315164/home-jupyter/jupyter-tatjana-bazhan-cec-4a32c/shared/homeworks/python_ds_miniprojects/final_project/data/orders/2024-03-12/Алексей Саксофонов/order_status.csv',\n",
       " '/mnt/HC_Volume_18315164/home-jupyter/jupyter-tatjana-bazhan-cec-4a32c/shared/homeworks/python_ds_miniprojects/final_project/data/orders/2024-03-12/Виктор Тромбонов/orders.csv',\n",
       " '/mnt/HC_Volume_18315164/home-jupyter/jupyter-tatjana-bazhan-cec-4a32c/shared/homeworks/python_ds_miniprojects/final_project/data/orders/2024-03-12/Виктор Тромбонов/order_status.csv',\n",
       " '/mnt/HC_Volume_18315164/home-jupyter/jupyter-tatjana-bazhan-cec-4a32c/shared/homeworks/python_ds_miniprojects/final_project/data/orders/2024-03-12/Максим Барабанов/orders.csv',\n",
       " '/mnt/HC_Volume_18315164/home-jupyter/jupyter-tatjana-bazhan-cec-4a32c/shared/homeworks/python_ds_miniprojects/final_project/data/orders/2024-03-12/Максим Барабанов/order_status.csv',\n",
       " '/mnt/HC_Volume_18315164/home-jupyter/jupyter-tatjana-bazhan-cec-4a32c/shared/homeworks/python_ds_miniprojects/final_project/data/orders/2024-03-12/Маргарита Камертонова/orders.csv',\n",
       " '/mnt/HC_Volume_18315164/home-jupyter/jupyter-tatjana-bazhan-cec-4a32c/shared/homeworks/python_ds_miniprojects/final_project/data/orders/2024-03-12/Маргарита Камертонова/order_status.csv',\n",
       " '/mnt/HC_Volume_18315164/home-jupyter/jupyter-tatjana-bazhan-cec-4a32c/shared/homeworks/python_ds_miniprojects/final_project/data/orders/2024-03-12/Ксения Балалайкина/orders.csv',\n",
       " '/mnt/HC_Volume_18315164/home-jupyter/jupyter-tatjana-bazhan-cec-4a32c/shared/homeworks/python_ds_miniprojects/final_project/data/orders/2024-03-12/Ксения Балалайкина/order_status.csv',\n",
       " '/mnt/HC_Volume_18315164/home-jupyter/jupyter-tatjana-bazhan-cec-4a32c/shared/homeworks/python_ds_miniprojects/final_project/data/orders/2024-03-09/Надежда Гармошкина/orders.csv',\n",
       " '/mnt/HC_Volume_18315164/home-jupyter/jupyter-tatjana-bazhan-cec-4a32c/shared/homeworks/python_ds_miniprojects/final_project/data/orders/2024-03-09/Надежда Гармошкина/order_status.csv',\n",
       " '/mnt/HC_Volume_18315164/home-jupyter/jupyter-tatjana-bazhan-cec-4a32c/shared/homeworks/python_ds_miniprojects/final_project/data/orders/2024-03-19/Екатерина Тарелкина/orders.csv',\n",
       " '/mnt/HC_Volume_18315164/home-jupyter/jupyter-tatjana-bazhan-cec-4a32c/shared/homeworks/python_ds_miniprojects/final_project/data/orders/2024-03-19/Екатерина Тарелкина/order_status.csv',\n",
       " '/mnt/HC_Volume_18315164/home-jupyter/jupyter-tatjana-bazhan-cec-4a32c/shared/homeworks/python_ds_miniprojects/final_project/data/orders/2024-03-19/Антон Скрипкин/orders.csv',\n",
       " '/mnt/HC_Volume_18315164/home-jupyter/jupyter-tatjana-bazhan-cec-4a32c/shared/homeworks/python_ds_miniprojects/final_project/data/orders/2024-03-19/Антон Скрипкин/order_status.csv',\n",
       " '/mnt/HC_Volume_18315164/home-jupyter/jupyter-tatjana-bazhan-cec-4a32c/shared/homeworks/python_ds_miniprojects/final_project/data/orders/2024-03-19/Надежда Гармошкина/orders.csv',\n",
       " '/mnt/HC_Volume_18315164/home-jupyter/jupyter-tatjana-bazhan-cec-4a32c/shared/homeworks/python_ds_miniprojects/final_project/data/orders/2024-03-19/Надежда Гармошкина/order_status.csv',\n",
       " '/mnt/HC_Volume_18315164/home-jupyter/jupyter-tatjana-bazhan-cec-4a32c/shared/homeworks/python_ds_miniprojects/final_project/data/orders/2024-03-19/Алексей Саксофонов/orders.csv',\n",
       " '/mnt/HC_Volume_18315164/home-jupyter/jupyter-tatjana-bazhan-cec-4a32c/shared/homeworks/python_ds_miniprojects/final_project/data/orders/2024-03-19/Алексей Саксофонов/order_status.csv',\n",
       " '/mnt/HC_Volume_18315164/home-jupyter/jupyter-tatjana-bazhan-cec-4a32c/shared/homeworks/python_ds_miniprojects/final_project/data/orders/2024-03-19/Виктор Тромбонов/orders.csv',\n",
       " '/mnt/HC_Volume_18315164/home-jupyter/jupyter-tatjana-bazhan-cec-4a32c/shared/homeworks/python_ds_miniprojects/final_project/data/orders/2024-03-19/Виктор Тромбонов/order_status.csv',\n",
       " '/mnt/HC_Volume_18315164/home-jupyter/jupyter-tatjana-bazhan-cec-4a32c/shared/homeworks/python_ds_miniprojects/final_project/data/orders/2024-03-19/Максим Барабанов/orders.csv',\n",
       " '/mnt/HC_Volume_18315164/home-jupyter/jupyter-tatjana-bazhan-cec-4a32c/shared/homeworks/python_ds_miniprojects/final_project/data/orders/2024-03-19/Максим Барабанов/order_status.csv',\n",
       " '/mnt/HC_Volume_18315164/home-jupyter/jupyter-tatjana-bazhan-cec-4a32c/shared/homeworks/python_ds_miniprojects/final_project/data/orders/2024-03-19/Ксения Балалайкина/orders.csv',\n",
       " '/mnt/HC_Volume_18315164/home-jupyter/jupyter-tatjana-bazhan-cec-4a32c/shared/homeworks/python_ds_miniprojects/final_project/data/orders/2024-03-19/Ксения Балалайкина/order_status.csv',\n",
       " '/mnt/HC_Volume_18315164/home-jupyter/jupyter-tatjana-bazhan-cec-4a32c/shared/homeworks/python_ds_miniprojects/final_project/data/orders/2024-03-03/Маргарита Камертонова/orders.csv',\n",
       " '/mnt/HC_Volume_18315164/home-jupyter/jupyter-tatjana-bazhan-cec-4a32c/shared/homeworks/python_ds_miniprojects/final_project/data/orders/2024-03-03/Маргарита Камертонова/order_status.csv',\n",
       " '/mnt/HC_Volume_18315164/home-jupyter/jupyter-tatjana-bazhan-cec-4a32c/shared/homeworks/python_ds_miniprojects/final_project/data/orders/2024-03-21/Владимир Ударников/orders.csv',\n",
       " '/mnt/HC_Volume_18315164/home-jupyter/jupyter-tatjana-bazhan-cec-4a32c/shared/homeworks/python_ds_miniprojects/final_project/data/orders/2024-03-21/Владимир Ударников/order_status.csv',\n",
       " '/mnt/HC_Volume_18315164/home-jupyter/jupyter-tatjana-bazhan-cec-4a32c/shared/homeworks/python_ds_miniprojects/final_project/data/orders/2024-03-21/Екатерина Тарелкина/orders.csv',\n",
       " '/mnt/HC_Volume_18315164/home-jupyter/jupyter-tatjana-bazhan-cec-4a32c/shared/homeworks/python_ds_miniprojects/final_project/data/orders/2024-03-21/Екатерина Тарелкина/order_status.csv',\n",
       " '/mnt/HC_Volume_18315164/home-jupyter/jupyter-tatjana-bazhan-cec-4a32c/shared/homeworks/python_ds_miniprojects/final_project/data/orders/2024-03-21/Сергей Контрабасов/orders.csv',\n",
       " '/mnt/HC_Volume_18315164/home-jupyter/jupyter-tatjana-bazhan-cec-4a32c/shared/homeworks/python_ds_miniprojects/final_project/data/orders/2024-03-21/Сергей Контрабасов/order_status.csv',\n",
       " '/mnt/HC_Volume_18315164/home-jupyter/jupyter-tatjana-bazhan-cec-4a32c/shared/homeworks/python_ds_miniprojects/final_project/data/orders/2024-03-21/Алексей Саксофонов/orders.csv',\n",
       " '/mnt/HC_Volume_18315164/home-jupyter/jupyter-tatjana-bazhan-cec-4a32c/shared/homeworks/python_ds_miniprojects/final_project/data/orders/2024-03-21/Алексей Саксофонов/order_status.csv',\n",
       " '/mnt/HC_Volume_18315164/home-jupyter/jupyter-tatjana-bazhan-cec-4a32c/shared/homeworks/python_ds_miniprojects/final_project/data/orders/2024-03-21/Аркадий Октавин/orders.csv',\n",
       " '/mnt/HC_Volume_18315164/home-jupyter/jupyter-tatjana-bazhan-cec-4a32c/shared/homeworks/python_ds_miniprojects/final_project/data/orders/2024-03-21/Аркадий Октавин/order_status.csv',\n",
       " '/mnt/HC_Volume_18315164/home-jupyter/jupyter-tatjana-bazhan-cec-4a32c/shared/homeworks/python_ds_miniprojects/final_project/data/orders/2024-03-21/Виктор Тромбонов/orders.csv',\n",
       " '/mnt/HC_Volume_18315164/home-jupyter/jupyter-tatjana-bazhan-cec-4a32c/shared/homeworks/python_ds_miniprojects/final_project/data/orders/2024-03-21/Виктор Тромбонов/order_status.csv',\n",
       " '/mnt/HC_Volume_18315164/home-jupyter/jupyter-tatjana-bazhan-cec-4a32c/shared/homeworks/python_ds_miniprojects/final_project/data/orders/2024-03-21/Максим Барабанов/orders.csv',\n",
       " '/mnt/HC_Volume_18315164/home-jupyter/jupyter-tatjana-bazhan-cec-4a32c/shared/homeworks/python_ds_miniprojects/final_project/data/orders/2024-03-21/Максим Барабанов/order_status.csv',\n",
       " '/mnt/HC_Volume_18315164/home-jupyter/jupyter-tatjana-bazhan-cec-4a32c/shared/homeworks/python_ds_miniprojects/final_project/data/orders/2024-03-21/Маргарита Камертонова/orders.csv',\n",
       " '/mnt/HC_Volume_18315164/home-jupyter/jupyter-tatjana-bazhan-cec-4a32c/shared/homeworks/python_ds_miniprojects/final_project/data/orders/2024-03-21/Маргарита Камертонова/order_status.csv',\n",
       " '/mnt/HC_Volume_18315164/home-jupyter/jupyter-tatjana-bazhan-cec-4a32c/shared/homeworks/python_ds_miniprojects/final_project/data/orders/2024-03-21/Ксения Балалайкина/orders.csv',\n",
       " '/mnt/HC_Volume_18315164/home-jupyter/jupyter-tatjana-bazhan-cec-4a32c/shared/homeworks/python_ds_miniprojects/final_project/data/orders/2024-03-21/Ксения Балалайкина/order_status.csv',\n",
       " '/mnt/HC_Volume_18315164/home-jupyter/jupyter-tatjana-bazhan-cec-4a32c/shared/homeworks/python_ds_miniprojects/final_project/data/orders/2024-03-29/Владимир Ударников/orders.csv',\n",
       " '/mnt/HC_Volume_18315164/home-jupyter/jupyter-tatjana-bazhan-cec-4a32c/shared/homeworks/python_ds_miniprojects/final_project/data/orders/2024-03-29/Владимир Ударников/order_status.csv',\n",
       " '/mnt/HC_Volume_18315164/home-jupyter/jupyter-tatjana-bazhan-cec-4a32c/shared/homeworks/python_ds_miniprojects/final_project/data/orders/2024-03-29/Екатерина Тарелкина/orders.csv',\n",
       " '/mnt/HC_Volume_18315164/home-jupyter/jupyter-tatjana-bazhan-cec-4a32c/shared/homeworks/python_ds_miniprojects/final_project/data/orders/2024-03-29/Екатерина Тарелкина/order_status.csv',\n",
       " '/mnt/HC_Volume_18315164/home-jupyter/jupyter-tatjana-bazhan-cec-4a32c/shared/homeworks/python_ds_miniprojects/final_project/data/orders/2024-03-29/Антон Скрипкин/orders.csv',\n",
       " '/mnt/HC_Volume_18315164/home-jupyter/jupyter-tatjana-bazhan-cec-4a32c/shared/homeworks/python_ds_miniprojects/final_project/data/orders/2024-03-29/Антон Скрипкин/order_status.csv',\n",
       " '/mnt/HC_Volume_18315164/home-jupyter/jupyter-tatjana-bazhan-cec-4a32c/shared/homeworks/python_ds_miniprojects/final_project/data/orders/2024-03-29/Анастасия Дудкина/orders.csv',\n",
       " '/mnt/HC_Volume_18315164/home-jupyter/jupyter-tatjana-bazhan-cec-4a32c/shared/homeworks/python_ds_miniprojects/final_project/data/orders/2024-03-29/Анастасия Дудкина/order_status.csv',\n",
       " '/mnt/HC_Volume_18315164/home-jupyter/jupyter-tatjana-bazhan-cec-4a32c/shared/homeworks/python_ds_miniprojects/final_project/data/orders/2024-03-29/Алексей Саксофонов/orders.csv',\n",
       " '/mnt/HC_Volume_18315164/home-jupyter/jupyter-tatjana-bazhan-cec-4a32c/shared/homeworks/python_ds_miniprojects/final_project/data/orders/2024-03-29/Алексей Саксофонов/order_status.csv',\n",
       " '/mnt/HC_Volume_18315164/home-jupyter/jupyter-tatjana-bazhan-cec-4a32c/shared/homeworks/python_ds_miniprojects/final_project/data/orders/2024-03-29/Аркадий Октавин/orders.csv',\n",
       " '/mnt/HC_Volume_18315164/home-jupyter/jupyter-tatjana-bazhan-cec-4a32c/shared/homeworks/python_ds_miniprojects/final_project/data/orders/2024-03-29/Аркадий Октавин/order_status.csv',\n",
       " '/mnt/HC_Volume_18315164/home-jupyter/jupyter-tatjana-bazhan-cec-4a32c/shared/homeworks/python_ds_miniprojects/final_project/data/orders/2024-03-29/Виктор Тромбонов/orders.csv',\n",
       " '/mnt/HC_Volume_18315164/home-jupyter/jupyter-tatjana-bazhan-cec-4a32c/shared/homeworks/python_ds_miniprojects/final_project/data/orders/2024-03-29/Виктор Тромбонов/order_status.csv',\n",
       " '/mnt/HC_Volume_18315164/home-jupyter/jupyter-tatjana-bazhan-cec-4a32c/shared/homeworks/python_ds_miniprojects/final_project/data/orders/2024-03-29/Максим Барабанов/orders.csv',\n",
       " '/mnt/HC_Volume_18315164/home-jupyter/jupyter-tatjana-bazhan-cec-4a32c/shared/homeworks/python_ds_miniprojects/final_project/data/orders/2024-03-29/Максим Барабанов/order_status.csv',\n",
       " '/mnt/HC_Volume_18315164/home-jupyter/jupyter-tatjana-bazhan-cec-4a32c/shared/homeworks/python_ds_miniprojects/final_project/data/orders/2024-03-29/Маргарита Камертонова/orders.csv',\n",
       " '/mnt/HC_Volume_18315164/home-jupyter/jupyter-tatjana-bazhan-cec-4a32c/shared/homeworks/python_ds_miniprojects/final_project/data/orders/2024-03-29/Маргарита Камертонова/order_status.csv',\n",
       " '/mnt/HC_Volume_18315164/home-jupyter/jupyter-tatjana-bazhan-cec-4a32c/shared/homeworks/python_ds_miniprojects/final_project/data/orders/2024-03-29/Ксения Балалайкина/orders.csv',\n",
       " '/mnt/HC_Volume_18315164/home-jupyter/jupyter-tatjana-bazhan-cec-4a32c/shared/homeworks/python_ds_miniprojects/final_project/data/orders/2024-03-29/Ксения Балалайкина/order_status.csv',\n",
       " '/mnt/HC_Volume_18315164/home-jupyter/jupyter-tatjana-bazhan-cec-4a32c/shared/homeworks/python_ds_miniprojects/final_project/data/orders/2024-03-13/Владимир Ударников/orders.csv',\n",
       " '/mnt/HC_Volume_18315164/home-jupyter/jupyter-tatjana-bazhan-cec-4a32c/shared/homeworks/python_ds_miniprojects/final_project/data/orders/2024-03-13/Владимир Ударников/order_status.csv',\n",
       " '/mnt/HC_Volume_18315164/home-jupyter/jupyter-tatjana-bazhan-cec-4a32c/shared/homeworks/python_ds_miniprojects/final_project/data/orders/2024-03-13/Екатерина Тарелкина/orders.csv',\n",
       " '/mnt/HC_Volume_18315164/home-jupyter/jupyter-tatjana-bazhan-cec-4a32c/shared/homeworks/python_ds_miniprojects/final_project/data/orders/2024-03-13/Екатерина Тарелкина/order_status.csv',\n",
       " '/mnt/HC_Volume_18315164/home-jupyter/jupyter-tatjana-bazhan-cec-4a32c/shared/homeworks/python_ds_miniprojects/final_project/data/orders/2024-03-13/Алексей Саксофонов/orders.csv',\n",
       " '/mnt/HC_Volume_18315164/home-jupyter/jupyter-tatjana-bazhan-cec-4a32c/shared/homeworks/python_ds_miniprojects/final_project/data/orders/2024-03-13/Алексей Саксофонов/order_status.csv',\n",
       " '/mnt/HC_Volume_18315164/home-jupyter/jupyter-tatjana-bazhan-cec-4a32c/shared/homeworks/python_ds_miniprojects/final_project/data/orders/2024-03-13/Виктор Тромбонов/orders.csv',\n",
       " '/mnt/HC_Volume_18315164/home-jupyter/jupyter-tatjana-bazhan-cec-4a32c/shared/homeworks/python_ds_miniprojects/final_project/data/orders/2024-03-13/Виктор Тромбонов/order_status.csv',\n",
       " '/mnt/HC_Volume_18315164/home-jupyter/jupyter-tatjana-bazhan-cec-4a32c/shared/homeworks/python_ds_miniprojects/final_project/data/orders/2024-03-13/Максим Барабанов/orders.csv',\n",
       " '/mnt/HC_Volume_18315164/home-jupyter/jupyter-tatjana-bazhan-cec-4a32c/shared/homeworks/python_ds_miniprojects/final_project/data/orders/2024-03-13/Максим Барабанов/order_status.csv',\n",
       " '/mnt/HC_Volume_18315164/home-jupyter/jupyter-tatjana-bazhan-cec-4a32c/shared/homeworks/python_ds_miniprojects/final_project/data/orders/2024-03-13/Маргарита Камертонова/orders.csv',\n",
       " '/mnt/HC_Volume_18315164/home-jupyter/jupyter-tatjana-bazhan-cec-4a32c/shared/homeworks/python_ds_miniprojects/final_project/data/orders/2024-03-13/Маргарита Камертонова/order_status.csv',\n",
       " '/mnt/HC_Volume_18315164/home-jupyter/jupyter-tatjana-bazhan-cec-4a32c/shared/homeworks/python_ds_miniprojects/final_project/data/orders/2024-03-13/Ксения Балалайкина/orders.csv',\n",
       " '/mnt/HC_Volume_18315164/home-jupyter/jupyter-tatjana-bazhan-cec-4a32c/shared/homeworks/python_ds_miniprojects/final_project/data/orders/2024-03-13/Ксения Балалайкина/order_status.csv',\n",
       " '/mnt/HC_Volume_18315164/home-jupyter/jupyter-tatjana-bazhan-cec-4a32c/shared/homeworks/python_ds_miniprojects/final_project/data/orders/2024-03-04/Владимир Ударников/orders.csv',\n",
       " '/mnt/HC_Volume_18315164/home-jupyter/jupyter-tatjana-bazhan-cec-4a32c/shared/homeworks/python_ds_miniprojects/final_project/data/orders/2024-03-04/Владимир Ударников/order_status.csv',\n",
       " '/mnt/HC_Volume_18315164/home-jupyter/jupyter-tatjana-bazhan-cec-4a32c/shared/homeworks/python_ds_miniprojects/final_project/data/orders/2024-03-04/Екатерина Тарелкина/orders.csv',\n",
       " '/mnt/HC_Volume_18315164/home-jupyter/jupyter-tatjana-bazhan-cec-4a32c/shared/homeworks/python_ds_miniprojects/final_project/data/orders/2024-03-04/Екатерина Тарелкина/order_status.csv',\n",
       " '/mnt/HC_Volume_18315164/home-jupyter/jupyter-tatjana-bazhan-cec-4a32c/shared/homeworks/python_ds_miniprojects/final_project/data/orders/2024-03-04/Надежда Гармошкина/orders.csv',\n",
       " '/mnt/HC_Volume_18315164/home-jupyter/jupyter-tatjana-bazhan-cec-4a32c/shared/homeworks/python_ds_miniprojects/final_project/data/orders/2024-03-04/Надежда Гармошкина/order_status.csv',\n",
       " '/mnt/HC_Volume_18315164/home-jupyter/jupyter-tatjana-bazhan-cec-4a32c/shared/homeworks/python_ds_miniprojects/final_project/data/orders/2024-03-04/Анастасия Дудкина/orders.csv',\n",
       " '/mnt/HC_Volume_18315164/home-jupyter/jupyter-tatjana-bazhan-cec-4a32c/shared/homeworks/python_ds_miniprojects/final_project/data/orders/2024-03-04/Анастасия Дудкина/order_status.csv',\n",
       " '/mnt/HC_Volume_18315164/home-jupyter/jupyter-tatjana-bazhan-cec-4a32c/shared/homeworks/python_ds_miniprojects/final_project/data/orders/2024-03-04/Виктор Тромбонов/orders.csv',\n",
       " '/mnt/HC_Volume_18315164/home-jupyter/jupyter-tatjana-bazhan-cec-4a32c/shared/homeworks/python_ds_miniprojects/final_project/data/orders/2024-03-04/Виктор Тромбонов/order_status.csv',\n",
       " '/mnt/HC_Volume_18315164/home-jupyter/jupyter-tatjana-bazhan-cec-4a32c/shared/homeworks/python_ds_miniprojects/final_project/data/orders/2024-03-04/Маргарита Камертонова/orders.csv',\n",
       " '/mnt/HC_Volume_18315164/home-jupyter/jupyter-tatjana-bazhan-cec-4a32c/shared/homeworks/python_ds_miniprojects/final_project/data/orders/2024-03-04/Маргарита Камертонова/order_status.csv',\n",
       " '/mnt/HC_Volume_18315164/home-jupyter/jupyter-tatjana-bazhan-cec-4a32c/shared/homeworks/python_ds_miniprojects/final_project/data/orders/2024-03-04/Ксения Балалайкина/orders.csv',\n",
       " '/mnt/HC_Volume_18315164/home-jupyter/jupyter-tatjana-bazhan-cec-4a32c/shared/homeworks/python_ds_miniprojects/final_project/data/orders/2024-03-04/Ксения Балалайкина/order_status.csv',\n",
       " '/mnt/HC_Volume_18315164/home-jupyter/jupyter-tatjana-bazhan-cec-4a32c/shared/homeworks/python_ds_miniprojects/final_project/data/orders/2024-03-07/Владимир Ударников/orders.csv',\n",
       " '/mnt/HC_Volume_18315164/home-jupyter/jupyter-tatjana-bazhan-cec-4a32c/shared/homeworks/python_ds_miniprojects/final_project/data/orders/2024-03-07/Владимир Ударников/order_status.csv',\n",
       " '/mnt/HC_Volume_18315164/home-jupyter/jupyter-tatjana-bazhan-cec-4a32c/shared/homeworks/python_ds_miniprojects/final_project/data/orders/2024-03-07/Екатерина Тарелкина/orders.csv',\n",
       " '/mnt/HC_Volume_18315164/home-jupyter/jupyter-tatjana-bazhan-cec-4a32c/shared/homeworks/python_ds_miniprojects/final_project/data/orders/2024-03-07/Екатерина Тарелкина/order_status.csv',\n",
       " '/mnt/HC_Volume_18315164/home-jupyter/jupyter-tatjana-bazhan-cec-4a32c/shared/homeworks/python_ds_miniprojects/final_project/data/orders/2024-03-07/Надежда Гармошкина/orders.csv',\n",
       " '/mnt/HC_Volume_18315164/home-jupyter/jupyter-tatjana-bazhan-cec-4a32c/shared/homeworks/python_ds_miniprojects/final_project/data/orders/2024-03-07/Надежда Гармошкина/order_status.csv',\n",
       " '/mnt/HC_Volume_18315164/home-jupyter/jupyter-tatjana-bazhan-cec-4a32c/shared/homeworks/python_ds_miniprojects/final_project/data/orders/2024-03-07/Виктор Тромбонов/orders.csv',\n",
       " '/mnt/HC_Volume_18315164/home-jupyter/jupyter-tatjana-bazhan-cec-4a32c/shared/homeworks/python_ds_miniprojects/final_project/data/orders/2024-03-07/Виктор Тромбонов/order_status.csv',\n",
       " '/mnt/HC_Volume_18315164/home-jupyter/jupyter-tatjana-bazhan-cec-4a32c/shared/homeworks/python_ds_miniprojects/final_project/data/orders/2024-03-07/Максим Барабанов/orders.csv',\n",
       " '/mnt/HC_Volume_18315164/home-jupyter/jupyter-tatjana-bazhan-cec-4a32c/shared/homeworks/python_ds_miniprojects/final_project/data/orders/2024-03-07/Максим Барабанов/order_status.csv',\n",
       " '/mnt/HC_Volume_18315164/home-jupyter/jupyter-tatjana-bazhan-cec-4a32c/shared/homeworks/python_ds_miniprojects/final_project/data/orders/2024-03-07/Маргарита Камертонова/orders.csv',\n",
       " '/mnt/HC_Volume_18315164/home-jupyter/jupyter-tatjana-bazhan-cec-4a32c/shared/homeworks/python_ds_miniprojects/final_project/data/orders/2024-03-07/Маргарита Камертонова/order_status.csv',\n",
       " '/mnt/HC_Volume_18315164/home-jupyter/jupyter-tatjana-bazhan-cec-4a32c/shared/homeworks/python_ds_miniprojects/final_project/data/orders/2024-03-07/Ксения Балалайкина/orders.csv',\n",
       " '/mnt/HC_Volume_18315164/home-jupyter/jupyter-tatjana-bazhan-cec-4a32c/shared/homeworks/python_ds_miniprojects/final_project/data/orders/2024-03-07/Ксения Балалайкина/order_status.csv',\n",
       " '/mnt/HC_Volume_18315164/home-jupyter/jupyter-tatjana-bazhan-cec-4a32c/shared/homeworks/python_ds_miniprojects/final_project/data/orders/2024-03-15/Владимир Ударников/orders.csv',\n",
       " '/mnt/HC_Volume_18315164/home-jupyter/jupyter-tatjana-bazhan-cec-4a32c/shared/homeworks/python_ds_miniprojects/final_project/data/orders/2024-03-15/Владимир Ударников/order_status.csv',\n",
       " '/mnt/HC_Volume_18315164/home-jupyter/jupyter-tatjana-bazhan-cec-4a32c/shared/homeworks/python_ds_miniprojects/final_project/data/orders/2024-03-15/Екатерина Тарелкина/orders.csv',\n",
       " '/mnt/HC_Volume_18315164/home-jupyter/jupyter-tatjana-bazhan-cec-4a32c/shared/homeworks/python_ds_miniprojects/final_project/data/orders/2024-03-15/Екатерина Тарелкина/order_status.csv',\n",
       " '/mnt/HC_Volume_18315164/home-jupyter/jupyter-tatjana-bazhan-cec-4a32c/shared/homeworks/python_ds_miniprojects/final_project/data/orders/2024-03-15/Антон Скрипкин/orders.csv',\n",
       " '/mnt/HC_Volume_18315164/home-jupyter/jupyter-tatjana-bazhan-cec-4a32c/shared/homeworks/python_ds_miniprojects/final_project/data/orders/2024-03-15/Антон Скрипкин/order_status.csv',\n",
       " '/mnt/HC_Volume_18315164/home-jupyter/jupyter-tatjana-bazhan-cec-4a32c/shared/homeworks/python_ds_miniprojects/final_project/data/orders/2024-03-15/Анастасия Дудкина/orders.csv',\n",
       " '/mnt/HC_Volume_18315164/home-jupyter/jupyter-tatjana-bazhan-cec-4a32c/shared/homeworks/python_ds_miniprojects/final_project/data/orders/2024-03-15/Анастасия Дудкина/order_status.csv',\n",
       " '/mnt/HC_Volume_18315164/home-jupyter/jupyter-tatjana-bazhan-cec-4a32c/shared/homeworks/python_ds_miniprojects/final_project/data/orders/2024-03-15/Алексей Саксофонов/orders.csv',\n",
       " '/mnt/HC_Volume_18315164/home-jupyter/jupyter-tatjana-bazhan-cec-4a32c/shared/homeworks/python_ds_miniprojects/final_project/data/orders/2024-03-15/Алексей Саксофонов/order_status.csv',\n",
       " '/mnt/HC_Volume_18315164/home-jupyter/jupyter-tatjana-bazhan-cec-4a32c/shared/homeworks/python_ds_miniprojects/final_project/data/orders/2024-03-15/Максим Барабанов/orders.csv',\n",
       " '/mnt/HC_Volume_18315164/home-jupyter/jupyter-tatjana-bazhan-cec-4a32c/shared/homeworks/python_ds_miniprojects/final_project/data/orders/2024-03-15/Максим Барабанов/order_status.csv',\n",
       " '/mnt/HC_Volume_18315164/home-jupyter/jupyter-tatjana-bazhan-cec-4a32c/shared/homeworks/python_ds_miniprojects/final_project/data/orders/2024-03-15/Маргарита Камертонова/orders.csv',\n",
       " '/mnt/HC_Volume_18315164/home-jupyter/jupyter-tatjana-bazhan-cec-4a32c/shared/homeworks/python_ds_miniprojects/final_project/data/orders/2024-03-15/Маргарита Камертонова/order_status.csv',\n",
       " '/mnt/HC_Volume_18315164/home-jupyter/jupyter-tatjana-bazhan-cec-4a32c/shared/homeworks/python_ds_miniprojects/final_project/data/orders/2024-03-15/Ксения Балалайкина/orders.csv',\n",
       " '/mnt/HC_Volume_18315164/home-jupyter/jupyter-tatjana-bazhan-cec-4a32c/shared/homeworks/python_ds_miniprojects/final_project/data/orders/2024-03-15/Ксения Балалайкина/order_status.csv',\n",
       " '/mnt/HC_Volume_18315164/home-jupyter/jupyter-tatjana-bazhan-cec-4a32c/shared/homeworks/python_ds_miniprojects/final_project/data/orders/2024-03-11/Владимир Ударников/orders.csv',\n",
       " '/mnt/HC_Volume_18315164/home-jupyter/jupyter-tatjana-bazhan-cec-4a32c/shared/homeworks/python_ds_miniprojects/final_project/data/orders/2024-03-11/Владимир Ударников/order_status.csv',\n",
       " '/mnt/HC_Volume_18315164/home-jupyter/jupyter-tatjana-bazhan-cec-4a32c/shared/homeworks/python_ds_miniprojects/final_project/data/orders/2024-03-11/Екатерина Тарелкина/orders.csv',\n",
       " '/mnt/HC_Volume_18315164/home-jupyter/jupyter-tatjana-bazhan-cec-4a32c/shared/homeworks/python_ds_miniprojects/final_project/data/orders/2024-03-11/Екатерина Тарелкина/order_status.csv',\n",
       " '/mnt/HC_Volume_18315164/home-jupyter/jupyter-tatjana-bazhan-cec-4a32c/shared/homeworks/python_ds_miniprojects/final_project/data/orders/2024-03-11/Надежда Гармошкина/orders.csv',\n",
       " '/mnt/HC_Volume_18315164/home-jupyter/jupyter-tatjana-bazhan-cec-4a32c/shared/homeworks/python_ds_miniprojects/final_project/data/orders/2024-03-11/Надежда Гармошкина/order_status.csv',\n",
       " '/mnt/HC_Volume_18315164/home-jupyter/jupyter-tatjana-bazhan-cec-4a32c/shared/homeworks/python_ds_miniprojects/final_project/data/orders/2024-03-11/Анастасия Дудкина/orders.csv',\n",
       " '/mnt/HC_Volume_18315164/home-jupyter/jupyter-tatjana-bazhan-cec-4a32c/shared/homeworks/python_ds_miniprojects/final_project/data/orders/2024-03-11/Анастасия Дудкина/order_status.csv',\n",
       " '/mnt/HC_Volume_18315164/home-jupyter/jupyter-tatjana-bazhan-cec-4a32c/shared/homeworks/python_ds_miniprojects/final_project/data/orders/2024-03-11/Алексей Саксофонов/orders.csv',\n",
       " '/mnt/HC_Volume_18315164/home-jupyter/jupyter-tatjana-bazhan-cec-4a32c/shared/homeworks/python_ds_miniprojects/final_project/data/orders/2024-03-11/Алексей Саксофонов/order_status.csv',\n",
       " '/mnt/HC_Volume_18315164/home-jupyter/jupyter-tatjana-bazhan-cec-4a32c/shared/homeworks/python_ds_miniprojects/final_project/data/orders/2024-03-11/Виктор Тромбонов/orders.csv',\n",
       " '/mnt/HC_Volume_18315164/home-jupyter/jupyter-tatjana-bazhan-cec-4a32c/shared/homeworks/python_ds_miniprojects/final_project/data/orders/2024-03-11/Виктор Тромбонов/order_status.csv',\n",
       " '/mnt/HC_Volume_18315164/home-jupyter/jupyter-tatjana-bazhan-cec-4a32c/shared/homeworks/python_ds_miniprojects/final_project/data/orders/2024-03-11/Маргарита Камертонова/orders.csv',\n",
       " '/mnt/HC_Volume_18315164/home-jupyter/jupyter-tatjana-bazhan-cec-4a32c/shared/homeworks/python_ds_miniprojects/final_project/data/orders/2024-03-11/Маргарита Камертонова/order_status.csv',\n",
       " '/mnt/HC_Volume_18315164/home-jupyter/jupyter-tatjana-bazhan-cec-4a32c/shared/homeworks/python_ds_miniprojects/final_project/data/orders/2024-03-02/Владимир Ударников/orders.csv',\n",
       " '/mnt/HC_Volume_18315164/home-jupyter/jupyter-tatjana-bazhan-cec-4a32c/shared/homeworks/python_ds_miniprojects/final_project/data/orders/2024-03-02/Владимир Ударников/order_status.csv',\n",
       " '/mnt/HC_Volume_18315164/home-jupyter/jupyter-tatjana-bazhan-cec-4a32c/shared/homeworks/python_ds_miniprojects/final_project/data/orders/2024-03-02/Виктор Тромбонов/orders.csv',\n",
       " '/mnt/HC_Volume_18315164/home-jupyter/jupyter-tatjana-bazhan-cec-4a32c/shared/homeworks/python_ds_miniprojects/final_project/data/orders/2024-03-02/Виктор Тромбонов/order_status.csv',\n",
       " '/mnt/HC_Volume_18315164/home-jupyter/jupyter-tatjana-bazhan-cec-4a32c/shared/homeworks/python_ds_miniprojects/final_project/data/orders/2024-03-31/Анастасия Дудкина/orders.csv',\n",
       " '/mnt/HC_Volume_18315164/home-jupyter/jupyter-tatjana-bazhan-cec-4a32c/shared/homeworks/python_ds_miniprojects/final_project/data/orders/2024-03-31/Анастасия Дудкина/order_status.csv',\n",
       " '/mnt/HC_Volume_18315164/home-jupyter/jupyter-tatjana-bazhan-cec-4a32c/shared/homeworks/python_ds_miniprojects/final_project/data/orders/2024-03-30/Екатерина Тарелкина/orders.csv',\n",
       " '/mnt/HC_Volume_18315164/home-jupyter/jupyter-tatjana-bazhan-cec-4a32c/shared/homeworks/python_ds_miniprojects/final_project/data/orders/2024-03-30/Екатерина Тарелкина/order_status.csv',\n",
       " '/mnt/HC_Volume_18315164/home-jupyter/jupyter-tatjana-bazhan-cec-4a32c/shared/homeworks/python_ds_miniprojects/final_project/data/orders/2024-03-30/Виктор Тромбонов/orders.csv',\n",
       " '/mnt/HC_Volume_18315164/home-jupyter/jupyter-tatjana-bazhan-cec-4a32c/shared/homeworks/python_ds_miniprojects/final_project/data/orders/2024-03-30/Виктор Тромбонов/order_status.csv',\n",
       " '/mnt/HC_Volume_18315164/home-jupyter/jupyter-tatjana-bazhan-cec-4a32c/shared/homeworks/python_ds_miniprojects/final_project/data/orders/2024-03-24/Екатерина Тарелкина/orders.csv',\n",
       " '/mnt/HC_Volume_18315164/home-jupyter/jupyter-tatjana-bazhan-cec-4a32c/shared/homeworks/python_ds_miniprojects/final_project/data/orders/2024-03-24/Екатерина Тарелкина/order_status.csv',\n",
       " '/mnt/HC_Volume_18315164/home-jupyter/jupyter-tatjana-bazhan-cec-4a32c/shared/homeworks/python_ds_miniprojects/final_project/data/orders/2024-03-24/Ксения Балалайкина/orders.csv',\n",
       " '/mnt/HC_Volume_18315164/home-jupyter/jupyter-tatjana-bazhan-cec-4a32c/shared/homeworks/python_ds_miniprojects/final_project/data/orders/2024-03-24/Ксения Балалайкина/order_status.csv',\n",
       " '/mnt/HC_Volume_18315164/home-jupyter/jupyter-tatjana-bazhan-cec-4a32c/shared/homeworks/python_ds_miniprojects/final_project/data/orders/2024-03-26/Владимир Ударников/orders.csv',\n",
       " '/mnt/HC_Volume_18315164/home-jupyter/jupyter-tatjana-bazhan-cec-4a32c/shared/homeworks/python_ds_miniprojects/final_project/data/orders/2024-03-26/Владимир Ударников/order_status.csv',\n",
       " '/mnt/HC_Volume_18315164/home-jupyter/jupyter-tatjana-bazhan-cec-4a32c/shared/homeworks/python_ds_miniprojects/final_project/data/orders/2024-03-26/Екатерина Тарелкина/orders.csv',\n",
       " '/mnt/HC_Volume_18315164/home-jupyter/jupyter-tatjana-bazhan-cec-4a32c/shared/homeworks/python_ds_miniprojects/final_project/data/orders/2024-03-26/Екатерина Тарелкина/order_status.csv',\n",
       " '/mnt/HC_Volume_18315164/home-jupyter/jupyter-tatjana-bazhan-cec-4a32c/shared/homeworks/python_ds_miniprojects/final_project/data/orders/2024-03-26/Антон Скрипкин/orders.csv',\n",
       " '/mnt/HC_Volume_18315164/home-jupyter/jupyter-tatjana-bazhan-cec-4a32c/shared/homeworks/python_ds_miniprojects/final_project/data/orders/2024-03-26/Антон Скрипкин/order_status.csv',\n",
       " '/mnt/HC_Volume_18315164/home-jupyter/jupyter-tatjana-bazhan-cec-4a32c/shared/homeworks/python_ds_miniprojects/final_project/data/orders/2024-03-26/Надежда Гармошкина/orders.csv',\n",
       " '/mnt/HC_Volume_18315164/home-jupyter/jupyter-tatjana-bazhan-cec-4a32c/shared/homeworks/python_ds_miniprojects/final_project/data/orders/2024-03-26/Надежда Гармошкина/order_status.csv',\n",
       " '/mnt/HC_Volume_18315164/home-jupyter/jupyter-tatjana-bazhan-cec-4a32c/shared/homeworks/python_ds_miniprojects/final_project/data/orders/2024-03-26/Анастасия Дудкина/orders.csv',\n",
       " '/mnt/HC_Volume_18315164/home-jupyter/jupyter-tatjana-bazhan-cec-4a32c/shared/homeworks/python_ds_miniprojects/final_project/data/orders/2024-03-26/Анастасия Дудкина/order_status.csv',\n",
       " '/mnt/HC_Volume_18315164/home-jupyter/jupyter-tatjana-bazhan-cec-4a32c/shared/homeworks/python_ds_miniprojects/final_project/data/orders/2024-03-26/Алексей Саксофонов/orders.csv',\n",
       " '/mnt/HC_Volume_18315164/home-jupyter/jupyter-tatjana-bazhan-cec-4a32c/shared/homeworks/python_ds_miniprojects/final_project/data/orders/2024-03-26/Алексей Саксофонов/order_status.csv',\n",
       " '/mnt/HC_Volume_18315164/home-jupyter/jupyter-tatjana-bazhan-cec-4a32c/shared/homeworks/python_ds_miniprojects/final_project/data/orders/2024-03-26/Виктор Тромбонов/orders.csv',\n",
       " '/mnt/HC_Volume_18315164/home-jupyter/jupyter-tatjana-bazhan-cec-4a32c/shared/homeworks/python_ds_miniprojects/final_project/data/orders/2024-03-26/Виктор Тромбонов/order_status.csv',\n",
       " '/mnt/HC_Volume_18315164/home-jupyter/jupyter-tatjana-bazhan-cec-4a32c/shared/homeworks/python_ds_miniprojects/final_project/data/orders/2024-03-26/Максим Барабанов/orders.csv',\n",
       " '/mnt/HC_Volume_18315164/home-jupyter/jupyter-tatjana-bazhan-cec-4a32c/shared/homeworks/python_ds_miniprojects/final_project/data/orders/2024-03-26/Максим Барабанов/order_status.csv',\n",
       " '/mnt/HC_Volume_18315164/home-jupyter/jupyter-tatjana-bazhan-cec-4a32c/shared/homeworks/python_ds_miniprojects/final_project/data/orders/2024-03-26/Маргарита Камертонова/orders.csv',\n",
       " '/mnt/HC_Volume_18315164/home-jupyter/jupyter-tatjana-bazhan-cec-4a32c/shared/homeworks/python_ds_miniprojects/final_project/data/orders/2024-03-26/Маргарита Камертонова/order_status.csv',\n",
       " '/mnt/HC_Volume_18315164/home-jupyter/jupyter-tatjana-bazhan-cec-4a32c/shared/homeworks/python_ds_miniprojects/final_project/data/orders/2024-03-26/Ксения Балалайкина/orders.csv',\n",
       " '/mnt/HC_Volume_18315164/home-jupyter/jupyter-tatjana-bazhan-cec-4a32c/shared/homeworks/python_ds_miniprojects/final_project/data/orders/2024-03-26/Ксения Балалайкина/order_status.csv']"
      ]
     },
     "execution_count": 335,
     "metadata": {},
     "output_type": "execute_result"
    }
   ],
   "source": [
    "data_files"
   ]
  },
  {
   "cell_type": "code",
   "execution_count": 336,
   "metadata": {},
   "outputs": [],
   "source": [
    "orders_df_list = []\n",
    "order_status_df_list = []\n",
    "products_df_list = []\n",
    "\n",
    "for file_path in data_files:\n",
    "    df = pd.read_csv(file_path)\n",
    "    \n",
    "    if 'orders.csv' in file_path:\n",
    "        df['manager'] = file_path.split('/')[-2]\n",
    "        df['date'] = file_path.split('/')[-3]\n",
    "        orders_df_list.append(df)\n",
    "    elif 'products.csv' in file_path:\n",
    "        df['category'] = file_path.split('/')[-2]\n",
    "        products_df_list.append(df)\n",
    "    elif 'order_status.csv' in file_path:\n",
    "        order_status_df_list.append(df)"
   ]
  },
  {
   "cell_type": "code",
   "execution_count": 337,
   "metadata": {},
   "outputs": [],
   "source": [
    "df_orders = pd.concat(orders_df_list, ignore_index=True)\n",
    "df_order_status = pd.concat(order_status_df_list, ignore_index=True)\n",
    "df_products = pd.concat(products_df_list, ignore_index=True)"
   ]
  },
  {
   "cell_type": "code",
   "execution_count": 338,
   "metadata": {},
   "outputs": [
    {
     "data": {
      "text/plain": [
       "(4603, 5)"
      ]
     },
     "execution_count": 338,
     "metadata": {},
     "output_type": "execute_result"
    }
   ],
   "source": [
    "df_orders.shape"
   ]
  },
  {
   "cell_type": "code",
   "execution_count": 339,
   "metadata": {},
   "outputs": [
    {
     "data": {
      "text/plain": [
       "(346, 3)"
      ]
     },
     "execution_count": 339,
     "metadata": {},
     "output_type": "execute_result"
    }
   ],
   "source": [
    "df_order_status.shape"
   ]
  },
  {
   "cell_type": "code",
   "execution_count": 340,
   "metadata": {},
   "outputs": [
    {
     "data": {
      "text/plain": [
       "(1677, 4)"
      ]
     },
     "execution_count": 340,
     "metadata": {},
     "output_type": "execute_result"
    }
   ],
   "source": [
    "df_products.shape"
   ]
  },
  {
   "cell_type": "code",
   "execution_count": 341,
   "metadata": {},
   "outputs": [],
   "source": [
    "df_orders.to_csv('/mnt/HC_Volume_18315164/home-jupyter/jupyter-tatjana-bazhan-cec-4a32c/8_урок_Проект/df_orders.csv', index=False)\n",
    "df_order_status.to_csv('/mnt/HC_Volume_18315164/home-jupyter/jupyter-tatjana-bazhan-cec-4a32c/8_урок_Проект/df_order_status.csv', index=False)\n",
    "df_products.to_csv('/mnt/HC_Volume_18315164/home-jupyter/jupyter-tatjana-bazhan-cec-4a32c/8_урок_Проект/df_products.csv', index=False)"
   ]
  },
  {
   "cell_type": "markdown",
   "metadata": {},
   "source": [
    "### Посмотрим на общую динамику заказов и определим дни, которые выбиваются из общей картины"
   ]
  },
  {
   "cell_type": "markdown",
   "metadata": {},
   "source": [
    "## Шаг 3"
   ]
  },
  {
   "cell_type": "markdown",
   "metadata": {},
   "source": [
    "Посчитайте количество заказов в каждый день. **Определите день с наибольшим числом заказов.** Укажите этот день в том формате, в котором он представлен в данных (гггг-мм-дд)."
   ]
  },
  {
   "cell_type": "code",
   "execution_count": 342,
   "metadata": {},
   "outputs": [
    {
     "data": {
      "text/html": [
       "<div>\n",
       "<style scoped>\n",
       "    .dataframe tbody tr th:only-of-type {\n",
       "        vertical-align: middle;\n",
       "    }\n",
       "\n",
       "    .dataframe tbody tr th {\n",
       "        vertical-align: top;\n",
       "    }\n",
       "\n",
       "    .dataframe thead th {\n",
       "        text-align: right;\n",
       "    }\n",
       "</style>\n",
       "<table border=\"1\" class=\"dataframe\">\n",
       "  <thead>\n",
       "    <tr style=\"text-align: right;\">\n",
       "      <th></th>\n",
       "      <th>order_id</th>\n",
       "      <th>product_id</th>\n",
       "      <th>quantity</th>\n",
       "      <th>manager</th>\n",
       "      <th>date</th>\n",
       "    </tr>\n",
       "  </thead>\n",
       "  <tbody>\n",
       "    <tr>\n",
       "      <th>0</th>\n",
       "      <td>QPLK-54839036</td>\n",
       "      <td>489</td>\n",
       "      <td>11</td>\n",
       "      <td>Владимир Ударников</td>\n",
       "      <td>2024-03-10</td>\n",
       "    </tr>\n",
       "    <tr>\n",
       "      <th>1</th>\n",
       "      <td>QPLK-54839036</td>\n",
       "      <td>594</td>\n",
       "      <td>6</td>\n",
       "      <td>Владимир Ударников</td>\n",
       "      <td>2024-03-10</td>\n",
       "    </tr>\n",
       "    <tr>\n",
       "      <th>2</th>\n",
       "      <td>QPLK-54839036</td>\n",
       "      <td>670</td>\n",
       "      <td>16</td>\n",
       "      <td>Владимир Ударников</td>\n",
       "      <td>2024-03-10</td>\n",
       "    </tr>\n",
       "    <tr>\n",
       "      <th>3</th>\n",
       "      <td>QPLK-54839036</td>\n",
       "      <td>469</td>\n",
       "      <td>9</td>\n",
       "      <td>Владимир Ударников</td>\n",
       "      <td>2024-03-10</td>\n",
       "    </tr>\n",
       "    <tr>\n",
       "      <th>4</th>\n",
       "      <td>QPLK-54839036</td>\n",
       "      <td>1302</td>\n",
       "      <td>5</td>\n",
       "      <td>Владимир Ударников</td>\n",
       "      <td>2024-03-10</td>\n",
       "    </tr>\n",
       "  </tbody>\n",
       "</table>\n",
       "</div>"
      ],
      "text/plain": [
       "        order_id  product_id  quantity             manager        date\n",
       "0  QPLK-54839036         489        11  Владимир Ударников  2024-03-10\n",
       "1  QPLK-54839036         594         6  Владимир Ударников  2024-03-10\n",
       "2  QPLK-54839036         670        16  Владимир Ударников  2024-03-10\n",
       "3  QPLK-54839036         469         9  Владимир Ударников  2024-03-10\n",
       "4  QPLK-54839036        1302         5  Владимир Ударников  2024-03-10"
      ]
     },
     "execution_count": 342,
     "metadata": {},
     "output_type": "execute_result"
    }
   ],
   "source": [
    "df_orders.head()"
   ]
  },
  {
   "cell_type": "code",
   "execution_count": 343,
   "metadata": {},
   "outputs": [
    {
     "data": {
      "text/html": [
       "<div>\n",
       "<style scoped>\n",
       "    .dataframe tbody tr th:only-of-type {\n",
       "        vertical-align: middle;\n",
       "    }\n",
       "\n",
       "    .dataframe tbody tr th {\n",
       "        vertical-align: top;\n",
       "    }\n",
       "\n",
       "    .dataframe thead th {\n",
       "        text-align: right;\n",
       "    }\n",
       "</style>\n",
       "<table border=\"1\" class=\"dataframe\">\n",
       "  <thead>\n",
       "    <tr style=\"text-align: right;\">\n",
       "      <th></th>\n",
       "      <th>order_id</th>\n",
       "      <th>client_id</th>\n",
       "      <th>status</th>\n",
       "    </tr>\n",
       "  </thead>\n",
       "  <tbody>\n",
       "    <tr>\n",
       "      <th>0</th>\n",
       "      <td>QPLK-54839036</td>\n",
       "      <td>52</td>\n",
       "      <td>confirmed</td>\n",
       "    </tr>\n",
       "    <tr>\n",
       "      <th>1</th>\n",
       "      <td>MAQJ-95867467</td>\n",
       "      <td>84</td>\n",
       "      <td>canceled</td>\n",
       "    </tr>\n",
       "    <tr>\n",
       "      <th>2</th>\n",
       "      <td>KHLF-51759445</td>\n",
       "      <td>23</td>\n",
       "      <td>confirmed</td>\n",
       "    </tr>\n",
       "    <tr>\n",
       "      <th>3</th>\n",
       "      <td>DALF-47566548</td>\n",
       "      <td>97</td>\n",
       "      <td>confirmed</td>\n",
       "    </tr>\n",
       "    <tr>\n",
       "      <th>4</th>\n",
       "      <td>BZHU-92977894</td>\n",
       "      <td>29</td>\n",
       "      <td>canceled</td>\n",
       "    </tr>\n",
       "  </tbody>\n",
       "</table>\n",
       "</div>"
      ],
      "text/plain": [
       "        order_id  client_id     status\n",
       "0  QPLK-54839036         52  confirmed\n",
       "1  MAQJ-95867467         84   canceled\n",
       "2  KHLF-51759445         23  confirmed\n",
       "3  DALF-47566548         97  confirmed\n",
       "4  BZHU-92977894         29   canceled"
      ]
     },
     "execution_count": 343,
     "metadata": {},
     "output_type": "execute_result"
    }
   ],
   "source": [
    "df_order_status.head()"
   ]
  },
  {
   "cell_type": "code",
   "execution_count": 344,
   "metadata": {},
   "outputs": [
    {
     "data": {
      "text/html": [
       "<div>\n",
       "<style scoped>\n",
       "    .dataframe tbody tr th:only-of-type {\n",
       "        vertical-align: middle;\n",
       "    }\n",
       "\n",
       "    .dataframe tbody tr th {\n",
       "        vertical-align: top;\n",
       "    }\n",
       "\n",
       "    .dataframe thead th {\n",
       "        text-align: right;\n",
       "    }\n",
       "</style>\n",
       "<table border=\"1\" class=\"dataframe\">\n",
       "  <thead>\n",
       "    <tr style=\"text-align: right;\">\n",
       "      <th></th>\n",
       "      <th>id</th>\n",
       "      <th>name</th>\n",
       "      <th>price</th>\n",
       "      <th>category</th>\n",
       "    </tr>\n",
       "  </thead>\n",
       "  <tbody>\n",
       "    <tr>\n",
       "      <th>0</th>\n",
       "      <td>207</td>\n",
       "      <td>Denon, AVR-S540BT</td>\n",
       "      <td>243.52</td>\n",
       "      <td>AV-ресивер</td>\n",
       "    </tr>\n",
       "    <tr>\n",
       "      <th>1</th>\n",
       "      <td>208</td>\n",
       "      <td>Denon, AVR-X3700H</td>\n",
       "      <td>1305.52</td>\n",
       "      <td>AV-ресивер</td>\n",
       "    </tr>\n",
       "    <tr>\n",
       "      <th>2</th>\n",
       "      <td>209</td>\n",
       "      <td>Denon, AVR-X4700H</td>\n",
       "      <td>1620.21</td>\n",
       "      <td>AV-ресивер</td>\n",
       "    </tr>\n",
       "    <tr>\n",
       "      <th>3</th>\n",
       "      <td>210</td>\n",
       "      <td>Denon, AVR-X6700H</td>\n",
       "      <td>2050.31</td>\n",
       "      <td>AV-ресивер</td>\n",
       "    </tr>\n",
       "    <tr>\n",
       "      <th>4</th>\n",
       "      <td>211</td>\n",
       "      <td>Denon, AVC-X4700H</td>\n",
       "      <td>1496.81</td>\n",
       "      <td>AV-ресивер</td>\n",
       "    </tr>\n",
       "  </tbody>\n",
       "</table>\n",
       "</div>"
      ],
      "text/plain": [
       "    id               name    price    category\n",
       "0  207  Denon, AVR-S540BT   243.52  AV-ресивер\n",
       "1  208  Denon, AVR-X3700H  1305.52  AV-ресивер\n",
       "2  209  Denon, AVR-X4700H  1620.21  AV-ресивер\n",
       "3  210  Denon, AVR-X6700H  2050.31  AV-ресивер\n",
       "4  211  Denon, AVC-X4700H  1496.81  AV-ресивер"
      ]
     },
     "execution_count": 344,
     "metadata": {},
     "output_type": "execute_result"
    }
   ],
   "source": [
    "df_products.head()"
   ]
  },
  {
   "cell_type": "code",
   "execution_count": 345,
   "metadata": {
    "scrolled": true
   },
   "outputs": [
    {
     "data": {
      "text/html": [
       "<div>\n",
       "<style scoped>\n",
       "    .dataframe tbody tr th:only-of-type {\n",
       "        vertical-align: middle;\n",
       "    }\n",
       "\n",
       "    .dataframe tbody tr th {\n",
       "        vertical-align: top;\n",
       "    }\n",
       "\n",
       "    .dataframe thead th {\n",
       "        text-align: right;\n",
       "    }\n",
       "</style>\n",
       "<table border=\"1\" class=\"dataframe\">\n",
       "  <thead>\n",
       "    <tr style=\"text-align: right;\">\n",
       "      <th></th>\n",
       "      <th>order_id</th>\n",
       "      <th>product_id</th>\n",
       "      <th>quantity</th>\n",
       "      <th>manager</th>\n",
       "      <th>date</th>\n",
       "      <th>orders</th>\n",
       "    </tr>\n",
       "  </thead>\n",
       "  <tbody>\n",
       "    <tr>\n",
       "      <th>0</th>\n",
       "      <td>QPLK-54839036</td>\n",
       "      <td>489</td>\n",
       "      <td>11</td>\n",
       "      <td>Владимир Ударников</td>\n",
       "      <td>2024-03-10</td>\n",
       "      <td>3</td>\n",
       "    </tr>\n",
       "    <tr>\n",
       "      <th>1</th>\n",
       "      <td>QPLK-54839036</td>\n",
       "      <td>594</td>\n",
       "      <td>6</td>\n",
       "      <td>Владимир Ударников</td>\n",
       "      <td>2024-03-10</td>\n",
       "      <td>3</td>\n",
       "    </tr>\n",
       "    <tr>\n",
       "      <th>2</th>\n",
       "      <td>QPLK-54839036</td>\n",
       "      <td>670</td>\n",
       "      <td>16</td>\n",
       "      <td>Владимир Ударников</td>\n",
       "      <td>2024-03-10</td>\n",
       "      <td>3</td>\n",
       "    </tr>\n",
       "    <tr>\n",
       "      <th>3</th>\n",
       "      <td>QPLK-54839036</td>\n",
       "      <td>469</td>\n",
       "      <td>9</td>\n",
       "      <td>Владимир Ударников</td>\n",
       "      <td>2024-03-10</td>\n",
       "      <td>3</td>\n",
       "    </tr>\n",
       "    <tr>\n",
       "      <th>4</th>\n",
       "      <td>QPLK-54839036</td>\n",
       "      <td>1302</td>\n",
       "      <td>5</td>\n",
       "      <td>Владимир Ударников</td>\n",
       "      <td>2024-03-10</td>\n",
       "      <td>3</td>\n",
       "    </tr>\n",
       "    <tr>\n",
       "      <th>...</th>\n",
       "      <td>...</td>\n",
       "      <td>...</td>\n",
       "      <td>...</td>\n",
       "      <td>...</td>\n",
       "      <td>...</td>\n",
       "      <td>...</td>\n",
       "    </tr>\n",
       "    <tr>\n",
       "      <th>4598</th>\n",
       "      <td>UAKD-95751033</td>\n",
       "      <td>812</td>\n",
       "      <td>24</td>\n",
       "      <td>Ксения Балалайкина</td>\n",
       "      <td>2024-03-26</td>\n",
       "      <td>17</td>\n",
       "    </tr>\n",
       "    <tr>\n",
       "      <th>4599</th>\n",
       "      <td>UAKD-95751033</td>\n",
       "      <td>145</td>\n",
       "      <td>9</td>\n",
       "      <td>Ксения Балалайкина</td>\n",
       "      <td>2024-03-26</td>\n",
       "      <td>17</td>\n",
       "    </tr>\n",
       "    <tr>\n",
       "      <th>4600</th>\n",
       "      <td>UAKD-95751033</td>\n",
       "      <td>194</td>\n",
       "      <td>6</td>\n",
       "      <td>Ксения Балалайкина</td>\n",
       "      <td>2024-03-26</td>\n",
       "      <td>17</td>\n",
       "    </tr>\n",
       "    <tr>\n",
       "      <th>4601</th>\n",
       "      <td>UAKD-95751033</td>\n",
       "      <td>1086</td>\n",
       "      <td>3</td>\n",
       "      <td>Ксения Балалайкина</td>\n",
       "      <td>2024-03-26</td>\n",
       "      <td>17</td>\n",
       "    </tr>\n",
       "    <tr>\n",
       "      <th>4602</th>\n",
       "      <td>UAKD-95751033</td>\n",
       "      <td>1462</td>\n",
       "      <td>9</td>\n",
       "      <td>Ксения Балалайкина</td>\n",
       "      <td>2024-03-26</td>\n",
       "      <td>17</td>\n",
       "    </tr>\n",
       "  </tbody>\n",
       "</table>\n",
       "<p>4603 rows × 6 columns</p>\n",
       "</div>"
      ],
      "text/plain": [
       "           order_id  product_id  quantity             manager       date  \\\n",
       "0     QPLK-54839036         489        11  Владимир Ударников 2024-03-10   \n",
       "1     QPLK-54839036         594         6  Владимир Ударников 2024-03-10   \n",
       "2     QPLK-54839036         670        16  Владимир Ударников 2024-03-10   \n",
       "3     QPLK-54839036         469         9  Владимир Ударников 2024-03-10   \n",
       "4     QPLK-54839036        1302         5  Владимир Ударников 2024-03-10   \n",
       "...             ...         ...       ...                 ...        ...   \n",
       "4598  UAKD-95751033         812        24  Ксения Балалайкина 2024-03-26   \n",
       "4599  UAKD-95751033         145         9  Ксения Балалайкина 2024-03-26   \n",
       "4600  UAKD-95751033         194         6  Ксения Балалайкина 2024-03-26   \n",
       "4601  UAKD-95751033        1086         3  Ксения Балалайкина 2024-03-26   \n",
       "4602  UAKD-95751033        1462         9  Ксения Балалайкина 2024-03-26   \n",
       "\n",
       "      orders  \n",
       "0          3  \n",
       "1          3  \n",
       "2          3  \n",
       "3          3  \n",
       "4          3  \n",
       "...      ...  \n",
       "4598      17  \n",
       "4599      17  \n",
       "4600      17  \n",
       "4601      17  \n",
       "4602      17  \n",
       "\n",
       "[4603 rows x 6 columns]"
      ]
     },
     "execution_count": 345,
     "metadata": {},
     "output_type": "execute_result"
    }
   ],
   "source": [
    "# Ваш код здесь\n",
    "df_orders['date'] = pd.to_datetime(df_orders['date'])\n",
    "df_orders_groupby = df_orders.groupby('date')['order_id'].nunique().reset_index()\n",
    "df_orders_groupby = df_orders_groupby.rename(columns={'order_id': 'orders'})\n",
    "df_merged = pd.merge(df_orders, df_orders_groupby, on='date', how='left')\n",
    "df_merged"
   ]
  },
  {
   "cell_type": "code",
   "execution_count": 346,
   "metadata": {},
   "outputs": [
    {
     "data": {
      "text/html": [
       "<div>\n",
       "<style scoped>\n",
       "    .dataframe tbody tr th:only-of-type {\n",
       "        vertical-align: middle;\n",
       "    }\n",
       "\n",
       "    .dataframe tbody tr th {\n",
       "        vertical-align: top;\n",
       "    }\n",
       "\n",
       "    .dataframe thead th {\n",
       "        text-align: right;\n",
       "    }\n",
       "</style>\n",
       "<table border=\"1\" class=\"dataframe\">\n",
       "  <thead>\n",
       "    <tr style=\"text-align: right;\">\n",
       "      <th></th>\n",
       "      <th>order_id</th>\n",
       "      <th>product_id</th>\n",
       "      <th>quantity</th>\n",
       "      <th>manager</th>\n",
       "      <th>date</th>\n",
       "      <th>orders</th>\n",
       "    </tr>\n",
       "  </thead>\n",
       "  <tbody>\n",
       "    <tr>\n",
       "      <th>1824</th>\n",
       "      <td>EPBF-14743479</td>\n",
       "      <td>180</td>\n",
       "      <td>13</td>\n",
       "      <td>Виктор Тромбонов</td>\n",
       "      <td>2024-03-14</td>\n",
       "      <td>34</td>\n",
       "    </tr>\n",
       "    <tr>\n",
       "      <th>1630</th>\n",
       "      <td>AUZX-12706022</td>\n",
       "      <td>138</td>\n",
       "      <td>30</td>\n",
       "      <td>Екатерина Тарелкина</td>\n",
       "      <td>2024-03-14</td>\n",
       "      <td>34</td>\n",
       "    </tr>\n",
       "    <tr>\n",
       "      <th>1639</th>\n",
       "      <td>AUZX-12706022</td>\n",
       "      <td>790</td>\n",
       "      <td>19</td>\n",
       "      <td>Екатерина Тарелкина</td>\n",
       "      <td>2024-03-14</td>\n",
       "      <td>34</td>\n",
       "    </tr>\n",
       "    <tr>\n",
       "      <th>1638</th>\n",
       "      <td>AUZX-12706022</td>\n",
       "      <td>1549</td>\n",
       "      <td>17</td>\n",
       "      <td>Екатерина Тарелкина</td>\n",
       "      <td>2024-03-14</td>\n",
       "      <td>34</td>\n",
       "    </tr>\n",
       "    <tr>\n",
       "      <th>1637</th>\n",
       "      <td>AUZX-12706022</td>\n",
       "      <td>434</td>\n",
       "      <td>30</td>\n",
       "      <td>Екатерина Тарелкина</td>\n",
       "      <td>2024-03-14</td>\n",
       "      <td>34</td>\n",
       "    </tr>\n",
       "    <tr>\n",
       "      <th>...</th>\n",
       "      <td>...</td>\n",
       "      <td>...</td>\n",
       "      <td>...</td>\n",
       "      <td>...</td>\n",
       "      <td>...</td>\n",
       "      <td>...</td>\n",
       "    </tr>\n",
       "    <tr>\n",
       "      <th>2791</th>\n",
       "      <td>YHMP-64962628</td>\n",
       "      <td>537</td>\n",
       "      <td>4</td>\n",
       "      <td>Маргарита Камертонова</td>\n",
       "      <td>2024-03-03</td>\n",
       "      <td>1</td>\n",
       "    </tr>\n",
       "    <tr>\n",
       "      <th>4317</th>\n",
       "      <td>OYBY-86181208</td>\n",
       "      <td>296</td>\n",
       "      <td>22</td>\n",
       "      <td>Анастасия Дудкина</td>\n",
       "      <td>2024-03-31</td>\n",
       "      <td>1</td>\n",
       "    </tr>\n",
       "    <tr>\n",
       "      <th>2595</th>\n",
       "      <td>BKWO-98301947</td>\n",
       "      <td>1286</td>\n",
       "      <td>8</td>\n",
       "      <td>Надежда Гармошкина</td>\n",
       "      <td>2024-03-09</td>\n",
       "      <td>1</td>\n",
       "    </tr>\n",
       "    <tr>\n",
       "      <th>2596</th>\n",
       "      <td>BKWO-98301947</td>\n",
       "      <td>594</td>\n",
       "      <td>21</td>\n",
       "      <td>Надежда Гармошкина</td>\n",
       "      <td>2024-03-09</td>\n",
       "      <td>1</td>\n",
       "    </tr>\n",
       "    <tr>\n",
       "      <th>2792</th>\n",
       "      <td>YHMP-64962628</td>\n",
       "      <td>486</td>\n",
       "      <td>17</td>\n",
       "      <td>Маргарита Камертонова</td>\n",
       "      <td>2024-03-03</td>\n",
       "      <td>1</td>\n",
       "    </tr>\n",
       "  </tbody>\n",
       "</table>\n",
       "<p>4603 rows × 6 columns</p>\n",
       "</div>"
      ],
      "text/plain": [
       "           order_id  product_id  quantity                manager       date  \\\n",
       "1824  EPBF-14743479         180        13       Виктор Тромбонов 2024-03-14   \n",
       "1630  AUZX-12706022         138        30    Екатерина Тарелкина 2024-03-14   \n",
       "1639  AUZX-12706022         790        19    Екатерина Тарелкина 2024-03-14   \n",
       "1638  AUZX-12706022        1549        17    Екатерина Тарелкина 2024-03-14   \n",
       "1637  AUZX-12706022         434        30    Екатерина Тарелкина 2024-03-14   \n",
       "...             ...         ...       ...                    ...        ...   \n",
       "2791  YHMP-64962628         537         4  Маргарита Камертонова 2024-03-03   \n",
       "4317  OYBY-86181208         296        22      Анастасия Дудкина 2024-03-31   \n",
       "2595  BKWO-98301947        1286         8     Надежда Гармошкина 2024-03-09   \n",
       "2596  BKWO-98301947         594        21     Надежда Гармошкина 2024-03-09   \n",
       "2792  YHMP-64962628         486        17  Маргарита Камертонова 2024-03-03   \n",
       "\n",
       "      orders  \n",
       "1824      34  \n",
       "1630      34  \n",
       "1639      34  \n",
       "1638      34  \n",
       "1637      34  \n",
       "...      ...  \n",
       "2791       1  \n",
       "4317       1  \n",
       "2595       1  \n",
       "2596       1  \n",
       "2792       1  \n",
       "\n",
       "[4603 rows x 6 columns]"
      ]
     },
     "execution_count": 346,
     "metadata": {},
     "output_type": "execute_result"
    }
   ],
   "source": [
    "df_merged.sort_values(by = 'orders', ascending = False)"
   ]
  },
  {
   "cell_type": "markdown",
   "metadata": {},
   "source": [
    "## Шаг 4"
   ]
  },
  {
   "cell_type": "markdown",
   "metadata": {},
   "source": [
    "**Постройте график с количеством заказов по дням и определите, заметна ли в данных сезонность.**\n",
    "\n",
    "- Да, по выходным заказов намного больше, чем в остальные дни  \n",
    "- Да, по выходным почти нет заказов  \n",
    "- Да, по понедельникам заказов всегда больше, чем в остальные дни недели  \n",
    "- Да, по понедельникам заказов всегда меньше, чем в остальные дни недели  \n",
    "- Нет, в данных сложно обнаружить какие-то закономерности  "
   ]
  },
  {
   "cell_type": "code",
   "execution_count": 347,
   "metadata": {},
   "outputs": [
    {
     "data": {
      "text/plain": [
       "(array([ 0,  1,  2,  3,  4,  5,  6,  7,  8,  9, 10, 11, 12, 13, 14, 15, 16,\n",
       "        17, 18, 19, 20, 21, 22, 23, 24, 25, 26, 27, 28, 29, 30]),\n",
       " <a list of 31 Text major ticklabel objects>)"
      ]
     },
     "execution_count": 347,
     "metadata": {},
     "output_type": "execute_result"
    },
    {
     "data": {
      "image/png": "[encoded data removed]",
      "text/plain": [
       "<Figure size 1080x432 with 1 Axes>"
      ]
     },
     "metadata": {},
     "output_type": "display_data"
    }
   ],
   "source": [
    "# Ваш код здесь\n",
    "import seaborn as sns\n",
    "import matplotlib.pyplot as plt\n",
    "df_merged = df_merged.sort_values(by='date')\n",
    "sns.set()\n",
    "plt.figure(figsize=(15, 6))\n",
    "sns.barplot(x='date', y='orders', data=df_merged)\n",
    "plt.xticks(rotation=90)"
   ]
  },
  {
   "cell_type": "markdown",
   "metadata": {},
   "source": [
    "## Шаг 5"
   ]
  },
  {
   "cell_type": "markdown",
   "metadata": {},
   "source": [
    "**Кажется, в данных помимо дня с наибольшим числом заказов есть еще один день, который выбивается из общей картины.** Что это за день:  \n",
    "- Это воскресенье, в которое было много заказов?  \n",
    "- Это понедельник, в который было много заказов?  \n",
    "- Это пятница, в которую было мало заказов?  \n",
    "- Это праздничный день, в который было мало заказов?\n",
    "\n",
    "Подумайте, почему так вышло? Укажите этот день в том формате, в котором он представлен в данных (гггг-мм-дд)"
   ]
  },
  {
   "cell_type": "markdown",
   "metadata": {},
   "source": [
    "## Шаг 6"
   ]
  },
  {
   "cell_type": "markdown",
   "metadata": {},
   "source": [
    "К вам пришел радостный руководитель отдела продаж и попросил выяснить причину, почему заказы в один из дней резко подскочили, чтобы и дальше увеличивать продажи.\n",
    "\n",
    "Возможно, в день с наибольшим числом заказов (который вы определили на третьем шаге) отдел маркетинга запустил какую-то акцию? Или менеджеры стали активнее предлагать компаниям оформить заказ? Нужно подробнее изучить этот день. Начнем со статусов заказа.\n",
    "\n",
    "**Добавьте к данным о заказах информацию об их статусах. Общий датафрейм назовите `orders_status`. Сохраните получившийся датафрейм в csv файл `orders_status.csv` (при сохранении используйте параметр `index=False`) и отправьте этот csv файл на проверку в LMS.**"
   ]
  },
  {
   "cell_type": "code",
   "execution_count": 348,
   "metadata": {},
   "outputs": [],
   "source": [
    "# Ваш код здесь\n",
    "orders_status = pd.merge(df_orders, df_order_status, on='order_id', how = 'left')\n",
    "orders_status\n",
    "orders_status.to_csv('/mnt/HC_Volume_18315164/home-jupyter/jupyter-tatjana-bazhan-cec-4a32c/8_урок_Проект/orders_status.csv', index=False)"
   ]
  },
  {
   "cell_type": "markdown",
   "metadata": {},
   "source": [
    "## Шаг 7"
   ]
  },
  {
   "cell_type": "markdown",
   "metadata": {},
   "source": [
    "Посмотрите на количество и соотношение подтвержденных и отмененных заказов. **В ответе укажите долю отмененных заказов.** Ответ округлите до двух знаков после точки."
   ]
  },
  {
   "cell_type": "code",
   "execution_count": 349,
   "metadata": {},
   "outputs": [
    {
     "data": {
      "text/html": [
       "<div>\n",
       "<style scoped>\n",
       "    .dataframe tbody tr th:only-of-type {\n",
       "        vertical-align: middle;\n",
       "    }\n",
       "\n",
       "    .dataframe tbody tr th {\n",
       "        vertical-align: top;\n",
       "    }\n",
       "\n",
       "    .dataframe thead th {\n",
       "        text-align: right;\n",
       "    }\n",
       "</style>\n",
       "<table border=\"1\" class=\"dataframe\">\n",
       "  <thead>\n",
       "    <tr style=\"text-align: right;\">\n",
       "      <th></th>\n",
       "      <th>order_id</th>\n",
       "      <th>product_id</th>\n",
       "      <th>quantity</th>\n",
       "      <th>manager</th>\n",
       "      <th>date</th>\n",
       "      <th>client_id</th>\n",
       "      <th>status</th>\n",
       "    </tr>\n",
       "  </thead>\n",
       "  <tbody>\n",
       "    <tr>\n",
       "      <th>0</th>\n",
       "      <td>QPLK-54839036</td>\n",
       "      <td>489</td>\n",
       "      <td>11</td>\n",
       "      <td>Владимир Ударников</td>\n",
       "      <td>2024-03-10</td>\n",
       "      <td>52</td>\n",
       "      <td>confirmed</td>\n",
       "    </tr>\n",
       "    <tr>\n",
       "      <th>1</th>\n",
       "      <td>QPLK-54839036</td>\n",
       "      <td>594</td>\n",
       "      <td>6</td>\n",
       "      <td>Владимир Ударников</td>\n",
       "      <td>2024-03-10</td>\n",
       "      <td>52</td>\n",
       "      <td>confirmed</td>\n",
       "    </tr>\n",
       "    <tr>\n",
       "      <th>2</th>\n",
       "      <td>QPLK-54839036</td>\n",
       "      <td>670</td>\n",
       "      <td>16</td>\n",
       "      <td>Владимир Ударников</td>\n",
       "      <td>2024-03-10</td>\n",
       "      <td>52</td>\n",
       "      <td>confirmed</td>\n",
       "    </tr>\n",
       "    <tr>\n",
       "      <th>3</th>\n",
       "      <td>QPLK-54839036</td>\n",
       "      <td>469</td>\n",
       "      <td>9</td>\n",
       "      <td>Владимир Ударников</td>\n",
       "      <td>2024-03-10</td>\n",
       "      <td>52</td>\n",
       "      <td>confirmed</td>\n",
       "    </tr>\n",
       "    <tr>\n",
       "      <th>4</th>\n",
       "      <td>QPLK-54839036</td>\n",
       "      <td>1302</td>\n",
       "      <td>5</td>\n",
       "      <td>Владимир Ударников</td>\n",
       "      <td>2024-03-10</td>\n",
       "      <td>52</td>\n",
       "      <td>confirmed</td>\n",
       "    </tr>\n",
       "    <tr>\n",
       "      <th>...</th>\n",
       "      <td>...</td>\n",
       "      <td>...</td>\n",
       "      <td>...</td>\n",
       "      <td>...</td>\n",
       "      <td>...</td>\n",
       "      <td>...</td>\n",
       "      <td>...</td>\n",
       "    </tr>\n",
       "    <tr>\n",
       "      <th>4598</th>\n",
       "      <td>UAKD-95751033</td>\n",
       "      <td>812</td>\n",
       "      <td>24</td>\n",
       "      <td>Ксения Балалайкина</td>\n",
       "      <td>2024-03-26</td>\n",
       "      <td>61</td>\n",
       "      <td>confirmed</td>\n",
       "    </tr>\n",
       "    <tr>\n",
       "      <th>4599</th>\n",
       "      <td>UAKD-95751033</td>\n",
       "      <td>145</td>\n",
       "      <td>9</td>\n",
       "      <td>Ксения Балалайкина</td>\n",
       "      <td>2024-03-26</td>\n",
       "      <td>61</td>\n",
       "      <td>confirmed</td>\n",
       "    </tr>\n",
       "    <tr>\n",
       "      <th>4600</th>\n",
       "      <td>UAKD-95751033</td>\n",
       "      <td>194</td>\n",
       "      <td>6</td>\n",
       "      <td>Ксения Балалайкина</td>\n",
       "      <td>2024-03-26</td>\n",
       "      <td>61</td>\n",
       "      <td>confirmed</td>\n",
       "    </tr>\n",
       "    <tr>\n",
       "      <th>4601</th>\n",
       "      <td>UAKD-95751033</td>\n",
       "      <td>1086</td>\n",
       "      <td>3</td>\n",
       "      <td>Ксения Балалайкина</td>\n",
       "      <td>2024-03-26</td>\n",
       "      <td>61</td>\n",
       "      <td>confirmed</td>\n",
       "    </tr>\n",
       "    <tr>\n",
       "      <th>4602</th>\n",
       "      <td>UAKD-95751033</td>\n",
       "      <td>1462</td>\n",
       "      <td>9</td>\n",
       "      <td>Ксения Балалайкина</td>\n",
       "      <td>2024-03-26</td>\n",
       "      <td>61</td>\n",
       "      <td>confirmed</td>\n",
       "    </tr>\n",
       "  </tbody>\n",
       "</table>\n",
       "<p>4603 rows × 7 columns</p>\n",
       "</div>"
      ],
      "text/plain": [
       "           order_id  product_id  quantity             manager       date  \\\n",
       "0     QPLK-54839036         489        11  Владимир Ударников 2024-03-10   \n",
       "1     QPLK-54839036         594         6  Владимир Ударников 2024-03-10   \n",
       "2     QPLK-54839036         670        16  Владимир Ударников 2024-03-10   \n",
       "3     QPLK-54839036         469         9  Владимир Ударников 2024-03-10   \n",
       "4     QPLK-54839036        1302         5  Владимир Ударников 2024-03-10   \n",
       "...             ...         ...       ...                 ...        ...   \n",
       "4598  UAKD-95751033         812        24  Ксения Балалайкина 2024-03-26   \n",
       "4599  UAKD-95751033         145         9  Ксения Балалайкина 2024-03-26   \n",
       "4600  UAKD-95751033         194         6  Ксения Балалайкина 2024-03-26   \n",
       "4601  UAKD-95751033        1086         3  Ксения Балалайкина 2024-03-26   \n",
       "4602  UAKD-95751033        1462         9  Ксения Балалайкина 2024-03-26   \n",
       "\n",
       "      client_id     status  \n",
       "0            52  confirmed  \n",
       "1            52  confirmed  \n",
       "2            52  confirmed  \n",
       "3            52  confirmed  \n",
       "4            52  confirmed  \n",
       "...         ...        ...  \n",
       "4598         61  confirmed  \n",
       "4599         61  confirmed  \n",
       "4600         61  confirmed  \n",
       "4601         61  confirmed  \n",
       "4602         61  confirmed  \n",
       "\n",
       "[4603 rows x 7 columns]"
      ]
     },
     "execution_count": 349,
     "metadata": {},
     "output_type": "execute_result"
    }
   ],
   "source": [
    "orders_status"
   ]
  },
  {
   "cell_type": "code",
   "execution_count": 350,
   "metadata": {},
   "outputs": [
    {
     "data": {
      "text/html": [
       "<div>\n",
       "<style scoped>\n",
       "    .dataframe tbody tr th:only-of-type {\n",
       "        vertical-align: middle;\n",
       "    }\n",
       "\n",
       "    .dataframe tbody tr th {\n",
       "        vertical-align: top;\n",
       "    }\n",
       "\n",
       "    .dataframe thead th {\n",
       "        text-align: right;\n",
       "    }\n",
       "</style>\n",
       "<table border=\"1\" class=\"dataframe\">\n",
       "  <thead>\n",
       "    <tr style=\"text-align: right;\">\n",
       "      <th></th>\n",
       "      <th>order_id</th>\n",
       "      <th>status</th>\n",
       "    </tr>\n",
       "  </thead>\n",
       "  <tbody>\n",
       "    <tr>\n",
       "      <th>0</th>\n",
       "      <td>QPLK-54839036</td>\n",
       "      <td>confirmed</td>\n",
       "    </tr>\n",
       "    <tr>\n",
       "      <th>1</th>\n",
       "      <td>QPLK-54839036</td>\n",
       "      <td>confirmed</td>\n",
       "    </tr>\n",
       "    <tr>\n",
       "      <th>2</th>\n",
       "      <td>QPLK-54839036</td>\n",
       "      <td>confirmed</td>\n",
       "    </tr>\n",
       "    <tr>\n",
       "      <th>3</th>\n",
       "      <td>QPLK-54839036</td>\n",
       "      <td>confirmed</td>\n",
       "    </tr>\n",
       "    <tr>\n",
       "      <th>4</th>\n",
       "      <td>QPLK-54839036</td>\n",
       "      <td>confirmed</td>\n",
       "    </tr>\n",
       "    <tr>\n",
       "      <th>...</th>\n",
       "      <td>...</td>\n",
       "      <td>...</td>\n",
       "    </tr>\n",
       "    <tr>\n",
       "      <th>4598</th>\n",
       "      <td>UAKD-95751033</td>\n",
       "      <td>confirmed</td>\n",
       "    </tr>\n",
       "    <tr>\n",
       "      <th>4599</th>\n",
       "      <td>UAKD-95751033</td>\n",
       "      <td>confirmed</td>\n",
       "    </tr>\n",
       "    <tr>\n",
       "      <th>4600</th>\n",
       "      <td>UAKD-95751033</td>\n",
       "      <td>confirmed</td>\n",
       "    </tr>\n",
       "    <tr>\n",
       "      <th>4601</th>\n",
       "      <td>UAKD-95751033</td>\n",
       "      <td>confirmed</td>\n",
       "    </tr>\n",
       "    <tr>\n",
       "      <th>4602</th>\n",
       "      <td>UAKD-95751033</td>\n",
       "      <td>confirmed</td>\n",
       "    </tr>\n",
       "  </tbody>\n",
       "</table>\n",
       "<p>4603 rows × 2 columns</p>\n",
       "</div>"
      ],
      "text/plain": [
       "           order_id     status\n",
       "0     QPLK-54839036  confirmed\n",
       "1     QPLK-54839036  confirmed\n",
       "2     QPLK-54839036  confirmed\n",
       "3     QPLK-54839036  confirmed\n",
       "4     QPLK-54839036  confirmed\n",
       "...             ...        ...\n",
       "4598  UAKD-95751033  confirmed\n",
       "4599  UAKD-95751033  confirmed\n",
       "4600  UAKD-95751033  confirmed\n",
       "4601  UAKD-95751033  confirmed\n",
       "4602  UAKD-95751033  confirmed\n",
       "\n",
       "[4603 rows x 2 columns]"
      ]
     },
     "execution_count": 350,
     "metadata": {},
     "output_type": "execute_result"
    }
   ],
   "source": [
    "# Ваш код здесь\n",
    "orders_status_groupby = orders_status[['order_id', 'status']]\n",
    "orders_status_groupby"
   ]
  },
  {
   "cell_type": "code",
   "execution_count": 351,
   "metadata": {},
   "outputs": [],
   "source": [
    "orders_status_drop_dubl = orders_status_groupby.drop_duplicates(subset='order_id')\n",
    "orders_status_count = orders_status_drop_dubl.shape[0]\n",
    "\n",
    "orders_status_confirmed = orders_status_drop_dubl.query('status == \"confirmed\"')\n",
    "orders_status_confirmed_count = orders_status_confirmed.shape[0]\n",
    "\n",
    "orders_status_canceled = orders_status_drop_dubl.query('status == \"canceled\"')\n",
    "orders_status_canceled_count = orders_status_canceled.shape[0]"
   ]
  },
  {
   "cell_type": "code",
   "execution_count": 352,
   "metadata": {},
   "outputs": [
    {
     "data": {
      "text/plain": [
       "346"
      ]
     },
     "execution_count": 352,
     "metadata": {},
     "output_type": "execute_result"
    }
   ],
   "source": [
    "orders_status_count"
   ]
  },
  {
   "cell_type": "code",
   "execution_count": 353,
   "metadata": {},
   "outputs": [
    {
     "data": {
      "text/plain": [
       "309"
      ]
     },
     "execution_count": 353,
     "metadata": {},
     "output_type": "execute_result"
    }
   ],
   "source": [
    "orders_status_confirmed_count"
   ]
  },
  {
   "cell_type": "code",
   "execution_count": 354,
   "metadata": {},
   "outputs": [
    {
     "data": {
      "text/plain": [
       "37"
      ]
     },
     "execution_count": 354,
     "metadata": {},
     "output_type": "execute_result"
    }
   ],
   "source": [
    "orders_status_canceled_count"
   ]
  },
  {
   "cell_type": "code",
   "execution_count": 355,
   "metadata": {},
   "outputs": [
    {
     "data": {
      "text/plain": [
       "0.89"
      ]
     },
     "execution_count": 355,
     "metadata": {},
     "output_type": "execute_result"
    }
   ],
   "source": [
    "status_confirmed_dol = round(orders_status_confirmed_count / orders_status_count, 2)\n",
    "status_confirmed_dol"
   ]
  },
  {
   "cell_type": "code",
   "execution_count": 356,
   "metadata": {},
   "outputs": [
    {
     "data": {
      "text/plain": [
       "0.11"
      ]
     },
     "execution_count": 356,
     "metadata": {},
     "output_type": "execute_result"
    }
   ],
   "source": [
    "status_canceled_dol = round(orders_status_canceled_count / orders_status_count, 2)\n",
    "status_canceled_dol"
   ]
  },
  {
   "cell_type": "markdown",
   "metadata": {},
   "source": [
    "## Шаг 8"
   ]
  },
  {
   "cell_type": "markdown",
   "metadata": {},
   "source": [
    "**Посчитайте количество подтвержденных и отмененных заказов на каждую дату.** Определите, в какой день не было ни одного подтвержденного заказа. Для этого сделайте сводную таблицу, где в строках будут даты, в колонках — стутасы заказов, а значения — число заказов с этим статусом в определенную дату. Пропуски заполните нулями.  \n",
    "\n",
    "**В ответ укажите день, когда не было ни одного подтвержденного заказа.** Дату укажите в том формате, в котором она представлена в данных (гггг-мм-дд)."
   ]
  },
  {
   "cell_type": "code",
   "execution_count": 357,
   "metadata": {},
   "outputs": [
    {
     "data": {
      "text/html": [
       "<div>\n",
       "<style scoped>\n",
       "    .dataframe tbody tr th:only-of-type {\n",
       "        vertical-align: middle;\n",
       "    }\n",
       "\n",
       "    .dataframe tbody tr th {\n",
       "        vertical-align: top;\n",
       "    }\n",
       "\n",
       "    .dataframe thead th {\n",
       "        text-align: right;\n",
       "    }\n",
       "</style>\n",
       "<table border=\"1\" class=\"dataframe\">\n",
       "  <thead>\n",
       "    <tr style=\"text-align: right;\">\n",
       "      <th>status</th>\n",
       "      <th>canceled</th>\n",
       "      <th>confirmed</th>\n",
       "    </tr>\n",
       "    <tr>\n",
       "      <th>date</th>\n",
       "      <th></th>\n",
       "      <th></th>\n",
       "    </tr>\n",
       "  </thead>\n",
       "  <tbody>\n",
       "    <tr>\n",
       "      <th>2024-03-09</th>\n",
       "      <td>1</td>\n",
       "      <td>0</td>\n",
       "    </tr>\n",
       "  </tbody>\n",
       "</table>\n",
       "</div>"
      ],
      "text/plain": [
       "status      canceled  confirmed\n",
       "date                           \n",
       "2024-03-09         1          0"
      ]
     },
     "execution_count": 357,
     "metadata": {},
     "output_type": "execute_result"
    }
   ],
   "source": [
    "# Ваш код здесь\n",
    "orders = orders_status.groupby(['date', 'status']).order_id.nunique().reset_index()\n",
    "orders = pd.DataFrame(orders)\n",
    "orders = orders.rename(columns={'order_id' : 'orders'})\n",
    "orders_table = orders.pivot(index='date', columns='status', values='orders').fillna(0)\n",
    "orders_table['canceled'] = orders_table['canceled'].astype(int)\n",
    "orders_table['confirmed'] = orders_table['confirmed'].astype(int)\n",
    "orders_table_count = orders_table.query('confirmed == 0')\n",
    "orders_table_count"
   ]
  },
  {
   "cell_type": "markdown",
   "metadata": {},
   "source": [
    "## Шаг 9"
   ]
  },
  {
   "cell_type": "markdown",
   "metadata": {},
   "source": [
    "**Постройте график с заказами по дням в разбивке по статусу заказа.** Посмотрим подробнее на день с наибольшим числом заказов (вместе и подтвержденных, и отменных), который мы определили ранее, и на день, предшествующий ему. Какой вывод можно сделать? Выберите один или несколько вариантов:\n",
    "\n",
    "- В день с наибольшим числом заказов было очень много отмен  \n",
    "- В день с наибольшим числом заказов было много успешно оформленных заказов  \n",
    "- В день, предшествующий дню с наибольшим числом заказов, было много отмен  \n",
    "- В день, предшествующий дню с наибольшим числом заказов, было много успешно оформленных заказов  \n",
    "- В день, предшествующий дню с наибольшим числом заказов, не было ни одного успешно оформленного заказа  \n",
    "- В день, предшествующий дню с наибольшим числом заказов, не было ни одного отмененного заказа"
   ]
  },
  {
   "cell_type": "code",
   "execution_count": 359,
   "metadata": {},
   "outputs": [
    {
     "data": {
      "text/html": [
       "<div>\n",
       "<style scoped>\n",
       "    .dataframe tbody tr th:only-of-type {\n",
       "        vertical-align: middle;\n",
       "    }\n",
       "\n",
       "    .dataframe tbody tr th {\n",
       "        vertical-align: top;\n",
       "    }\n",
       "\n",
       "    .dataframe thead th {\n",
       "        text-align: right;\n",
       "    }\n",
       "</style>\n",
       "<table border=\"1\" class=\"dataframe\">\n",
       "  <thead>\n",
       "    <tr style=\"text-align: right;\">\n",
       "      <th></th>\n",
       "      <th>date</th>\n",
       "      <th>status</th>\n",
       "      <th>orders</th>\n",
       "    </tr>\n",
       "  </thead>\n",
       "  <tbody>\n",
       "    <tr>\n",
       "      <th>0</th>\n",
       "      <td>2024-03-01</td>\n",
       "      <td>canceled</td>\n",
       "      <td>2</td>\n",
       "    </tr>\n",
       "    <tr>\n",
       "      <th>1</th>\n",
       "      <td>2024-03-01</td>\n",
       "      <td>confirmed</td>\n",
       "      <td>20</td>\n",
       "    </tr>\n",
       "    <tr>\n",
       "      <th>2</th>\n",
       "      <td>2024-03-02</td>\n",
       "      <td>confirmed</td>\n",
       "      <td>2</td>\n",
       "    </tr>\n",
       "    <tr>\n",
       "      <th>3</th>\n",
       "      <td>2024-03-03</td>\n",
       "      <td>confirmed</td>\n",
       "      <td>1</td>\n",
       "    </tr>\n",
       "    <tr>\n",
       "      <th>4</th>\n",
       "      <td>2024-03-04</td>\n",
       "      <td>confirmed</td>\n",
       "      <td>10</td>\n",
       "    </tr>\n",
       "  </tbody>\n",
       "</table>\n",
       "</div>"
      ],
      "text/plain": [
       "        date     status  orders\n",
       "0 2024-03-01   canceled       2\n",
       "1 2024-03-01  confirmed      20\n",
       "2 2024-03-02  confirmed       2\n",
       "3 2024-03-03  confirmed       1\n",
       "4 2024-03-04  confirmed      10"
      ]
     },
     "execution_count": 359,
     "metadata": {},
     "output_type": "execute_result"
    }
   ],
   "source": [
    "orders.head()"
   ]
  },
  {
   "cell_type": "code",
   "execution_count": 366,
   "metadata": {},
   "outputs": [
    {
     "data": {
      "text/plain": [
       "(array([ 0,  1,  2,  3,  4,  5,  6,  7,  8,  9, 10, 11, 12, 13, 14, 15, 16,\n",
       "        17, 18, 19, 20, 21, 22, 23, 24, 25, 26, 27, 28, 29, 30]),\n",
       " <a list of 31 Text major ticklabel objects>)"
      ]
     },
     "execution_count": 366,
     "metadata": {},
     "output_type": "execute_result"
    },
    {
     "data": {
      "image/png": "[encoded data removed]",
      "text/plain": [
       "<Figure size 1080x432 with 1 Axes>"
      ]
     },
     "metadata": {},
     "output_type": "display_data"
    }
   ],
   "source": [
    "# Ваш код здесь\n",
    "import seaborn as sns\n",
    "import matplotlib.pyplot as plt\n",
    "orders = orders.sort_values(by='date')\n",
    "sns.set()\n",
    "plt.figure(figsize=(15, 6))\n",
    "sns.barplot(data=orders, x='date', y='orders', hue='status', ci=None)\n",
    "plt.xticks(rotation=90)\n"
   ]
  },
  {
   "cell_type": "markdown",
   "metadata": {},
   "source": [
    "## Шаг 10"
   ]
  },
  {
   "cell_type": "markdown",
   "metadata": {},
   "source": [
    "Рассмотрим эти два дня отдельно (день с наибольшим числом заказов, который мы определили ранее, и день, предшествующий ему). Проанализируйте заказы за эти дни и ответьте, какую из этих гипотез можно назвать наиболее правдоподобной.\n",
    "\n",
    "- Так сложилось, что один день оказался крайне неудачным для отдела продаж, все клиенты отменили свои заказы. А на следующий день отдел продаж пытался компенсировать отсутствие продаж в предыдущий и перевыполнил дневной план. Почти все заказы не повторяют вчерашние  \n",
    "- Произошел сбой в работе CRM системы, который не позволил клиентам подтвердить заказ. В результате все созданные в первый день заказы автоматически отменились, поэтому клиентам пришлось оформлять их повторно на следующий день. Почти половина заказов повторяет вчерашние\n",
    "\n",
    "Как можно определить, что заказ повторяет вчерашний? У заказов будут совпадать сразу несколько параметров: клиент, менеджер, количество уникальных товаров в заказе и общее число товаров в штуках. Но номера заказов будут разными."
   ]
  },
  {
   "cell_type": "code",
   "execution_count": 39,
   "metadata": {},
   "outputs": [],
   "source": [
    "# Ваш код здесь\n",
    "\n"
   ]
  },
  {
   "cell_type": "markdown",
   "metadata": {},
   "source": [
    "### Посчитаем ключевые метрики, посмотрим на их динамику и составим небольшой отчет"
   ]
  },
  {
   "cell_type": "markdown",
   "metadata": {},
   "source": [
    "## Шаг 11"
   ]
  },
  {
   "cell_type": "markdown",
   "metadata": {},
   "source": [
    "**У вас есть данные за целый месяц, поэтому пора посчитать ключевые метрики этого месяца.** Но вот незадача - в ваших данных цена единицы товара указана в долларах США, потому что закупаете их в долларах, но продаете товары за российские рубли (по тому курсу, который установил Центробанк на дату продажи), а значит и метрики требуется посчитать в рублях. Хорошо, что у вас есть текстовый файл с курсом доллара США на каждую дату. **Откройте файл `usd_rate.txt`, соберите из него датафрейм с 2 колонками: `date` и `currency_rate`. Посчитайте среднее значение курса доллара за месяц.** Результат округлите до двух знаков после точки."
   ]
  },
  {
   "cell_type": "code",
   "execution_count": 381,
   "metadata": {},
   "outputs": [],
   "source": [
    "# Ваш код здесь\n",
    "with open('usd_rate.txt', 'r') as file:\n",
    "    currency = file.readlines()"
   ]
  },
  {
   "cell_type": "code",
   "execution_count": 389,
   "metadata": {},
   "outputs": [],
   "source": [
    "currency = [s.strip() for s in currency]"
   ]
  },
  {
   "cell_type": "code",
   "execution_count": 415,
   "metadata": {},
   "outputs": [],
   "source": [
    "exchange_rate = pd.DataFrame(currency, columns=['exchange_rate'])\n",
    "exchange_rate[['date', 'exchange_rate', 'currency']] = exchange_rate['exchange_rate'].str.split(',', expand=True)\n",
    "exchange_rate['exchange_rate'] = exchange_rate['exchange_rate'].astype(float)\n",
    "exchange_rate['date'] = pd.to_datetime(exchange_rate['date'])\n",
    "exchange_rate = exchange_rate.drop(columns=['currency'])"
   ]
  },
  {
   "cell_type": "code",
   "execution_count": 416,
   "metadata": {},
   "outputs": [
    {
     "data": {
      "text/html": [
       "<div>\n",
       "<style scoped>\n",
       "    .dataframe tbody tr th:only-of-type {\n",
       "        vertical-align: middle;\n",
       "    }\n",
       "\n",
       "    .dataframe tbody tr th {\n",
       "        vertical-align: top;\n",
       "    }\n",
       "\n",
       "    .dataframe thead th {\n",
       "        text-align: right;\n",
       "    }\n",
       "</style>\n",
       "<table border=\"1\" class=\"dataframe\">\n",
       "  <thead>\n",
       "    <tr style=\"text-align: right;\">\n",
       "      <th></th>\n",
       "      <th>exchange_rate</th>\n",
       "      <th>date</th>\n",
       "    </tr>\n",
       "  </thead>\n",
       "  <tbody>\n",
       "    <tr>\n",
       "      <th>0</th>\n",
       "      <td>90.8423</td>\n",
       "      <td>2024-03-01</td>\n",
       "    </tr>\n",
       "    <tr>\n",
       "      <th>1</th>\n",
       "      <td>91.3336</td>\n",
       "      <td>2024-03-02</td>\n",
       "    </tr>\n",
       "    <tr>\n",
       "      <th>2</th>\n",
       "      <td>91.3336</td>\n",
       "      <td>2024-03-03</td>\n",
       "    </tr>\n",
       "    <tr>\n",
       "      <th>3</th>\n",
       "      <td>91.3336</td>\n",
       "      <td>2024-03-04</td>\n",
       "    </tr>\n",
       "    <tr>\n",
       "      <th>4</th>\n",
       "      <td>91.3534</td>\n",
       "      <td>2024-03-05</td>\n",
       "    </tr>\n",
       "  </tbody>\n",
       "</table>\n",
       "</div>"
      ],
      "text/plain": [
       "   exchange_rate       date\n",
       "0        90.8423 2024-03-01\n",
       "1        91.3336 2024-03-02\n",
       "2        91.3336 2024-03-03\n",
       "3        91.3336 2024-03-04\n",
       "4        91.3534 2024-03-05"
      ]
     },
     "execution_count": 416,
     "metadata": {},
     "output_type": "execute_result"
    }
   ],
   "source": [
    "exchange_rate.head()"
   ]
  },
  {
   "cell_type": "code",
   "execution_count": 417,
   "metadata": {},
   "outputs": [
    {
     "data": {
      "text/plain": [
       "91.69706451612903"
      ]
     },
     "execution_count": 417,
     "metadata": {},
     "output_type": "execute_result"
    }
   ],
   "source": [
    "exchange_rate_mean = exchange_rate.exchange_rate.mean()\n",
    "exchange_rate_mean"
   ]
  },
  {
   "cell_type": "code",
   "execution_count": null,
   "metadata": {},
   "outputs": [],
   "source": []
  },
  {
   "cell_type": "markdown",
   "metadata": {},
   "source": [
    "## Шаг 12"
   ]
  },
  {
   "cell_type": "markdown",
   "metadata": {},
   "source": [
    "**Работу с ключевыми метриками начните с подсчета общей выручки.** Данные по товарам в подтвержденных заказах у вас есть в датафрейме `orders_status`, а стоимость одной единицы товара можно взять из датафрейма `df_products`. Объедините эти датафреймы в общий `df_full`, добавьте к ним информацию по курсу доллара на каждую дату. Создайте колонку с выручкой для каждого товара в заказах и посчитайте, **чему равна общая выручка в рублях?** Учитывайте только подтвержденные заказы. Результат округлите до двух знаков после точки."
   ]
  },
  {
   "cell_type": "code",
   "execution_count": 406,
   "metadata": {},
   "outputs": [
    {
     "data": {
      "text/html": [
       "<div>\n",
       "<style scoped>\n",
       "    .dataframe tbody tr th:only-of-type {\n",
       "        vertical-align: middle;\n",
       "    }\n",
       "\n",
       "    .dataframe tbody tr th {\n",
       "        vertical-align: top;\n",
       "    }\n",
       "\n",
       "    .dataframe thead th {\n",
       "        text-align: right;\n",
       "    }\n",
       "</style>\n",
       "<table border=\"1\" class=\"dataframe\">\n",
       "  <thead>\n",
       "    <tr style=\"text-align: right;\">\n",
       "      <th></th>\n",
       "      <th>order_id</th>\n",
       "      <th>product_id</th>\n",
       "      <th>quantity</th>\n",
       "      <th>manager</th>\n",
       "      <th>date</th>\n",
       "      <th>client_id</th>\n",
       "      <th>status</th>\n",
       "    </tr>\n",
       "  </thead>\n",
       "  <tbody>\n",
       "    <tr>\n",
       "      <th>0</th>\n",
       "      <td>QPLK-54839036</td>\n",
       "      <td>489</td>\n",
       "      <td>11</td>\n",
       "      <td>Владимир Ударников</td>\n",
       "      <td>2024-03-10</td>\n",
       "      <td>52</td>\n",
       "      <td>confirmed</td>\n",
       "    </tr>\n",
       "    <tr>\n",
       "      <th>1</th>\n",
       "      <td>QPLK-54839036</td>\n",
       "      <td>594</td>\n",
       "      <td>6</td>\n",
       "      <td>Владимир Ударников</td>\n",
       "      <td>2024-03-10</td>\n",
       "      <td>52</td>\n",
       "      <td>confirmed</td>\n",
       "    </tr>\n",
       "    <tr>\n",
       "      <th>2</th>\n",
       "      <td>QPLK-54839036</td>\n",
       "      <td>670</td>\n",
       "      <td>16</td>\n",
       "      <td>Владимир Ударников</td>\n",
       "      <td>2024-03-10</td>\n",
       "      <td>52</td>\n",
       "      <td>confirmed</td>\n",
       "    </tr>\n",
       "    <tr>\n",
       "      <th>3</th>\n",
       "      <td>QPLK-54839036</td>\n",
       "      <td>469</td>\n",
       "      <td>9</td>\n",
       "      <td>Владимир Ударников</td>\n",
       "      <td>2024-03-10</td>\n",
       "      <td>52</td>\n",
       "      <td>confirmed</td>\n",
       "    </tr>\n",
       "    <tr>\n",
       "      <th>4</th>\n",
       "      <td>QPLK-54839036</td>\n",
       "      <td>1302</td>\n",
       "      <td>5</td>\n",
       "      <td>Владимир Ударников</td>\n",
       "      <td>2024-03-10</td>\n",
       "      <td>52</td>\n",
       "      <td>confirmed</td>\n",
       "    </tr>\n",
       "  </tbody>\n",
       "</table>\n",
       "</div>"
      ],
      "text/plain": [
       "        order_id  product_id  quantity             manager       date  \\\n",
       "0  QPLK-54839036         489        11  Владимир Ударников 2024-03-10   \n",
       "1  QPLK-54839036         594         6  Владимир Ударников 2024-03-10   \n",
       "2  QPLK-54839036         670        16  Владимир Ударников 2024-03-10   \n",
       "3  QPLK-54839036         469         9  Владимир Ударников 2024-03-10   \n",
       "4  QPLK-54839036        1302         5  Владимир Ударников 2024-03-10   \n",
       "\n",
       "   client_id     status  \n",
       "0         52  confirmed  \n",
       "1         52  confirmed  \n",
       "2         52  confirmed  \n",
       "3         52  confirmed  \n",
       "4         52  confirmed  "
      ]
     },
     "execution_count": 406,
     "metadata": {},
     "output_type": "execute_result"
    }
   ],
   "source": [
    "orders_status.head()"
   ]
  },
  {
   "cell_type": "code",
   "execution_count": 407,
   "metadata": {},
   "outputs": [
    {
     "data": {
      "text/html": [
       "<div>\n",
       "<style scoped>\n",
       "    .dataframe tbody tr th:only-of-type {\n",
       "        vertical-align: middle;\n",
       "    }\n",
       "\n",
       "    .dataframe tbody tr th {\n",
       "        vertical-align: top;\n",
       "    }\n",
       "\n",
       "    .dataframe thead th {\n",
       "        text-align: right;\n",
       "    }\n",
       "</style>\n",
       "<table border=\"1\" class=\"dataframe\">\n",
       "  <thead>\n",
       "    <tr style=\"text-align: right;\">\n",
       "      <th></th>\n",
       "      <th>id</th>\n",
       "      <th>name</th>\n",
       "      <th>price</th>\n",
       "      <th>category</th>\n",
       "    </tr>\n",
       "  </thead>\n",
       "  <tbody>\n",
       "    <tr>\n",
       "      <th>0</th>\n",
       "      <td>207</td>\n",
       "      <td>Denon, AVR-S540BT</td>\n",
       "      <td>243.52</td>\n",
       "      <td>AV-ресивер</td>\n",
       "    </tr>\n",
       "    <tr>\n",
       "      <th>1</th>\n",
       "      <td>208</td>\n",
       "      <td>Denon, AVR-X3700H</td>\n",
       "      <td>1305.52</td>\n",
       "      <td>AV-ресивер</td>\n",
       "    </tr>\n",
       "    <tr>\n",
       "      <th>2</th>\n",
       "      <td>209</td>\n",
       "      <td>Denon, AVR-X4700H</td>\n",
       "      <td>1620.21</td>\n",
       "      <td>AV-ресивер</td>\n",
       "    </tr>\n",
       "    <tr>\n",
       "      <th>3</th>\n",
       "      <td>210</td>\n",
       "      <td>Denon, AVR-X6700H</td>\n",
       "      <td>2050.31</td>\n",
       "      <td>AV-ресивер</td>\n",
       "    </tr>\n",
       "    <tr>\n",
       "      <th>4</th>\n",
       "      <td>211</td>\n",
       "      <td>Denon, AVC-X4700H</td>\n",
       "      <td>1496.81</td>\n",
       "      <td>AV-ресивер</td>\n",
       "    </tr>\n",
       "  </tbody>\n",
       "</table>\n",
       "</div>"
      ],
      "text/plain": [
       "    id               name    price    category\n",
       "0  207  Denon, AVR-S540BT   243.52  AV-ресивер\n",
       "1  208  Denon, AVR-X3700H  1305.52  AV-ресивер\n",
       "2  209  Denon, AVR-X4700H  1620.21  AV-ресивер\n",
       "3  210  Denon, AVR-X6700H  2050.31  AV-ресивер\n",
       "4  211  Denon, AVC-X4700H  1496.81  AV-ресивер"
      ]
     },
     "execution_count": 407,
     "metadata": {},
     "output_type": "execute_result"
    }
   ],
   "source": [
    "df_products.head()"
   ]
  },
  {
   "cell_type": "code",
   "execution_count": 423,
   "metadata": {},
   "outputs": [
    {
     "data": {
      "text/plain": [
       "2038231821.56"
      ]
     },
     "execution_count": 423,
     "metadata": {},
     "output_type": "execute_result"
    }
   ],
   "source": [
    "# Ваш код здесь\n",
    "df_full = pd.merge(orders_status, df_products, left_on='product_id',right_on='id')\n",
    "df_full_curr = pd.merge(df_full, exchange_rate, on='date')\n",
    "df_full_curr['price_rub'] = df_full_curr['price'] * df_full_curr['exchange_rate']\n",
    "df_full_curr['revenue'] = df_full_curr['price_rub'] * df_full_curr['quantity']\n",
    "df_confirmed = df_full_curr.query('status == \"confirmed\"')\n",
    "df_revenue_sum = round(df_confirmed.revenue.sum(), 2)\n",
    "df_revenue_sum"
   ]
  },
  {
   "cell_type": "code",
   "execution_count": 485,
   "metadata": {},
   "outputs": [
    {
     "data": {
      "text/html": [
       "<div>\n",
       "<style scoped>\n",
       "    .dataframe tbody tr th:only-of-type {\n",
       "        vertical-align: middle;\n",
       "    }\n",
       "\n",
       "    .dataframe tbody tr th {\n",
       "        vertical-align: top;\n",
       "    }\n",
       "\n",
       "    .dataframe thead th {\n",
       "        text-align: right;\n",
       "    }\n",
       "</style>\n",
       "<table border=\"1\" class=\"dataframe\">\n",
       "  <thead>\n",
       "    <tr style=\"text-align: right;\">\n",
       "      <th></th>\n",
       "      <th>order_id</th>\n",
       "      <th>product_id</th>\n",
       "      <th>quantity</th>\n",
       "      <th>manager</th>\n",
       "      <th>date</th>\n",
       "      <th>client_id</th>\n",
       "      <th>status</th>\n",
       "      <th>id</th>\n",
       "      <th>name</th>\n",
       "      <th>price</th>\n",
       "      <th>category</th>\n",
       "      <th>exchange_rate</th>\n",
       "      <th>price_rub</th>\n",
       "      <th>revenue</th>\n",
       "    </tr>\n",
       "  </thead>\n",
       "  <tbody>\n",
       "    <tr>\n",
       "      <th>0</th>\n",
       "      <td>QPLK-54839036</td>\n",
       "      <td>489</td>\n",
       "      <td>11</td>\n",
       "      <td>Владимир Ударников</td>\n",
       "      <td>2024-03-10</td>\n",
       "      <td>52</td>\n",
       "      <td>confirmed</td>\n",
       "      <td>489</td>\n",
       "      <td>Heco, Ambient 33F</td>\n",
       "      <td>290.74</td>\n",
       "      <td>Настенная акустика</td>\n",
       "      <td>90.7493</td>\n",
       "      <td>26384.451482</td>\n",
       "      <td>2.902290e+05</td>\n",
       "    </tr>\n",
       "    <tr>\n",
       "      <th>1</th>\n",
       "      <td>QPLK-54839036</td>\n",
       "      <td>594</td>\n",
       "      <td>6</td>\n",
       "      <td>Владимир Ударников</td>\n",
       "      <td>2024-03-10</td>\n",
       "      <td>52</td>\n",
       "      <td>confirmed</td>\n",
       "      <td>594</td>\n",
       "      <td>JBL, Control 28-1</td>\n",
       "      <td>301.85</td>\n",
       "      <td>Настенная акустика</td>\n",
       "      <td>90.7493</td>\n",
       "      <td>27392.676205</td>\n",
       "      <td>1.643561e+05</td>\n",
       "    </tr>\n",
       "    <tr>\n",
       "      <th>2</th>\n",
       "      <td>QPLK-54839036</td>\n",
       "      <td>670</td>\n",
       "      <td>16</td>\n",
       "      <td>Владимир Ударников</td>\n",
       "      <td>2024-03-10</td>\n",
       "      <td>52</td>\n",
       "      <td>confirmed</td>\n",
       "      <td>670</td>\n",
       "      <td>KEF, LSX Wireless</td>\n",
       "      <td>810.17</td>\n",
       "      <td>Беспроводная акустика</td>\n",
       "      <td>90.7493</td>\n",
       "      <td>73522.360381</td>\n",
       "      <td>1.176358e+06</td>\n",
       "    </tr>\n",
       "    <tr>\n",
       "      <th>3</th>\n",
       "      <td>QPLK-54839036</td>\n",
       "      <td>469</td>\n",
       "      <td>9</td>\n",
       "      <td>Владимир Ударников</td>\n",
       "      <td>2024-03-10</td>\n",
       "      <td>52</td>\n",
       "      <td>confirmed</td>\n",
       "      <td>469</td>\n",
       "      <td>Heco, Studio Pro 10</td>\n",
       "      <td>82.34</td>\n",
       "      <td>Конденсаторный микрофон</td>\n",
       "      <td>90.7493</td>\n",
       "      <td>7472.297362</td>\n",
       "      <td>6.725068e+04</td>\n",
       "    </tr>\n",
       "    <tr>\n",
       "      <th>4</th>\n",
       "      <td>QPLK-54839036</td>\n",
       "      <td>1302</td>\n",
       "      <td>5</td>\n",
       "      <td>Владимир Ударников</td>\n",
       "      <td>2024-03-10</td>\n",
       "      <td>52</td>\n",
       "      <td>confirmed</td>\n",
       "      <td>1302</td>\n",
       "      <td>Rode, NT1-A</td>\n",
       "      <td>191.86</td>\n",
       "      <td>Конденсаторный микрофон</td>\n",
       "      <td>90.7493</td>\n",
       "      <td>17411.160698</td>\n",
       "      <td>8.705580e+04</td>\n",
       "    </tr>\n",
       "    <tr>\n",
       "      <th>...</th>\n",
       "      <td>...</td>\n",
       "      <td>...</td>\n",
       "      <td>...</td>\n",
       "      <td>...</td>\n",
       "      <td>...</td>\n",
       "      <td>...</td>\n",
       "      <td>...</td>\n",
       "      <td>...</td>\n",
       "      <td>...</td>\n",
       "      <td>...</td>\n",
       "      <td>...</td>\n",
       "      <td>...</td>\n",
       "      <td>...</td>\n",
       "      <td>...</td>\n",
       "    </tr>\n",
       "    <tr>\n",
       "      <th>4598</th>\n",
       "      <td>YHMP-64962628</td>\n",
       "      <td>564</td>\n",
       "      <td>40</td>\n",
       "      <td>Маргарита Камертонова</td>\n",
       "      <td>2024-03-03</td>\n",
       "      <td>44</td>\n",
       "      <td>confirmed</td>\n",
       "      <td>564</td>\n",
       "      <td>JBL, Tune 510BT</td>\n",
       "      <td>45.38</td>\n",
       "      <td>Беспроводные наушники</td>\n",
       "      <td>91.3336</td>\n",
       "      <td>4144.718768</td>\n",
       "      <td>1.657888e+05</td>\n",
       "    </tr>\n",
       "    <tr>\n",
       "      <th>4599</th>\n",
       "      <td>YHMP-64962628</td>\n",
       "      <td>486</td>\n",
       "      <td>17</td>\n",
       "      <td>Маргарита Камертонова</td>\n",
       "      <td>2024-03-03</td>\n",
       "      <td>44</td>\n",
       "      <td>confirmed</td>\n",
       "      <td>486</td>\n",
       "      <td>Heco, Ambient 22F</td>\n",
       "      <td>185.50</td>\n",
       "      <td>Настенная акустика</td>\n",
       "      <td>91.3336</td>\n",
       "      <td>16942.382800</td>\n",
       "      <td>2.880205e+05</td>\n",
       "    </tr>\n",
       "    <tr>\n",
       "      <th>4600</th>\n",
       "      <td>YHMP-64962628</td>\n",
       "      <td>832</td>\n",
       "      <td>28</td>\n",
       "      <td>Маргарита Камертонова</td>\n",
       "      <td>2024-03-03</td>\n",
       "      <td>44</td>\n",
       "      <td>confirmed</td>\n",
       "      <td>832</td>\n",
       "      <td>LG, SK1</td>\n",
       "      <td>86.56</td>\n",
       "      <td>Саундбар</td>\n",
       "      <td>91.3336</td>\n",
       "      <td>7905.836416</td>\n",
       "      <td>2.213634e+05</td>\n",
       "    </tr>\n",
       "    <tr>\n",
       "      <th>4601</th>\n",
       "      <td>YHMP-64962628</td>\n",
       "      <td>254</td>\n",
       "      <td>10</td>\n",
       "      <td>Маргарита Камертонова</td>\n",
       "      <td>2024-03-03</td>\n",
       "      <td>44</td>\n",
       "      <td>confirmed</td>\n",
       "      <td>254</td>\n",
       "      <td>Edifier, R1280T</td>\n",
       "      <td>86.99</td>\n",
       "      <td>Активные колонки</td>\n",
       "      <td>91.3336</td>\n",
       "      <td>7945.109864</td>\n",
       "      <td>7.945110e+04</td>\n",
       "    </tr>\n",
       "    <tr>\n",
       "      <th>4602</th>\n",
       "      <td>YHMP-64962628</td>\n",
       "      <td>537</td>\n",
       "      <td>4</td>\n",
       "      <td>Маргарита Камертонова</td>\n",
       "      <td>2024-03-03</td>\n",
       "      <td>44</td>\n",
       "      <td>confirmed</td>\n",
       "      <td>537</td>\n",
       "      <td>ION Audio, Party Rocker Plus</td>\n",
       "      <td>280.48</td>\n",
       "      <td>Система караоке</td>\n",
       "      <td>91.3336</td>\n",
       "      <td>25617.248128</td>\n",
       "      <td>1.024690e+05</td>\n",
       "    </tr>\n",
       "  </tbody>\n",
       "</table>\n",
       "<p>4083 rows × 14 columns</p>\n",
       "</div>"
      ],
      "text/plain": [
       "           order_id  product_id  quantity                manager       date  \\\n",
       "0     QPLK-54839036         489        11     Владимир Ударников 2024-03-10   \n",
       "1     QPLK-54839036         594         6     Владимир Ударников 2024-03-10   \n",
       "2     QPLK-54839036         670        16     Владимир Ударников 2024-03-10   \n",
       "3     QPLK-54839036         469         9     Владимир Ударников 2024-03-10   \n",
       "4     QPLK-54839036        1302         5     Владимир Ударников 2024-03-10   \n",
       "...             ...         ...       ...                    ...        ...   \n",
       "4598  YHMP-64962628         564        40  Маргарита Камертонова 2024-03-03   \n",
       "4599  YHMP-64962628         486        17  Маргарита Камертонова 2024-03-03   \n",
       "4600  YHMP-64962628         832        28  Маргарита Камертонова 2024-03-03   \n",
       "4601  YHMP-64962628         254        10  Маргарита Камертонова 2024-03-03   \n",
       "4602  YHMP-64962628         537         4  Маргарита Камертонова 2024-03-03   \n",
       "\n",
       "      client_id     status    id                          name   price  \\\n",
       "0            52  confirmed   489             Heco, Ambient 33F  290.74   \n",
       "1            52  confirmed   594             JBL, Control 28-1  301.85   \n",
       "2            52  confirmed   670             KEF, LSX Wireless  810.17   \n",
       "3            52  confirmed   469           Heco, Studio Pro 10   82.34   \n",
       "4            52  confirmed  1302                   Rode, NT1-A  191.86   \n",
       "...         ...        ...   ...                           ...     ...   \n",
       "4598         44  confirmed   564               JBL, Tune 510BT   45.38   \n",
       "4599         44  confirmed   486             Heco, Ambient 22F  185.50   \n",
       "4600         44  confirmed   832                       LG, SK1   86.56   \n",
       "4601         44  confirmed   254               Edifier, R1280T   86.99   \n",
       "4602         44  confirmed   537  ION Audio, Party Rocker Plus  280.48   \n",
       "\n",
       "                     category  exchange_rate     price_rub       revenue  \n",
       "0          Настенная акустика        90.7493  26384.451482  2.902290e+05  \n",
       "1          Настенная акустика        90.7493  27392.676205  1.643561e+05  \n",
       "2       Беспроводная акустика        90.7493  73522.360381  1.176358e+06  \n",
       "3     Конденсаторный микрофон        90.7493   7472.297362  6.725068e+04  \n",
       "4     Конденсаторный микрофон        90.7493  17411.160698  8.705580e+04  \n",
       "...                       ...            ...           ...           ...  \n",
       "4598    Беспроводные наушники        91.3336   4144.718768  1.657888e+05  \n",
       "4599       Настенная акустика        91.3336  16942.382800  2.880205e+05  \n",
       "4600                 Саундбар        91.3336   7905.836416  2.213634e+05  \n",
       "4601         Активные колонки        91.3336   7945.109864  7.945110e+04  \n",
       "4602          Система караоке        91.3336  25617.248128  1.024690e+05  \n",
       "\n",
       "[4083 rows x 14 columns]"
      ]
     },
     "execution_count": 485,
     "metadata": {},
     "output_type": "execute_result"
    }
   ],
   "source": [
    "df_confirmed"
   ]
  },
  {
   "cell_type": "markdown",
   "metadata": {},
   "source": [
    "## Шаг 13"
   ]
  },
  {
   "cell_type": "markdown",
   "metadata": {},
   "source": [
    "**Следующая метрика, которую вам нужно посчитать — средний чек в этом месяце (в рублях).** Разделите общую выручку на количество заказов. Результат округлите до двух знаков после точки."
   ]
  },
  {
   "cell_type": "code",
   "execution_count": 427,
   "metadata": {},
   "outputs": [
    {
     "data": {
      "text/plain": [
       "6596219.49"
      ]
     },
     "execution_count": 427,
     "metadata": {},
     "output_type": "execute_result"
    }
   ],
   "source": [
    "# Ваш код здесь\n",
    "df_confirmed_orders = df_confirmed.order_id.nunique()\n",
    "mean_revenue = round(df_revenue_sum / df_confirmed_orders, 2)\n",
    "mean_revenue"
   ]
  },
  {
   "cell_type": "code",
   "execution_count": null,
   "metadata": {},
   "outputs": [],
   "source": []
  },
  {
   "cell_type": "markdown",
   "metadata": {},
   "source": [
    "## Шаг 14"
   ]
  },
  {
   "cell_type": "markdown",
   "metadata": {},
   "source": [
    "Ключевые метрики месяца вы посчитали, теперь попробуйте посмотреть на их динамику внутри месяца: посчитайте выручку, средний чек и число заказов — на каждый день. Посмотрите на графики и выберите верные ответы:\n",
    "\n",
    "- число заказов и выручка каждый день изменяются в одинаковом направлении (если в этот день число заказов выросло, то и выручка выросла; число заказов упало — в этот же день упала и выручка)  \n",
    "- число заказов и выручка не каждый день изменяются в одинаковом направлении (если в какой-то день число заказов выросло, то выручка может упасть, и наоборот: число заказов упало — в этот же день выручка выросла)  \n",
    "- средний чек и выручка каждый день изменяются в одинаковом направлении (если в этот день средний чек вырос, то и выручка выросла; средний чек упал — в этот же день упала и выручка)  \n",
    "- средний чек и выручка не каждый день изменяются в одинаковом направлении (если в какой-то день средний чек вырос, то выручка может упасть, и наоборот: средний чек упал — в этот же день выручка выросла)  \n",
    "- в день с наибольшим числом заказов и выручка, и средний чек также показывают максимальное значение  \n",
    "- в день с наибольшим числом заказов выручка и/или средний чек не показывают максимальное значение  \n",
    "- с течением времени выручка то увеличивается, то уменьшается  \n",
    "- с течением времени выручка только увеличивается  \n",
    "- на протяжении всего месяца средний чек то увеличивается, то уменьшается  \n",
    "- средний чек на протяжении всего месяца имеет одинаковое значение"
   ]
  },
  {
   "cell_type": "code",
   "execution_count": 439,
   "metadata": {},
   "outputs": [
    {
     "data": {
      "text/html": [
       "<div>\n",
       "<style scoped>\n",
       "    .dataframe tbody tr th:only-of-type {\n",
       "        vertical-align: middle;\n",
       "    }\n",
       "\n",
       "    .dataframe tbody tr th {\n",
       "        vertical-align: top;\n",
       "    }\n",
       "\n",
       "    .dataframe thead th {\n",
       "        text-align: right;\n",
       "    }\n",
       "</style>\n",
       "<table border=\"1\" class=\"dataframe\">\n",
       "  <thead>\n",
       "    <tr style=\"text-align: right;\">\n",
       "      <th></th>\n",
       "      <th>date</th>\n",
       "      <th>orders</th>\n",
       "      <th>revenue</th>\n",
       "      <th>mean_revenue</th>\n",
       "    </tr>\n",
       "  </thead>\n",
       "  <tbody>\n",
       "    <tr>\n",
       "      <th>0</th>\n",
       "      <td>2024-03-01</td>\n",
       "      <td>20</td>\n",
       "      <td>1.554118e+08</td>\n",
       "      <td>7.770588e+06</td>\n",
       "    </tr>\n",
       "    <tr>\n",
       "      <th>1</th>\n",
       "      <td>2024-03-02</td>\n",
       "      <td>2</td>\n",
       "      <td>1.197167e+07</td>\n",
       "      <td>5.985834e+06</td>\n",
       "    </tr>\n",
       "    <tr>\n",
       "      <th>2</th>\n",
       "      <td>2024-03-03</td>\n",
       "      <td>1</td>\n",
       "      <td>2.548418e+06</td>\n",
       "      <td>2.548418e+06</td>\n",
       "    </tr>\n",
       "    <tr>\n",
       "      <th>3</th>\n",
       "      <td>2024-03-04</td>\n",
       "      <td>10</td>\n",
       "      <td>6.404993e+07</td>\n",
       "      <td>6.404993e+06</td>\n",
       "    </tr>\n",
       "    <tr>\n",
       "      <th>4</th>\n",
       "      <td>2024-03-05</td>\n",
       "      <td>18</td>\n",
       "      <td>8.952724e+07</td>\n",
       "      <td>4.973735e+06</td>\n",
       "    </tr>\n",
       "  </tbody>\n",
       "</table>\n",
       "</div>"
      ],
      "text/plain": [
       "        date  orders       revenue  mean_revenue\n",
       "0 2024-03-01      20  1.554118e+08  7.770588e+06\n",
       "1 2024-03-02       2  1.197167e+07  5.985834e+06\n",
       "2 2024-03-03       1  2.548418e+06  2.548418e+06\n",
       "3 2024-03-04      10  6.404993e+07  6.404993e+06\n",
       "4 2024-03-05      18  8.952724e+07  4.973735e+06"
      ]
     },
     "execution_count": 439,
     "metadata": {},
     "output_type": "execute_result"
    }
   ],
   "source": [
    "# Ваш код здесь\n",
    "df_report_by_date = df_confirmed.groupby('date').agg({'order_id': 'nunique', 'revenue': 'sum'}).reset_index()\n",
    "df_report_by_date = df_report_by_date.rename(columns={'order_id' : 'orders'})\n",
    "df_report_by_date\n",
    "df_report_by_date['mean_revenue'] = df_report_by_date['revenue'] / df_report_by_date['orders']\n",
    "df_report_by_date.head()"
   ]
  },
  {
   "cell_type": "code",
   "execution_count": 452,
   "metadata": {},
   "outputs": [
    {
     "data": {
      "text/plain": [
       "[<matplotlib.lines.Line2D at 0x7f19fee34198>]"
      ]
     },
     "execution_count": 452,
     "metadata": {},
     "output_type": "execute_result"
    },
    {
     "data": {
      "image/png": "[encoded data removed]",
      "text/plain": [
       "<Figure size 504x360 with 1 Axes>"
      ]
     },
     "metadata": {},
     "output_type": "display_data"
    }
   ],
   "source": [
    "plt.figure(figsize=(7,5))\n",
    "plt.plot(df_report_by_date['date'], df_report_by_date['orders'], marker='o', color='blue')"
   ]
  },
  {
   "cell_type": "code",
   "execution_count": 453,
   "metadata": {},
   "outputs": [
    {
     "data": {
      "text/plain": [
       "[<matplotlib.lines.Line2D at 0x7f19fedc4fd0>]"
      ]
     },
     "execution_count": 453,
     "metadata": {},
     "output_type": "execute_result"
    },
    {
     "data": {
      "image/png": "[encoded data removed]",
      "text/plain": [
       "<Figure size 504x360 with 1 Axes>"
      ]
     },
     "metadata": {},
     "output_type": "display_data"
    }
   ],
   "source": [
    "plt.figure(figsize=(7,5))\n",
    "plt.plot(df_report_by_date['date'], df_report_by_date['revenue'], marker='o', color='blue')"
   ]
  },
  {
   "cell_type": "code",
   "execution_count": 454,
   "metadata": {},
   "outputs": [
    {
     "data": {
      "text/plain": [
       "[<matplotlib.lines.Line2D at 0x7f19fed8fdd8>]"
      ]
     },
     "execution_count": 454,
     "metadata": {},
     "output_type": "execute_result"
    },
    {
     "data": {
      "image/png": "[encoded data removed]",
      "text/plain": [
       "<Figure size 504x360 with 1 Axes>"
      ]
     },
     "metadata": {},
     "output_type": "display_data"
    }
   ],
   "source": [
    "plt.figure(figsize=(7,5))\n",
    "plt.plot(df_report_by_date['date'], df_report_by_date['mean_revenue'], marker='o', color='blue')"
   ]
  },
  {
   "cell_type": "markdown",
   "metadata": {},
   "source": [
    "### Проанализируем интерес клиентов к брендам"
   ]
  },
  {
   "cell_type": "markdown",
   "metadata": {},
   "source": [
    "## Шаг 15"
   ]
  },
  {
   "cell_type": "markdown",
   "metadata": {},
   "source": [
    "К вам снова обратился руководитель отдела продаж. Он хочет разобраться, какие бренды востребованы среди клиентов, а какие — нет. На основе данных о названиях товаров в датафрейме `df_full` создайте новую колонку `brand`, где будет только название бренда. **Посчитайте, сколькими брендами интересовались клиенты** (статус заказа здесь не важен, если запись о бренде попала в данные о заказах, значит клиент заказал или хотел заказать товар этого бренда)."
   ]
  },
  {
   "cell_type": "code",
   "execution_count": 492,
   "metadata": {},
   "outputs": [
    {
     "data": {
      "text/html": [
       "<div>\n",
       "<style scoped>\n",
       "    .dataframe tbody tr th:only-of-type {\n",
       "        vertical-align: middle;\n",
       "    }\n",
       "\n",
       "    .dataframe tbody tr th {\n",
       "        vertical-align: top;\n",
       "    }\n",
       "\n",
       "    .dataframe thead th {\n",
       "        text-align: right;\n",
       "    }\n",
       "</style>\n",
       "<table border=\"1\" class=\"dataframe\">\n",
       "  <thead>\n",
       "    <tr style=\"text-align: right;\">\n",
       "      <th></th>\n",
       "      <th>order_id</th>\n",
       "      <th>product_id</th>\n",
       "      <th>quantity</th>\n",
       "      <th>manager</th>\n",
       "      <th>date</th>\n",
       "      <th>client_id</th>\n",
       "      <th>status</th>\n",
       "      <th>id</th>\n",
       "      <th>name</th>\n",
       "      <th>price</th>\n",
       "      <th>category</th>\n",
       "      <th>exchange_rate</th>\n",
       "      <th>price_rub</th>\n",
       "      <th>revenue</th>\n",
       "      <th>brand</th>\n",
       "    </tr>\n",
       "  </thead>\n",
       "  <tbody>\n",
       "    <tr>\n",
       "      <th>0</th>\n",
       "      <td>QPLK-54839036</td>\n",
       "      <td>489</td>\n",
       "      <td>11</td>\n",
       "      <td>Владимир Ударников</td>\n",
       "      <td>2024-03-10</td>\n",
       "      <td>52</td>\n",
       "      <td>confirmed</td>\n",
       "      <td>489</td>\n",
       "      <td>Heco, Ambient 33F</td>\n",
       "      <td>290.74</td>\n",
       "      <td>Настенная акустика</td>\n",
       "      <td>90.7493</td>\n",
       "      <td>26384.451482</td>\n",
       "      <td>2.902290e+05</td>\n",
       "      <td>Heco</td>\n",
       "    </tr>\n",
       "    <tr>\n",
       "      <th>1</th>\n",
       "      <td>QPLK-54839036</td>\n",
       "      <td>594</td>\n",
       "      <td>6</td>\n",
       "      <td>Владимир Ударников</td>\n",
       "      <td>2024-03-10</td>\n",
       "      <td>52</td>\n",
       "      <td>confirmed</td>\n",
       "      <td>594</td>\n",
       "      <td>JBL, Control 28-1</td>\n",
       "      <td>301.85</td>\n",
       "      <td>Настенная акустика</td>\n",
       "      <td>90.7493</td>\n",
       "      <td>27392.676205</td>\n",
       "      <td>1.643561e+05</td>\n",
       "      <td>JBL</td>\n",
       "    </tr>\n",
       "    <tr>\n",
       "      <th>2</th>\n",
       "      <td>QPLK-54839036</td>\n",
       "      <td>670</td>\n",
       "      <td>16</td>\n",
       "      <td>Владимир Ударников</td>\n",
       "      <td>2024-03-10</td>\n",
       "      <td>52</td>\n",
       "      <td>confirmed</td>\n",
       "      <td>670</td>\n",
       "      <td>KEF, LSX Wireless</td>\n",
       "      <td>810.17</td>\n",
       "      <td>Беспроводная акустика</td>\n",
       "      <td>90.7493</td>\n",
       "      <td>73522.360381</td>\n",
       "      <td>1.176358e+06</td>\n",
       "      <td>KEF</td>\n",
       "    </tr>\n",
       "    <tr>\n",
       "      <th>3</th>\n",
       "      <td>QPLK-54839036</td>\n",
       "      <td>469</td>\n",
       "      <td>9</td>\n",
       "      <td>Владимир Ударников</td>\n",
       "      <td>2024-03-10</td>\n",
       "      <td>52</td>\n",
       "      <td>confirmed</td>\n",
       "      <td>469</td>\n",
       "      <td>Heco, Studio Pro 10</td>\n",
       "      <td>82.34</td>\n",
       "      <td>Конденсаторный микрофон</td>\n",
       "      <td>90.7493</td>\n",
       "      <td>7472.297362</td>\n",
       "      <td>6.725068e+04</td>\n",
       "      <td>Heco</td>\n",
       "    </tr>\n",
       "    <tr>\n",
       "      <th>4</th>\n",
       "      <td>QPLK-54839036</td>\n",
       "      <td>1302</td>\n",
       "      <td>5</td>\n",
       "      <td>Владимир Ударников</td>\n",
       "      <td>2024-03-10</td>\n",
       "      <td>52</td>\n",
       "      <td>confirmed</td>\n",
       "      <td>1302</td>\n",
       "      <td>Rode, NT1-A</td>\n",
       "      <td>191.86</td>\n",
       "      <td>Конденсаторный микрофон</td>\n",
       "      <td>90.7493</td>\n",
       "      <td>17411.160698</td>\n",
       "      <td>8.705580e+04</td>\n",
       "      <td>Rode</td>\n",
       "    </tr>\n",
       "  </tbody>\n",
       "</table>\n",
       "</div>"
      ],
      "text/plain": [
       "        order_id  product_id  quantity             manager       date  \\\n",
       "0  QPLK-54839036         489        11  Владимир Ударников 2024-03-10   \n",
       "1  QPLK-54839036         594         6  Владимир Ударников 2024-03-10   \n",
       "2  QPLK-54839036         670        16  Владимир Ударников 2024-03-10   \n",
       "3  QPLK-54839036         469         9  Владимир Ударников 2024-03-10   \n",
       "4  QPLK-54839036        1302         5  Владимир Ударников 2024-03-10   \n",
       "\n",
       "   client_id     status    id                 name   price  \\\n",
       "0         52  confirmed   489    Heco, Ambient 33F  290.74   \n",
       "1         52  confirmed   594    JBL, Control 28-1  301.85   \n",
       "2         52  confirmed   670    KEF, LSX Wireless  810.17   \n",
       "3         52  confirmed   469  Heco, Studio Pro 10   82.34   \n",
       "4         52  confirmed  1302          Rode, NT1-A  191.86   \n",
       "\n",
       "                  category  exchange_rate     price_rub       revenue brand  \n",
       "0       Настенная акустика        90.7493  26384.451482  2.902290e+05  Heco  \n",
       "1       Настенная акустика        90.7493  27392.676205  1.643561e+05   JBL  \n",
       "2    Беспроводная акустика        90.7493  73522.360381  1.176358e+06   KEF  \n",
       "3  Конденсаторный микрофон        90.7493   7472.297362  6.725068e+04  Heco  \n",
       "4  Конденсаторный микрофон        90.7493  17411.160698  8.705580e+04  Rode  "
      ]
     },
     "execution_count": 492,
     "metadata": {},
     "output_type": "execute_result"
    }
   ],
   "source": [
    "df_confirmed.head()"
   ]
  },
  {
   "cell_type": "code",
   "execution_count": 493,
   "metadata": {},
   "outputs": [
    {
     "name": "stderr",
     "output_type": "stream",
     "text": [
      "/opt/tljh/user/lib/python3.7/site-packages/ipykernel_launcher.py:2: SettingWithCopyWarning: \n",
      "A value is trying to be set on a copy of a slice from a DataFrame.\n",
      "Try using .loc[row_indexer,col_indexer] = value instead\n",
      "\n",
      "See the caveats in the documentation: https://pandas.pydata.org/pandas-docs/stable/user_guide/indexing.html#returning-a-view-versus-a-copy\n",
      "  \n"
     ]
    },
    {
     "data": {
      "text/plain": [
       "121"
      ]
     },
     "execution_count": 493,
     "metadata": {},
     "output_type": "execute_result"
    }
   ],
   "source": [
    "# Ваш код здесь\n",
    "df_confirmed['brand'] = df_confirmed['name'].apply(lambda x: x.split(',')[0])\n",
    "df_confirmed_brand_uniq = df_confirmed.brand.nunique()\n",
    "df_confirmed_brand_uniq"
   ]
  },
  {
   "cell_type": "markdown",
   "metadata": {},
   "source": [
    "## Шаг 16"
   ]
  },
  {
   "cell_type": "markdown",
   "metadata": {},
   "source": [
    "Посчитайте, какую выручку принес каждый бренд и в скольких подтвержденных заказах были товары этого бренда. **Определите, какой бренд принес наибольшую выручку.** В ответ укажите его название.\n",
    "\n",
    "Дополнительно: проверьте, именно этот бренд встречается в большем количестве заказов, чем другие бренды? Или может его реже заказывают, но на более крупные суммы?"
   ]
  },
  {
   "cell_type": "code",
   "execution_count": 494,
   "metadata": {},
   "outputs": [
    {
     "data": {
      "text/html": [
       "<div>\n",
       "<style scoped>\n",
       "    .dataframe tbody tr th:only-of-type {\n",
       "        vertical-align: middle;\n",
       "    }\n",
       "\n",
       "    .dataframe tbody tr th {\n",
       "        vertical-align: top;\n",
       "    }\n",
       "\n",
       "    .dataframe thead th {\n",
       "        text-align: right;\n",
       "    }\n",
       "</style>\n",
       "<table border=\"1\" class=\"dataframe\">\n",
       "  <thead>\n",
       "    <tr style=\"text-align: right;\">\n",
       "      <th></th>\n",
       "      <th>order_id</th>\n",
       "      <th>product_id</th>\n",
       "      <th>quantity</th>\n",
       "      <th>manager</th>\n",
       "      <th>date</th>\n",
       "      <th>client_id</th>\n",
       "      <th>status</th>\n",
       "      <th>id</th>\n",
       "      <th>name</th>\n",
       "      <th>price</th>\n",
       "      <th>category</th>\n",
       "      <th>exchange_rate</th>\n",
       "      <th>price_rub</th>\n",
       "      <th>revenue</th>\n",
       "      <th>brand</th>\n",
       "    </tr>\n",
       "  </thead>\n",
       "  <tbody>\n",
       "    <tr>\n",
       "      <th>0</th>\n",
       "      <td>QPLK-54839036</td>\n",
       "      <td>489</td>\n",
       "      <td>11</td>\n",
       "      <td>Владимир Ударников</td>\n",
       "      <td>2024-03-10</td>\n",
       "      <td>52</td>\n",
       "      <td>confirmed</td>\n",
       "      <td>489</td>\n",
       "      <td>Heco, Ambient 33F</td>\n",
       "      <td>290.74</td>\n",
       "      <td>Настенная акустика</td>\n",
       "      <td>90.7493</td>\n",
       "      <td>26384.451482</td>\n",
       "      <td>2.902290e+05</td>\n",
       "      <td>Heco</td>\n",
       "    </tr>\n",
       "    <tr>\n",
       "      <th>1</th>\n",
       "      <td>QPLK-54839036</td>\n",
       "      <td>594</td>\n",
       "      <td>6</td>\n",
       "      <td>Владимир Ударников</td>\n",
       "      <td>2024-03-10</td>\n",
       "      <td>52</td>\n",
       "      <td>confirmed</td>\n",
       "      <td>594</td>\n",
       "      <td>JBL, Control 28-1</td>\n",
       "      <td>301.85</td>\n",
       "      <td>Настенная акустика</td>\n",
       "      <td>90.7493</td>\n",
       "      <td>27392.676205</td>\n",
       "      <td>1.643561e+05</td>\n",
       "      <td>JBL</td>\n",
       "    </tr>\n",
       "    <tr>\n",
       "      <th>2</th>\n",
       "      <td>QPLK-54839036</td>\n",
       "      <td>670</td>\n",
       "      <td>16</td>\n",
       "      <td>Владимир Ударников</td>\n",
       "      <td>2024-03-10</td>\n",
       "      <td>52</td>\n",
       "      <td>confirmed</td>\n",
       "      <td>670</td>\n",
       "      <td>KEF, LSX Wireless</td>\n",
       "      <td>810.17</td>\n",
       "      <td>Беспроводная акустика</td>\n",
       "      <td>90.7493</td>\n",
       "      <td>73522.360381</td>\n",
       "      <td>1.176358e+06</td>\n",
       "      <td>KEF</td>\n",
       "    </tr>\n",
       "    <tr>\n",
       "      <th>3</th>\n",
       "      <td>QPLK-54839036</td>\n",
       "      <td>469</td>\n",
       "      <td>9</td>\n",
       "      <td>Владимир Ударников</td>\n",
       "      <td>2024-03-10</td>\n",
       "      <td>52</td>\n",
       "      <td>confirmed</td>\n",
       "      <td>469</td>\n",
       "      <td>Heco, Studio Pro 10</td>\n",
       "      <td>82.34</td>\n",
       "      <td>Конденсаторный микрофон</td>\n",
       "      <td>90.7493</td>\n",
       "      <td>7472.297362</td>\n",
       "      <td>6.725068e+04</td>\n",
       "      <td>Heco</td>\n",
       "    </tr>\n",
       "    <tr>\n",
       "      <th>4</th>\n",
       "      <td>QPLK-54839036</td>\n",
       "      <td>1302</td>\n",
       "      <td>5</td>\n",
       "      <td>Владимир Ударников</td>\n",
       "      <td>2024-03-10</td>\n",
       "      <td>52</td>\n",
       "      <td>confirmed</td>\n",
       "      <td>1302</td>\n",
       "      <td>Rode, NT1-A</td>\n",
       "      <td>191.86</td>\n",
       "      <td>Конденсаторный микрофон</td>\n",
       "      <td>90.7493</td>\n",
       "      <td>17411.160698</td>\n",
       "      <td>8.705580e+04</td>\n",
       "      <td>Rode</td>\n",
       "    </tr>\n",
       "  </tbody>\n",
       "</table>\n",
       "</div>"
      ],
      "text/plain": [
       "        order_id  product_id  quantity             manager       date  \\\n",
       "0  QPLK-54839036         489        11  Владимир Ударников 2024-03-10   \n",
       "1  QPLK-54839036         594         6  Владимир Ударников 2024-03-10   \n",
       "2  QPLK-54839036         670        16  Владимир Ударников 2024-03-10   \n",
       "3  QPLK-54839036         469         9  Владимир Ударников 2024-03-10   \n",
       "4  QPLK-54839036        1302         5  Владимир Ударников 2024-03-10   \n",
       "\n",
       "   client_id     status    id                 name   price  \\\n",
       "0         52  confirmed   489    Heco, Ambient 33F  290.74   \n",
       "1         52  confirmed   594    JBL, Control 28-1  301.85   \n",
       "2         52  confirmed   670    KEF, LSX Wireless  810.17   \n",
       "3         52  confirmed   469  Heco, Studio Pro 10   82.34   \n",
       "4         52  confirmed  1302          Rode, NT1-A  191.86   \n",
       "\n",
       "                  category  exchange_rate     price_rub       revenue brand  \n",
       "0       Настенная акустика        90.7493  26384.451482  2.902290e+05  Heco  \n",
       "1       Настенная акустика        90.7493  27392.676205  1.643561e+05   JBL  \n",
       "2    Беспроводная акустика        90.7493  73522.360381  1.176358e+06   KEF  \n",
       "3  Конденсаторный микрофон        90.7493   7472.297362  6.725068e+04  Heco  \n",
       "4  Конденсаторный микрофон        90.7493  17411.160698  8.705580e+04  Rode  "
      ]
     },
     "execution_count": 494,
     "metadata": {},
     "output_type": "execute_result"
    }
   ],
   "source": [
    "df_confirmed.head()"
   ]
  },
  {
   "cell_type": "code",
   "execution_count": 506,
   "metadata": {},
   "outputs": [
    {
     "data": {
      "text/html": [
       "<div>\n",
       "<style scoped>\n",
       "    .dataframe tbody tr th:only-of-type {\n",
       "        vertical-align: middle;\n",
       "    }\n",
       "\n",
       "    .dataframe tbody tr th {\n",
       "        vertical-align: top;\n",
       "    }\n",
       "\n",
       "    .dataframe thead th {\n",
       "        text-align: right;\n",
       "    }\n",
       "</style>\n",
       "<table border=\"1\" class=\"dataframe\">\n",
       "  <thead>\n",
       "    <tr style=\"text-align: right;\">\n",
       "      <th></th>\n",
       "      <th>brand</th>\n",
       "      <th>revenue</th>\n",
       "      <th>orders</th>\n",
       "    </tr>\n",
       "  </thead>\n",
       "  <tbody>\n",
       "    <tr>\n",
       "      <th>46</th>\n",
       "      <td>JBL</td>\n",
       "      <td>2.665961e+08</td>\n",
       "      <td>264</td>\n",
       "    </tr>\n",
       "    <tr>\n",
       "      <th>43</th>\n",
       "      <td>Heco</td>\n",
       "      <td>2.388163e+08</td>\n",
       "      <td>229</td>\n",
       "    </tr>\n",
       "    <tr>\n",
       "      <th>120</th>\n",
       "      <td>Yamaha</td>\n",
       "      <td>1.658651e+08</td>\n",
       "      <td>218</td>\n",
       "    </tr>\n",
       "    <tr>\n",
       "      <th>53</th>\n",
       "      <td>Klipsch</td>\n",
       "      <td>2.039024e+08</td>\n",
       "      <td>205</td>\n",
       "    </tr>\n",
       "    <tr>\n",
       "      <th>62</th>\n",
       "      <td>Magnat</td>\n",
       "      <td>1.141989e+08</td>\n",
       "      <td>154</td>\n",
       "    </tr>\n",
       "    <tr>\n",
       "      <th>...</th>\n",
       "      <td>...</td>\n",
       "      <td>...</td>\n",
       "      <td>...</td>\n",
       "    </tr>\n",
       "    <tr>\n",
       "      <th>8</th>\n",
       "      <td>AudioSource</td>\n",
       "      <td>3.388167e+04</td>\n",
       "      <td>1</td>\n",
       "    </tr>\n",
       "    <tr>\n",
       "      <th>40</th>\n",
       "      <td>Fosi Audio</td>\n",
       "      <td>3.129419e+04</td>\n",
       "      <td>1</td>\n",
       "    </tr>\n",
       "    <tr>\n",
       "      <th>107</th>\n",
       "      <td>Technics</td>\n",
       "      <td>2.648291e+05</td>\n",
       "      <td>1</td>\n",
       "    </tr>\n",
       "    <tr>\n",
       "      <th>18</th>\n",
       "      <td>Bravo Audio</td>\n",
       "      <td>2.405086e+04</td>\n",
       "      <td>1</td>\n",
       "    </tr>\n",
       "    <tr>\n",
       "      <th>24</th>\n",
       "      <td>Creative</td>\n",
       "      <td>1.001419e+04</td>\n",
       "      <td>1</td>\n",
       "    </tr>\n",
       "  </tbody>\n",
       "</table>\n",
       "<p>121 rows × 3 columns</p>\n",
       "</div>"
      ],
      "text/plain": [
       "           brand       revenue  orders\n",
       "46           JBL  2.665961e+08     264\n",
       "43          Heco  2.388163e+08     229\n",
       "120       Yamaha  1.658651e+08     218\n",
       "53       Klipsch  2.039024e+08     205\n",
       "62        Magnat  1.141989e+08     154\n",
       "..           ...           ...     ...\n",
       "8    AudioSource  3.388167e+04       1\n",
       "40    Fosi Audio  3.129419e+04       1\n",
       "107     Technics  2.648291e+05       1\n",
       "18   Bravo Audio  2.405086e+04       1\n",
       "24      Creative  1.001419e+04       1\n",
       "\n",
       "[121 rows x 3 columns]"
      ]
     },
     "execution_count": 506,
     "metadata": {},
     "output_type": "execute_result"
    }
   ],
   "source": [
    "df_confirmed_brand = df_confirmed.groupby('brand').agg({'revenue': 'sum', 'order_id': 'nunique'}).reset_index()\n",
    "df_confirmed_brand = df_confirmed_brand.rename(columns={'order_id':'orders'})\n",
    "df_confirmed_brand = df_confirmed_brand.sort_values(by='revenue',ascending = False)\n",
    "df_confirmed_brand = df_confirmed_brand.sort_values(by='orders',ascending = False)\n",
    "df_confirmed_brand"
   ]
  },
  {
   "cell_type": "markdown",
   "metadata": {},
   "source": [
    "## Шаг 17"
   ]
  },
  {
   "cell_type": "markdown",
   "metadata": {},
   "source": [
    "У одних брендов большинство товаров востребовано клиентами, а у других — клиенты заказывают только небольшую часть товаров, а остальные зря занимают виртуальную «полку» в перечне товаров, продаваемых вашей компанией. **Вам нужно определить, какие бренды редко попадают в заказы, хотя товаров таких брендов на самом деле много.**\n",
    "\n",
    "Начнем с того, что определим, какие товары из имеющихся в продаже хоть раз заказывали, а какие — нет. Для этого соберите список из перечня уникальных идентификаторов товаров, которые встречаются в датафрейме `df_confirmed`. После этого для каждого товара в датафрейме `df_products` определите, был ли этот товар в списке заказанных товаров в этом месяце или нет: создайте новую колонку `is_in_orders` и заполните её соответственно значениями `yes` или `no` для каждого товара.\n",
    "\n",
    "**В ответе укажите, сколько товаров были заказаны, а сколько — не были**"
   ]
  },
  {
   "cell_type": "code",
   "execution_count": 522,
   "metadata": {},
   "outputs": [
    {
     "data": {
      "text/plain": [
       "array([489, 594, 670, ..., 656, 223, 537])"
      ]
     },
     "execution_count": 522,
     "metadata": {},
     "output_type": "execute_result"
    }
   ],
   "source": [
    "# Ваш код здесь\n",
    "products_in_orders = df_confirmed['product_id'].unique()\n",
    "products_in_orders"
   ]
  },
  {
   "cell_type": "code",
   "execution_count": 523,
   "metadata": {},
   "outputs": [
    {
     "data": {
      "text/plain": [
       "yes    1180\n",
       "no      497\n",
       "Name: is_in_orders, dtype: int64"
      ]
     },
     "execution_count": 523,
     "metadata": {},
     "output_type": "execute_result"
    }
   ],
   "source": [
    "df_products['is_in_orders'] = df_products['id'].apply(lambda x: 'yes' if x in products_in_orders else 'no')\n",
    "df_products['is_in_orders'].value_counts()"
   ]
  },
  {
   "cell_type": "markdown",
   "metadata": {},
   "source": [
    "## Шаг 18"
   ]
  },
  {
   "cell_type": "markdown",
   "metadata": {},
   "source": [
    "Примерно треть товаров не была заказана ни разу в этом месяце. Посмотрим на эти данные в разрезе по брендам. **Определите, у каких брендов доля ни разу не заказанных товаров была больше половины от всех продаваемых товаров этого бренда.** Но не берите в расчет бренды, которые представлены маленьким числом товаров (меньше 15), они не захламляют виртуальную «полку».\n",
    "\n",
    "Отметьте бренды, у которых доля ни разу не заказанных товаров была больше половины от всех продаваемых товаров этого бренда: \n",
    "- AKG  \n",
    "- ASUS\t\n",
    "- Dali  \n",
    "- Emotiva  \n",
    "- KEF  \n",
    "- Marantz  \n",
    "- Onkyo  \n",
    "- Pioneer  \n",
    "- Yaqin"
   ]
  },
  {
   "cell_type": "code",
   "execution_count": 568,
   "metadata": {},
   "outputs": [],
   "source": [
    "# Ваш код здесь\n",
    "df_products['brand'] = df_products['name'].apply(lambda x: x.split(',')[0])\n",
    "df_products_brand_isonord = df_products.groupby(['brand', 'is_in_orders']).id.nunique().reset_index()\n",
    "df_products_brand_isonord = pd.DataFrame(df_products_brand_isonord)\n",
    "df_products_brand_isonord = df_products_brand_isonord.rename(columns={'id' : 'products'})\n",
    "df_products_table = df_products_brand_isonord.pivot(index='brand', columns='is_in_orders', values='products').fillna(0)\n",
    "df_products_table = df_products_table.reset_index()\n",
    "df_products_table['total'] = df_products_table['yes'] + df_products_table['no']"
   ]
  },
  {
   "cell_type": "code",
   "execution_count": 572,
   "metadata": {},
   "outputs": [],
   "source": [
    "df_products_table['zero_order'] = df_products_table['no'] / df_products_table['total']\n",
    "df_products_table_succ = df_products_table.query('total > 15 & zero_order > 0.5')"
   ]
  },
  {
   "cell_type": "code",
   "execution_count": 573,
   "metadata": {},
   "outputs": [
    {
     "data": {
      "text/html": [
       "<div>\n",
       "<style scoped>\n",
       "    .dataframe tbody tr th:only-of-type {\n",
       "        vertical-align: middle;\n",
       "    }\n",
       "\n",
       "    .dataframe tbody tr th {\n",
       "        vertical-align: top;\n",
       "    }\n",
       "\n",
       "    .dataframe thead th {\n",
       "        text-align: right;\n",
       "    }\n",
       "</style>\n",
       "<table border=\"1\" class=\"dataframe\">\n",
       "  <thead>\n",
       "    <tr style=\"text-align: right;\">\n",
       "      <th>is_in_orders</th>\n",
       "      <th>brand</th>\n",
       "      <th>no</th>\n",
       "      <th>yes</th>\n",
       "      <th>total</th>\n",
       "      <th>zero_order</th>\n",
       "    </tr>\n",
       "  </thead>\n",
       "  <tbody>\n",
       "    <tr>\n",
       "      <th>32</th>\n",
       "      <td>Dali</td>\n",
       "      <td>49.0</td>\n",
       "      <td>18.0</td>\n",
       "      <td>67.0</td>\n",
       "      <td>0.731343</td>\n",
       "    </tr>\n",
       "    <tr>\n",
       "      <th>60</th>\n",
       "      <td>KEF</td>\n",
       "      <td>54.0</td>\n",
       "      <td>28.0</td>\n",
       "      <td>82.0</td>\n",
       "      <td>0.658537</td>\n",
       "    </tr>\n",
       "    <tr>\n",
       "      <th>77</th>\n",
       "      <td>Marantz</td>\n",
       "      <td>19.0</td>\n",
       "      <td>3.0</td>\n",
       "      <td>22.0</td>\n",
       "      <td>0.863636</td>\n",
       "    </tr>\n",
       "    <tr>\n",
       "      <th>94</th>\n",
       "      <td>Pioneer</td>\n",
       "      <td>70.0</td>\n",
       "      <td>33.0</td>\n",
       "      <td>103.0</td>\n",
       "      <td>0.679612</td>\n",
       "    </tr>\n",
       "  </tbody>\n",
       "</table>\n",
       "</div>"
      ],
      "text/plain": [
       "is_in_orders    brand    no   yes  total  zero_order\n",
       "32               Dali  49.0  18.0   67.0    0.731343\n",
       "60                KEF  54.0  28.0   82.0    0.658537\n",
       "77            Marantz  19.0   3.0   22.0    0.863636\n",
       "94            Pioneer  70.0  33.0  103.0    0.679612"
      ]
     },
     "execution_count": 573,
     "metadata": {},
     "output_type": "execute_result"
    }
   ],
   "source": [
    "df_products_table_succ"
   ]
  },
  {
   "cell_type": "markdown",
   "metadata": {},
   "source": [
    "### Составим отчет по продажам менеджеров"
   ]
  },
  {
   "cell_type": "markdown",
   "metadata": {},
   "source": [
    "## Шаг 19"
   ]
  },
  {
   "cell_type": "markdown",
   "metadata": {},
   "source": [
    "Чтобы компания знала, кого из менеджеров отдела продаж премировать, а с кем провести беседу по итогам месяца, **вас попросили сделать отчет по сделкам каждого менеджера**: сколько он оформил подтвержденных заказов и какую выручку они принесли. Но в абсолютных числах вклад каждого сотрудника может быть непонятен. **Поэтому посчитайте значения в процентах: какой % выручки от общей выручки за месяц приходится на каждого менеджера, и какой % заказов от общего числа заказов.** Посчитайте данные и визуализируйте результат, чтобы принимать решение о поощрении или проведении беседы с менеджерами было удобнее. Выберите верные ответы:\n",
    "\n",
    "- лучшим менеджером по % выручки стала Маргарита Камертонова  \n",
    "- лучшим менеджером по % заказов стала Маргарита Камертонова  \n",
    "- первая пятерка менеджеров по % выручки сильно ушла вперед от всех остальных (явно виден большой разрыв между каждым из первой пятерки и каждым из всех остальных менеджеров)  \n",
    "- в этом месяце нельзя выделить явную пятерку лидеров по % выручки, которые сильно оторвались от остальных  \n",
    "- лидер по % заказов реализовал более 16% заказов  \n",
    "- лидер по % заказов реализовал менее 16% заказов  \n",
    "- наихудшие показатели у Сергея Контрабасова  \n",
    "- наихудшие показатели у Аркадия Октавина  \n",
    "- Антон Скрипкин принес в 3 раза меньше выручки, чем Виктор Тромбонов  \n",
    "- Антон Скрипкин реализовал почти в 3 раза меньше заказов, чем Анастасия Дудкина"
   ]
  },
  {
   "cell_type": "code",
   "execution_count": 593,
   "metadata": {},
   "outputs": [
    {
     "data": {
      "text/html": [
       "<div>\n",
       "<style scoped>\n",
       "    .dataframe tbody tr th:only-of-type {\n",
       "        vertical-align: middle;\n",
       "    }\n",
       "\n",
       "    .dataframe tbody tr th {\n",
       "        vertical-align: top;\n",
       "    }\n",
       "\n",
       "    .dataframe thead th {\n",
       "        text-align: right;\n",
       "    }\n",
       "</style>\n",
       "<table border=\"1\" class=\"dataframe\">\n",
       "  <thead>\n",
       "    <tr style=\"text-align: right;\">\n",
       "      <th></th>\n",
       "      <th>revenue</th>\n",
       "      <th>orders</th>\n",
       "      <th>per_revenue</th>\n",
       "      <th>per_orders</th>\n",
       "    </tr>\n",
       "    <tr>\n",
       "      <th>manager</th>\n",
       "      <th></th>\n",
       "      <th></th>\n",
       "      <th></th>\n",
       "      <th></th>\n",
       "    </tr>\n",
       "  </thead>\n",
       "  <tbody>\n",
       "    <tr>\n",
       "      <th>Маргарита Камертонова</th>\n",
       "      <td>3.473886e+08</td>\n",
       "      <td>48</td>\n",
       "      <td>17.04</td>\n",
       "      <td>15.53</td>\n",
       "    </tr>\n",
       "    <tr>\n",
       "      <th>Виктор Тромбонов</th>\n",
       "      <td>3.188999e+08</td>\n",
       "      <td>50</td>\n",
       "      <td>15.65</td>\n",
       "      <td>16.18</td>\n",
       "    </tr>\n",
       "    <tr>\n",
       "      <th>Максим Барабанов</th>\n",
       "      <td>2.401478e+08</td>\n",
       "      <td>40</td>\n",
       "      <td>11.78</td>\n",
       "      <td>12.94</td>\n",
       "    </tr>\n",
       "    <tr>\n",
       "      <th>Владимир Ударников</th>\n",
       "      <td>2.084865e+08</td>\n",
       "      <td>31</td>\n",
       "      <td>10.23</td>\n",
       "      <td>10.03</td>\n",
       "    </tr>\n",
       "    <tr>\n",
       "      <th>Алексей Саксофонов</th>\n",
       "      <td>1.953435e+08</td>\n",
       "      <td>27</td>\n",
       "      <td>9.58</td>\n",
       "      <td>8.74</td>\n",
       "    </tr>\n",
       "    <tr>\n",
       "      <th>Ксения Балалайкина</th>\n",
       "      <td>1.817621e+08</td>\n",
       "      <td>27</td>\n",
       "      <td>8.92</td>\n",
       "      <td>8.74</td>\n",
       "    </tr>\n",
       "    <tr>\n",
       "      <th>Екатерина Тарелкина</th>\n",
       "      <td>1.781576e+08</td>\n",
       "      <td>28</td>\n",
       "      <td>8.74</td>\n",
       "      <td>9.06</td>\n",
       "    </tr>\n",
       "    <tr>\n",
       "      <th>Надежда Гармошкина</th>\n",
       "      <td>1.347836e+08</td>\n",
       "      <td>21</td>\n",
       "      <td>6.61</td>\n",
       "      <td>6.80</td>\n",
       "    </tr>\n",
       "    <tr>\n",
       "      <th>Анастасия Дудкина</th>\n",
       "      <td>1.234504e+08</td>\n",
       "      <td>20</td>\n",
       "      <td>6.06</td>\n",
       "      <td>6.47</td>\n",
       "    </tr>\n",
       "    <tr>\n",
       "      <th>Антон Скрипкин</th>\n",
       "      <td>5.150268e+07</td>\n",
       "      <td>7</td>\n",
       "      <td>2.53</td>\n",
       "      <td>2.27</td>\n",
       "    </tr>\n",
       "  </tbody>\n",
       "</table>\n",
       "</div>"
      ],
      "text/plain": [
       "                            revenue  orders  per_revenue  per_orders\n",
       "manager                                                             \n",
       "Маргарита Камертонова  3.473886e+08      48        17.04       15.53\n",
       "Виктор Тромбонов       3.188999e+08      50        15.65       16.18\n",
       "Максим Барабанов       2.401478e+08      40        11.78       12.94\n",
       "Владимир Ударников     2.084865e+08      31        10.23       10.03\n",
       "Алексей Саксофонов     1.953435e+08      27         9.58        8.74\n",
       "Ксения Балалайкина     1.817621e+08      27         8.92        8.74\n",
       "Екатерина Тарелкина    1.781576e+08      28         8.74        9.06\n",
       "Надежда Гармошкина     1.347836e+08      21         6.61        6.80\n",
       "Анастасия Дудкина      1.234504e+08      20         6.06        6.47\n",
       "Антон Скрипкин         5.150268e+07       7         2.53        2.27"
      ]
     },
     "execution_count": 593,
     "metadata": {},
     "output_type": "execute_result"
    }
   ],
   "source": [
    "# Ваш код здесь\n",
    "df_confirmed_manager = df_confirmed.groupby('manager').agg({'revenue': 'sum', 'order_id' : 'nunique'})\n",
    "df_confirmed_manager = df_confirmed_manager.rename(columns={'order_id' : 'orders'})\n",
    "df_confirmed_manager = df_confirmed_manager.sort_values(by='revenue',ascending=False)\n",
    "all_revenue_manager = df_confirmed_manager.revenue.sum()\n",
    "all_orders_manager = df_confirmed_manager.orders.sum()\n",
    "df_confirmed_manager['per_revenue'] = round(df_confirmed_manager['revenue'] / all_revenue_manager * 100, 2)\n",
    "df_confirmed_manager['per_orders'] = round(df_confirmed_manager['orders'] / all_orders_manager * 100, 2)\n",
    "df_confirmed_manager.reset_index()\n",
    "df_confirmed_manager.head(10)"
   ]
  },
  {
   "cell_type": "code",
   "execution_count": 582,
   "metadata": {},
   "outputs": [
    {
     "data": {
      "text/plain": [
       "2038231821.5648634"
      ]
     },
     "execution_count": 582,
     "metadata": {},
     "output_type": "execute_result"
    }
   ],
   "source": [
    "all_revenue_manager"
   ]
  },
  {
   "cell_type": "code",
   "execution_count": 594,
   "metadata": {},
   "outputs": [
    {
     "data": {
      "text/plain": [
       "Index(['revenue', 'orders', 'per_revenue', 'per_orders'], dtype='object')"
      ]
     },
     "execution_count": 594,
     "metadata": {},
     "output_type": "execute_result"
    }
   ],
   "source": []
  },
  {
   "cell_type": "code",
   "execution_count": 596,
   "metadata": {},
   "outputs": [
    {
     "data": {
      "text/plain": [
       "(array([ 0,  1,  2,  3,  4,  5,  6,  7,  8,  9, 10, 11]),\n",
       " <a list of 12 Text major ticklabel objects>)"
      ]
     },
     "execution_count": 596,
     "metadata": {},
     "output_type": "execute_result"
    },
    {
     "data": {
      "image/png": "[encoded data removed]",
      "text/plain": [
       "<Figure size 432x288 with 1 Axes>"
      ]
     },
     "metadata": {},
     "output_type": "display_data"
    }
   ],
   "source": [
    "sns.barplot(x=df_confirmed_manager.index, y='per_revenue', data=df_confirmed_manager)\n",
    "plt.xticks(rotation=90)"
   ]
  },
  {
   "cell_type": "code",
   "execution_count": 598,
   "metadata": {},
   "outputs": [
    {
     "data": {
      "text/plain": [
       "(array([ 0,  1,  2,  3,  4,  5,  6,  7,  8,  9, 10, 11]),\n",
       " <a list of 12 Text major ticklabel objects>)"
      ]
     },
     "execution_count": 598,
     "metadata": {},
     "output_type": "execute_result"
    },
    {
     "data": {
      "image/png": "[encoded data removed]",
      "text/plain": [
       "<Figure size 432x288 with 1 Axes>"
      ]
     },
     "metadata": {},
     "output_type": "display_data"
    }
   ],
   "source": [
    "sns.barplot(x=df_confirmed_manager.index, y='per_orders', data=df_confirmed_manager)\n",
    "plt.xticks(rotation=90)"
   ]
  },
  {
   "cell_type": "markdown",
   "metadata": {},
   "source": [
    "## Итоги"
   ]
  },
  {
   "cell_type": "markdown",
   "metadata": {},
   "source": [
    "В финальном проекте модуля Python вы проанализировали продажи музыкальных товаров: собрали данные, посчитали ключевые метрики в динамике; определили дни, которые выбиваются из общей картины, и выяснили причину этого; нашли наиболее прибыльные бренды и те, которые зря занимают место на виртуальной «полке». Вы проделали отличную работу!\n",
    "\n",
    "Но если считаете, что можете больше, продолжайте анализ имеющихся данных самостоятельно. Например, посмотрите, в какие дни недели оформляется в среднем больше заказов; составьте более полный отчет по продажам каждого менеджера (учтите отмененные заказы); определите наиболее и наименее популярные/прибыльные категории товаров и т.п. Данные полны инсайтов! Но эти задания не оцениваются и по ним не осуществляется поддержка экспертов. Зато вы можете сделать эту работу своим пет-проектом :)"
   ]
  }
 ],
 "metadata": {
  "kernelspec": {
   "display_name": "Python 3",
   "language": "python",
   "name": "python3"
  },
  "language_info": {
   "codemirror_mode": {
    "name": "ipython",
    "version": 3
   },
   "file_extension": ".py",
   "mimetype": "text/x-python",
   "name": "python",
   "nbconvert_exporter": "python",
   "pygments_lexer": "ipython3",
   "version": "3.7.3"
  }
 },
 "nbformat": 4,
 "nbformat_minor": 5
}
