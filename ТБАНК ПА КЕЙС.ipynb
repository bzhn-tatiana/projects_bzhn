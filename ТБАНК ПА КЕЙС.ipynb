{
 "cells": [
  {
   "cell_type": "code",
   "execution_count": null,
   "metadata": {},
   "outputs": [],
   "source": [
    "import pandas as pd\n",
    "import numpy as np\n",
    "import seaborn as sns\n",
    "import matplotlib.pyplot as plt\n",
    "import plotly.express as px\n",
    "from datetime import datetime"
   ]
  },
  {
   "cell_type": "code",
   "execution_count": null,
   "metadata": {},
   "outputs": [],
   "source": [
    "df = pd.read_csv('kicksharing.csv', sep = ',', encoding ='utf-8')"
   ]
  },
  {
   "cell_type": "markdown",
   "metadata": {},
   "source": [
    "**Т-Банк: поездки на самокатах**\n",
    "\n",
    "Т-Город — это группа сервисов, которые помогают пользователям решать ежедневные\n",
    "задачи. Например, есть сервисы, которые позволяют купить билеты в кино или заказать\n",
    "продукты и так далее. В частности, существует сервис для аренды электросамокатов\n",
    "«Самокаты» — именно ему посвящена данная база.\n",
    "Сервис позволяет воспользоваться самокатом от Юрента через приложение Т-Банка.\n",
    "Чтобы арендовать самокат, клиенту необходимо зайти в приложение, открыть сервис\n",
    "«Самокаты» и отсканировать QR-код на руле самоката. В этот момент у клиента\n",
    "со счета списывается фиксированная сумма в качестве взноса. В конце поездки\n",
    "также списывается итоговая сумма за поездку.\n",
    "Данные охватывают сезон аренды самокатов 2024 года (с апреля по октябрь 2024).\n",
    "Стоимость минуты и стоимость поездки измеряется в условных денежных единицах\n",
    "\n",
    "\n",
    "\n",
    "***Описание***\n",
    "\n",
    "order_rk Идентификатор заказа (поездки)\n",
    "\n",
    "party_rk_id Идентификатор клиента\n",
    "\n",
    "minute_cost Стоимость минуты\n",
    "\n",
    "hold_amount Размер суммы, которая замораживается на счете в момент\n",
    "взятия самоката\n",
    "\n",
    "transport_model Название модели самоката\n",
    "\n",
    "distance_km Километраж поездки\n",
    "\n",
    "created_dttm Дата и время создания заказа\n",
    "\n",
    "book_start_dttm Дата и время начала поездки\n",
    "\n",
    "book_end_dttm Дата и время завершения поездки\n",
    "\n",
    "book_time_zone_cd Часовой пояс\n",
    "\n",
    "local_book_start_dttm Дата и время начала поездки в часовом поясе человека,\n",
    "который брал самокат\n",
    "\n",
    "nominal_price_rub_amt Стоимость поездки\n",
    "\n",
    "loyalty_accrual_rub_amt Размер выплаченного кэшбэка в рублях\n",
    "\n",
    "loyalty_accrual_bns_amt Размер выплаченного кэшбэка в бонусах (если оплата\n",
    "происходила с помощью кредитной карты)\n",
    "\n",
    "Gender_cd Пол клиента\n",
    "\n",
    "Age Возраст клиента\n",
    "\n",
    "*забыли добавить описание в файле activation_cost, скорее всего это\n",
    "\n",
    "activation_cost - стоимость активации самоката(фиксированная сумма взноса)\n",
    "\n",
    "\n",
    "***Education_level Уровень образования клиента:***\n",
    "\n",
    "SCH — начальное, среднее\n",
    "\n",
    "GRD — высшее\n",
    "\n",
    "UGR — неполное высшее\n",
    "\n",
    "PGR — два высших\n",
    "\n",
    "ACD — ученая степень\n",
    "\n",
    "\n",
    "lvn_state_nm Регион проживания человека\n",
    "\n",
    "\n",
    "***marital_status_cd Семейный статус человека:***\n",
    "\n",
    "IMR — состоит в незарегистрированном браке\n",
    "\n",
    "MAR —женат/замужем\n",
    "\n",
    "DLW — не проживает с супругом(ой)\n",
    "\n",
    "OMR — состоит в зарегистрированном браке\n",
    "\n",
    "CIV — гражданский брак\n",
    "\n",
    "UNM — холост/не замужем\n",
    "\n",
    "DIV — разведен(а)\n",
    "\n",
    "FAL — никогда не состоял(а) в браке\n",
    "\n",
    "WID — вдовец/вдова"
   ]
  },
  {
   "cell_type": "code",
   "execution_count": null,
   "metadata": {},
   "outputs": [],
   "source": [
    "df['created_dttm'] = pd.to_datetime(df['created_dttm'])\n",
    "df['book_start_dttm'] = pd.to_datetime(df['book_start_dttm'])\n",
    "df['book_end_dttm'] = pd.to_datetime(df['book_end_dttm'])\n",
    "df['local_book_start_dttm'] = pd.to_datetime(df['local_book_start_dttm'])\n",
    "df['created_dttm'] = pd.to_datetime(df['created_dttm'])\n",
    "df['created_dttm'] = pd.to_datetime(df['created_dttm'])"
   ]
  },
  {
   "cell_type": "code",
   "execution_count": null,
   "metadata": {},
   "outputs": [],
   "source": [
    "df.duplicated().any()"
   ]
  },
  {
   "cell_type": "code",
   "execution_count": null,
   "metadata": {},
   "outputs": [],
   "source": [
    "df.head()"
   ]
  },
  {
   "cell_type": "code",
   "execution_count": null,
   "metadata": {},
   "outputs": [],
   "source": [
    "df['book_time_zone_cd'] = df['book_time_zone_cd'].astype(str)\n",
    "df['order_rk'] = df['order_rk'].astype(str)\n",
    "df['party_rk'] = df['party_rk'].astype(str)"
   ]
  },
  {
   "cell_type": "code",
   "execution_count": null,
   "metadata": {},
   "outputs": [],
   "source": [
    "df.info()"
   ]
  },
  {
   "cell_type": "code",
   "execution_count": null,
   "metadata": {},
   "outputs": [],
   "source": [
    "df.shape[0]"
   ]
  },
  {
   "cell_type": "code",
   "execution_count": null,
   "metadata": {},
   "outputs": [],
   "source": [
    "df.isnull().sum()"
   ]
  },
  {
   "cell_type": "markdown",
   "metadata": {},
   "source": [
    "***Посмотрим, в каждом столбце какой процент пропуски составляют от всего количества***"
   ]
  },
  {
   "cell_type": "markdown",
   "metadata": {},
   "source": [
    "Поскольку процент пропусков маленький, лучше заполнить пропуски значением \"Unknown\""
   ]
  },
  {
   "cell_type": "code",
   "execution_count": null,
   "metadata": {},
   "outputs": [],
   "source": [
    "null_gender = df['gender_cd'].isnull().sum()\n",
    "percent_null_gender = round(null_gender / df.shape[0] *100,2)\n",
    "print(f'Процент пропуска по колонке \"Пол клиента\" составляет {percent_null_gender}%')"
   ]
  },
  {
   "cell_type": "code",
   "execution_count": null,
   "metadata": {},
   "outputs": [],
   "source": [
    "df['gender_cd'].fillna('Unknown', inplace=True)"
   ]
  },
  {
   "cell_type": "markdown",
   "metadata": {},
   "source": [
    "В столбце \"Уровень образования клиента\" процент пропусков значительный, следовательно, лучше тоже заполнить значением \"Unknown\""
   ]
  },
  {
   "cell_type": "code",
   "execution_count": null,
   "metadata": {},
   "outputs": [],
   "source": [
    "null_education_level_cd = df['education_level_cd'].isnull().sum()\n",
    "percent_null_education_level_cd = round(null_education_level_cd / df.shape[0] *100,2)\n",
    "print(f'Процент пропуска по колонке \"Уровень образования клиента\" составляет {percent_null_education_level_cd}%')"
   ]
  },
  {
   "cell_type": "code",
   "execution_count": null,
   "metadata": {},
   "outputs": [],
   "source": [
    "df['education_level_cd'].fillna('Unknown', inplace=True)"
   ]
  },
  {
   "cell_type": "markdown",
   "metadata": {},
   "source": [
    "Аналогично предыдущему варианту, \"Семейный статус человека\" лучше тоже заполнить значением \"Unknown\"(пропуск может быть связан с тем, что клиент не захотел о себе оставлять эту информацию, а не из-за утери данных)"
   ]
  },
  {
   "cell_type": "code",
   "execution_count": null,
   "metadata": {},
   "outputs": [],
   "source": [
    "null_marital_status_cd = df['marital_status_cd'].isnull().sum()\n",
    "percent_null_marital_status_cd = round(null_marital_status_cd / df.shape[0] *100,2)\n",
    "print(f'Процент пропуска по колонке \"Семейный статус человека\" составляет {percent_null_marital_status_cd}%')"
   ]
  },
  {
   "cell_type": "code",
   "execution_count": null,
   "metadata": {},
   "outputs": [],
   "source": [
    "df['marital_status_cd'].fillna('Unknown', inplace=True)"
   ]
  },
  {
   "cell_type": "markdown",
   "metadata": {},
   "source": [
    "В случае с регионом сравнительно небольшой процент пропусков, значит, можно заполнить модой"
   ]
  },
  {
   "cell_type": "code",
   "execution_count": null,
   "metadata": {},
   "outputs": [],
   "source": [
    "null_lvn_state_nm = df['lvn_state_nm'].isnull().sum()\n",
    "percent_null_lvn_state_nm = round(null_lvn_state_nm / df.shape[0] *100,2)\n",
    "print(f'Процент пропуска по колонке \"Регион проживания человека\" составляет {percent_null_lvn_state_nm}%')"
   ]
  },
  {
   "cell_type": "code",
   "execution_count": null,
   "metadata": {},
   "outputs": [],
   "source": [
    "mode_value = df['lvn_state_nm'].mode()[0]\n",
    "print(mode_value)"
   ]
  },
  {
   "cell_type": "code",
   "execution_count": null,
   "metadata": {},
   "outputs": [],
   "source": [
    "df['education_level_cd'].fillna(mode_value, inplace=True)"
   ]
  },
  {
   "cell_type": "markdown",
   "metadata": {},
   "source": [
    "Скорее всего, можем предположить, что пропуски в колонке \"Размер выплаченного кэшбэка в рублях \" означает, что кэшбек не начислялся за поездку, поэтому вместо пропуска можем проставить значение \"0\"."
   ]
  },
  {
   "cell_type": "code",
   "execution_count": null,
   "metadata": {},
   "outputs": [],
   "source": [
    "null_loyalty_accrual_rub_amt = df['loyalty_accrual_rub_amt'].isnull().sum()\n",
    "percent_null_loyalty_accrual_rub_amt = round(null_loyalty_accrual_rub_amt / df.shape[0] *100,2)\n",
    "print(f'Процент пропуска по колонке \"Размер выплаченного кэшбэка в рублях \" составляет {percent_null_education_level_cd}%')"
   ]
  },
  {
   "cell_type": "code",
   "execution_count": null,
   "metadata": {},
   "outputs": [],
   "source": [
    "df['education_level_cd'].fillna(0, inplace=True)"
   ]
  },
  {
   "cell_type": "markdown",
   "metadata": {},
   "source": [
    "И в заключении, поскольку процент пропусков в столбце \"Размер выплаченного кэшбэка в бонусах (если оплата происходила с помощью кредитной карты)\" очень большой, заменим их значением \"0\""
   ]
  },
  {
   "cell_type": "code",
   "execution_count": null,
   "metadata": {},
   "outputs": [],
   "source": [
    "null_loyalty_accrual_bns_amt = df['loyalty_accrual_bns_amt'].isnull().sum()\n",
    "percent_null_loyalty_accrual_bns_amt = round(null_loyalty_accrual_bns_amt / df.shape[0] *100,2)\n",
    "print(f'Процент пропуска по колонке \"Размер выплаченного кэшбэка в бонусах (если оплата происходила с помощью кредитной карты)\" {percent_null_loyalty_accrual_bns_amt}%')"
   ]
  },
  {
   "cell_type": "code",
   "execution_count": null,
   "metadata": {},
   "outputs": [],
   "source": [
    "df['loyalty_accrual_bns_amt'].fillna(0, inplace=True)"
   ]
  },
  {
   "cell_type": "code",
   "execution_count": null,
   "metadata": {},
   "outputs": [],
   "source": [
    "df['loyalty_accrual_bns_amt'] = df['loyalty_accrual_bns_amt'].astype(float)"
   ]
  },
  {
   "cell_type": "code",
   "execution_count": null,
   "metadata": {},
   "outputs": [],
   "source": [
    "df.info()"
   ]
  },
  {
   "cell_type": "markdown",
   "metadata": {},
   "source": [
    "Посчитаем описательные характеристики по всем переменным и построим матрицу корреляции, чтобы посмотреть, какую силу связи между собой имеют числовые переменные(сила может быть положительной, отрицательной или вовсе ее не быть)."
   ]
  },
  {
   "cell_type": "code",
   "execution_count": null,
   "metadata": {},
   "outputs": [],
   "source": [
    "cor_matrix = df[df.select_dtypes(include=['number']).columns].corr()\n",
    "plt.figure(figsize=(10, 8))\n",
    "sns.heatmap(cor_matrix, annot=True, fmt=\".2f\", cmap='coolwarm')\n",
    "plt.title('Матрица корреляций')\n",
    "plt.show()"
   ]
  },
  {
   "cell_type": "markdown",
   "metadata": {},
   "source": [
    "**Какие выводы можно сделать, глядя на матрицу корреляции**:\n",
    "- *отрицательной корреляции между переменными нет вообще*;\n",
    "- *самые сильные положительные корреляции наблюдаются между*:\n",
    "  - Стоимостью поездки и размером выплаченного кэшбэка в рублях(что логично - чем больше оплата, тем больше кэшбек);\n",
    "  - Стоимостью минуты поездки и стоимостью активации самоката."
   ]
  },
  {
   "cell_type": "code",
   "execution_count": null,
   "metadata": {},
   "outputs": [],
   "source": [
    "df.describe()"
   ]
  },
  {
   "cell_type": "markdown",
   "metadata": {},
   "source": [
    "Какие выводы можно сделать по описательным статистикам числовых переменных:\n",
    "- средний возраст пользователя самокатом около 31 года(т.к. среднее и медиана близки по значению, можем сделать вывод, что по этим данных сильных выбросов нет), в основном пользователями являются люди от 24 ло 37 лет;\n",
    "- средняя стоимость минуты поездки на самокате варьируется от 7 до 8 рублей(т.к. среднее и медиана близки по значению, можем сделать вывод, что по этим данных также нет сильных выбросов);\n",
    "- средняя стоимость активации от 42 до 50 рублей;\n",
    "- средний километраж поездки составляет от 1.5 до 3 км, ондако заметим, что есть очень большой выброс, а именно - максимальное значение(56012 км, для сравнения - длина экватора 40 000 км), стоит обратить внимание на данный момент, хоть и большая часть данных находится в разумных пределах(если смотреть на квантили);\n",
    "- средняя стоимость поездки варьируется от 100 жо 130 рублей;\n",
    "- стоит обратить внимание на минимальное значение размера выплаченного кэшбека, он отрицательный, о чем это может нам говорить? нужно подумать об этом.\n"
   ]
  },
  {
   "cell_type": "markdown",
   "metadata": {},
   "source": [
    "Поскольку во всем исследовании нас интересует, как можно улучшить показатели продукта и масштабировать его, необходимо определиться с целевой переменной. Чаще всего, в качестве такой переменной берут какой - то денежный показатель,и можем предположить, что правильнее всего в качестве целевой будет взять переменную **Стоимость поездки(nominal_price_rub_amt)**."
   ]
  },
  {
   "cell_type": "markdown",
   "metadata": {},
   "source": [
    "Попробуем сформулировать предположения, которые будем тестировать.\n",
    "1. Выдвинем гипотезу о связи между стоимостью поездки и размером выплаченного кэшбэка в рублях\n",
    "  - $H_0$: взаимосвязи между переменными нет \n",
    "  - $H_1$: взаимосвязь есть"
   ]
  },
  {
   "cell_type": "code",
   "execution_count": null,
   "metadata": {},
   "outputs": [],
   "source": [
    "from scipy.stats import chi2_contingency, chi2 "
   ]
  },
  {
   "cell_type": "code",
   "execution_count": null,
   "metadata": {},
   "outputs": [],
   "source": [
    "stat, p, dof, expected = chi2_contingency(pd.crosstab(df.nominal_price_rub_amt, df.loyalty_accrual_rub_amt))\n",
    "print(f'stat = {stat}, p-value = {p}')"
   ]
  },
  {
   "cell_type": "code",
   "execution_count": null,
   "metadata": {},
   "outputs": [],
   "source": [
    "prob = 0.95\n",
    "alpha = 1.0 - prob\n",
    "if p <= alpha:\n",
    "    print('Отклоняем H0')\n",
    "else:\n",
    "    print('Не отклоняем H0')"
   ]
  },
  {
   "cell_type": "code",
   "execution_count": null,
   "metadata": {},
   "outputs": [],
   "source": []
  },
  {
   "cell_type": "code",
   "execution_count": null,
   "metadata": {},
   "outputs": [],
   "source": []
  }
 ],
 "metadata": {
  "kernelspec": {
   "display_name": "Python 3",
   "language": "python",
   "name": "python3"
  },
  "language_info": {
   "codemirror_mode": {
    "name": "ipython",
    "version": 3
   },
   "file_extension": ".py",
   "mimetype": "text/x-python",
   "name": "python",
   "nbconvert_exporter": "python",
   "pygments_lexer": "ipython3",
   "version": "3.7.3"
  }
 },
 "nbformat": 4,
 "nbformat_minor": 4
}
